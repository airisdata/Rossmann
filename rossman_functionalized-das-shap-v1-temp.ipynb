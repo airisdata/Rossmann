{
 "cells": [
  {
   "cell_type": "markdown",
   "metadata": {},
   "source": [
    "# Modified Bismayan's recoding of Rossmann POC\n",
    "- Changed cat and cont features\n",
    "- Trying to added SHAP DeepExplainer interpretability\n",
    "\n",
    "## Initial Imports"
   ]
  },
  {
   "cell_type": "code",
   "execution_count": 1,
   "metadata": {
    "ExecuteTime": {
     "end_time": "2019-01-23T15:53:32.987220Z",
     "start_time": "2019-01-23T15:53:31.501127Z"
    }
   },
   "outputs": [],
   "source": [
    "%matplotlib inline\n",
    "%reload_ext autoreload\n",
    "%autoreload 2\n",
    "\n",
    "import warnings\n",
    "warnings.filterwarnings('ignore')\n",
    "import matplotlib.pyplot as plt\n",
    "import pandas as pd\n",
    "from isoweek import Week\n",
    "import random,pickle\n",
    "import numpy as np\n",
    "import datetime\n",
    "from pandas_summary import DataFrameSummary\n",
    "import feather\n",
    "import h5py\n",
    "from functools import partial\n",
    "\n",
    "from tensorflow.keras.layers import Input, Dense, Dropout, Flatten, Embedding,Concatenate,BatchNormalization\n",
    "from tensorflow.keras.models import Model\n",
    "\n",
    "from tensorflow.keras.optimizers import Adam, SGD,RMSprop\n",
    "\n",
    "#das display cell's full output, not just last result\n",
    "from IPython.core.interactiveshell import InteractiveShell\n",
    "InteractiveShell.ast_node_interactivity = \"all\"\n"
   ]
  },
  {
   "cell_type": "markdown",
   "metadata": {},
   "source": [
    "## Setting Paths"
   ]
  },
  {
   "cell_type": "code",
   "execution_count": 2,
   "metadata": {
    "ExecuteTime": {
     "end_time": "2019-01-23T15:53:40.158286Z",
     "start_time": "2019-01-23T15:53:40.139698Z"
    }
   },
   "outputs": [],
   "source": [
    "#das\n",
    "#data_path=\"/media/2tb_hdd/deeplearning_data/rossmann_data/\"\n",
    "#file_save_path=\"/media/2tb_hdd/deeplearning_data/rossmann_data/\"\n",
    "#weights_save_path=\"/media/2tb_hdd/deeplearning_data/rossmann_data/saved_weights/\"\n",
    "\n",
    "submissions_path=\"./submissions/\"\n",
    "#data_path=\"/mnt/disks/data_disk/rossmann_data/\"\n",
    "#file_save_path=\"/mnt/disks/data_disk/rossmann_data/bismayan_files/\"\n",
    "\n",
    "\n",
    "#data_path=\"/media/2tb_hdd/deeplearning_data/rossmann_data/\"\n",
    "#file_save_path=\"/media/2tb_hdd/deeplearning_data/rossmann_data/\"\n",
    "weights_save_path=\"/mnt/disks/data_disk/rossmann_data/darek_files/saved_weights/\"\n",
    "data_path=\"/mnt/disks/data_disk/rossmann_data/\"\n",
    "file_save_path=\"/mnt/disks/data_disk/rossmann_data/darek_files/\""
   ]
  },
  {
   "cell_type": "markdown",
   "metadata": {
    "heading_collapsed": true
   },
   "source": [
    "## Data Prep Section (Skip after first iteration)"
   ]
  },
  {
   "cell_type": "markdown",
   "metadata": {
    "hidden": true
   },
   "source": [
    "### Getting the Main Data Files"
   ]
  },
  {
   "cell_type": "markdown",
   "metadata": {
    "hidden": true
   },
   "source": [
    "In addition to the provided data, we will be using external datasets put together by participants in the Kaggle competition. \n"
   ]
  },
  {
   "cell_type": "markdown",
   "metadata": {
    "hidden": true
   },
   "source": [
    "Feature Space:\n",
    "* train: Training set provided by competition\n",
    "* store: List of stores\n",
    "* store_states: mapping of store to the German state they are in\n",
    "* List of German state names\n",
    "* googletrend: trend of certain google keywords over time, found by users to correlate well w/ given data\n",
    "* weather: weather\n",
    "* test: testing set"
   ]
  },
  {
   "cell_type": "code",
   "execution_count": 54,
   "metadata": {
    "hidden": true
   },
   "outputs": [],
   "source": [
    "table_names = ['train', 'store', 'store_states', 'state_names', \n",
    "               'googletrend', 'weather', 'test']"
   ]
  },
  {
   "cell_type": "code",
   "execution_count": 5,
   "metadata": {
    "hidden": true
   },
   "outputs": [],
   "source": [
    "tables = {fname:pd.read_csv(f'{data_path}{fname}.csv', low_memory=False) for fname in table_names}"
   ]
  },
  {
   "cell_type": "code",
   "execution_count": 6,
   "metadata": {
    "hidden": true,
    "pixiedust": {
     "displayParams": {}
    }
   },
   "outputs": [
    {
     "data": {
      "text/plain": [
       "' First 5 lines for Table Name=train'"
      ]
     },
     "metadata": {},
     "output_type": "display_data"
    },
    {
     "data": {
      "text/html": [
       "<div>\n",
       "<style scoped>\n",
       "    .dataframe tbody tr th:only-of-type {\n",
       "        vertical-align: middle;\n",
       "    }\n",
       "\n",
       "    .dataframe tbody tr th {\n",
       "        vertical-align: top;\n",
       "    }\n",
       "\n",
       "    .dataframe thead th {\n",
       "        text-align: right;\n",
       "    }\n",
       "</style>\n",
       "<table border=\"1\" class=\"dataframe\">\n",
       "  <thead>\n",
       "    <tr style=\"text-align: right;\">\n",
       "      <th></th>\n",
       "      <th>Store</th>\n",
       "      <th>DayOfWeek</th>\n",
       "      <th>Date</th>\n",
       "      <th>Sales</th>\n",
       "      <th>Customers</th>\n",
       "      <th>Open</th>\n",
       "      <th>Promo</th>\n",
       "      <th>StateHoliday</th>\n",
       "      <th>SchoolHoliday</th>\n",
       "    </tr>\n",
       "  </thead>\n",
       "  <tbody>\n",
       "    <tr>\n",
       "      <th>0</th>\n",
       "      <td>1</td>\n",
       "      <td>5</td>\n",
       "      <td>2015-07-31</td>\n",
       "      <td>5263</td>\n",
       "      <td>555</td>\n",
       "      <td>1</td>\n",
       "      <td>1</td>\n",
       "      <td>0</td>\n",
       "      <td>1</td>\n",
       "    </tr>\n",
       "    <tr>\n",
       "      <th>1</th>\n",
       "      <td>2</td>\n",
       "      <td>5</td>\n",
       "      <td>2015-07-31</td>\n",
       "      <td>6064</td>\n",
       "      <td>625</td>\n",
       "      <td>1</td>\n",
       "      <td>1</td>\n",
       "      <td>0</td>\n",
       "      <td>1</td>\n",
       "    </tr>\n",
       "    <tr>\n",
       "      <th>2</th>\n",
       "      <td>3</td>\n",
       "      <td>5</td>\n",
       "      <td>2015-07-31</td>\n",
       "      <td>8314</td>\n",
       "      <td>821</td>\n",
       "      <td>1</td>\n",
       "      <td>1</td>\n",
       "      <td>0</td>\n",
       "      <td>1</td>\n",
       "    </tr>\n",
       "    <tr>\n",
       "      <th>3</th>\n",
       "      <td>4</td>\n",
       "      <td>5</td>\n",
       "      <td>2015-07-31</td>\n",
       "      <td>13995</td>\n",
       "      <td>1498</td>\n",
       "      <td>1</td>\n",
       "      <td>1</td>\n",
       "      <td>0</td>\n",
       "      <td>1</td>\n",
       "    </tr>\n",
       "    <tr>\n",
       "      <th>4</th>\n",
       "      <td>5</td>\n",
       "      <td>5</td>\n",
       "      <td>2015-07-31</td>\n",
       "      <td>4822</td>\n",
       "      <td>559</td>\n",
       "      <td>1</td>\n",
       "      <td>1</td>\n",
       "      <td>0</td>\n",
       "      <td>1</td>\n",
       "    </tr>\n",
       "  </tbody>\n",
       "</table>\n",
       "</div>"
      ],
      "text/plain": [
       "   Store  DayOfWeek        Date  Sales  Customers  Open  Promo StateHoliday  \\\n",
       "0      1          5  2015-07-31   5263        555     1      1            0   \n",
       "1      2          5  2015-07-31   6064        625     1      1            0   \n",
       "2      3          5  2015-07-31   8314        821     1      1            0   \n",
       "3      4          5  2015-07-31  13995       1498     1      1            0   \n",
       "4      5          5  2015-07-31   4822        559     1      1            0   \n",
       "\n",
       "   SchoolHoliday  \n",
       "0              1  \n",
       "1              1  \n",
       "2              1  \n",
       "3              1  \n",
       "4              1  "
      ]
     },
     "metadata": {},
     "output_type": "display_data"
    },
    {
     "data": {
      "text/plain": [
       "' First 5 lines for Table Name=store'"
      ]
     },
     "metadata": {},
     "output_type": "display_data"
    },
    {
     "data": {
      "text/html": [
       "<div>\n",
       "<style scoped>\n",
       "    .dataframe tbody tr th:only-of-type {\n",
       "        vertical-align: middle;\n",
       "    }\n",
       "\n",
       "    .dataframe tbody tr th {\n",
       "        vertical-align: top;\n",
       "    }\n",
       "\n",
       "    .dataframe thead th {\n",
       "        text-align: right;\n",
       "    }\n",
       "</style>\n",
       "<table border=\"1\" class=\"dataframe\">\n",
       "  <thead>\n",
       "    <tr style=\"text-align: right;\">\n",
       "      <th></th>\n",
       "      <th>Store</th>\n",
       "      <th>StoreType</th>\n",
       "      <th>Assortment</th>\n",
       "      <th>CompetitionDistance</th>\n",
       "      <th>CompetitionOpenSinceMonth</th>\n",
       "      <th>CompetitionOpenSinceYear</th>\n",
       "      <th>Promo2</th>\n",
       "      <th>Promo2SinceWeek</th>\n",
       "      <th>Promo2SinceYear</th>\n",
       "      <th>PromoInterval</th>\n",
       "    </tr>\n",
       "  </thead>\n",
       "  <tbody>\n",
       "    <tr>\n",
       "      <th>0</th>\n",
       "      <td>1</td>\n",
       "      <td>c</td>\n",
       "      <td>a</td>\n",
       "      <td>1270.0</td>\n",
       "      <td>9.0</td>\n",
       "      <td>2008.0</td>\n",
       "      <td>0</td>\n",
       "      <td>NaN</td>\n",
       "      <td>NaN</td>\n",
       "      <td>NaN</td>\n",
       "    </tr>\n",
       "    <tr>\n",
       "      <th>1</th>\n",
       "      <td>2</td>\n",
       "      <td>a</td>\n",
       "      <td>a</td>\n",
       "      <td>570.0</td>\n",
       "      <td>11.0</td>\n",
       "      <td>2007.0</td>\n",
       "      <td>1</td>\n",
       "      <td>13.0</td>\n",
       "      <td>2010.0</td>\n",
       "      <td>Jan,Apr,Jul,Oct</td>\n",
       "    </tr>\n",
       "    <tr>\n",
       "      <th>2</th>\n",
       "      <td>3</td>\n",
       "      <td>a</td>\n",
       "      <td>a</td>\n",
       "      <td>14130.0</td>\n",
       "      <td>12.0</td>\n",
       "      <td>2006.0</td>\n",
       "      <td>1</td>\n",
       "      <td>14.0</td>\n",
       "      <td>2011.0</td>\n",
       "      <td>Jan,Apr,Jul,Oct</td>\n",
       "    </tr>\n",
       "    <tr>\n",
       "      <th>3</th>\n",
       "      <td>4</td>\n",
       "      <td>c</td>\n",
       "      <td>c</td>\n",
       "      <td>620.0</td>\n",
       "      <td>9.0</td>\n",
       "      <td>2009.0</td>\n",
       "      <td>0</td>\n",
       "      <td>NaN</td>\n",
       "      <td>NaN</td>\n",
       "      <td>NaN</td>\n",
       "    </tr>\n",
       "    <tr>\n",
       "      <th>4</th>\n",
       "      <td>5</td>\n",
       "      <td>a</td>\n",
       "      <td>a</td>\n",
       "      <td>29910.0</td>\n",
       "      <td>4.0</td>\n",
       "      <td>2015.0</td>\n",
       "      <td>0</td>\n",
       "      <td>NaN</td>\n",
       "      <td>NaN</td>\n",
       "      <td>NaN</td>\n",
       "    </tr>\n",
       "  </tbody>\n",
       "</table>\n",
       "</div>"
      ],
      "text/plain": [
       "   Store StoreType Assortment  CompetitionDistance  CompetitionOpenSinceMonth  \\\n",
       "0      1         c          a               1270.0                        9.0   \n",
       "1      2         a          a                570.0                       11.0   \n",
       "2      3         a          a              14130.0                       12.0   \n",
       "3      4         c          c                620.0                        9.0   \n",
       "4      5         a          a              29910.0                        4.0   \n",
       "\n",
       "   CompetitionOpenSinceYear  Promo2  Promo2SinceWeek  Promo2SinceYear  \\\n",
       "0                    2008.0       0              NaN              NaN   \n",
       "1                    2007.0       1             13.0           2010.0   \n",
       "2                    2006.0       1             14.0           2011.0   \n",
       "3                    2009.0       0              NaN              NaN   \n",
       "4                    2015.0       0              NaN              NaN   \n",
       "\n",
       "     PromoInterval  \n",
       "0              NaN  \n",
       "1  Jan,Apr,Jul,Oct  \n",
       "2  Jan,Apr,Jul,Oct  \n",
       "3              NaN  \n",
       "4              NaN  "
      ]
     },
     "metadata": {},
     "output_type": "display_data"
    },
    {
     "data": {
      "text/plain": [
       "' First 5 lines for Table Name=store_states'"
      ]
     },
     "metadata": {},
     "output_type": "display_data"
    },
    {
     "data": {
      "text/html": [
       "<div>\n",
       "<style scoped>\n",
       "    .dataframe tbody tr th:only-of-type {\n",
       "        vertical-align: middle;\n",
       "    }\n",
       "\n",
       "    .dataframe tbody tr th {\n",
       "        vertical-align: top;\n",
       "    }\n",
       "\n",
       "    .dataframe thead th {\n",
       "        text-align: right;\n",
       "    }\n",
       "</style>\n",
       "<table border=\"1\" class=\"dataframe\">\n",
       "  <thead>\n",
       "    <tr style=\"text-align: right;\">\n",
       "      <th></th>\n",
       "      <th>Store</th>\n",
       "      <th>State</th>\n",
       "    </tr>\n",
       "  </thead>\n",
       "  <tbody>\n",
       "    <tr>\n",
       "      <th>0</th>\n",
       "      <td>1</td>\n",
       "      <td>HE</td>\n",
       "    </tr>\n",
       "    <tr>\n",
       "      <th>1</th>\n",
       "      <td>2</td>\n",
       "      <td>TH</td>\n",
       "    </tr>\n",
       "    <tr>\n",
       "      <th>2</th>\n",
       "      <td>3</td>\n",
       "      <td>NW</td>\n",
       "    </tr>\n",
       "    <tr>\n",
       "      <th>3</th>\n",
       "      <td>4</td>\n",
       "      <td>BE</td>\n",
       "    </tr>\n",
       "    <tr>\n",
       "      <th>4</th>\n",
       "      <td>5</td>\n",
       "      <td>SN</td>\n",
       "    </tr>\n",
       "  </tbody>\n",
       "</table>\n",
       "</div>"
      ],
      "text/plain": [
       "   Store State\n",
       "0      1    HE\n",
       "1      2    TH\n",
       "2      3    NW\n",
       "3      4    BE\n",
       "4      5    SN"
      ]
     },
     "metadata": {},
     "output_type": "display_data"
    },
    {
     "data": {
      "text/plain": [
       "' First 5 lines for Table Name=state_names'"
      ]
     },
     "metadata": {},
     "output_type": "display_data"
    },
    {
     "data": {
      "text/html": [
       "<div>\n",
       "<style scoped>\n",
       "    .dataframe tbody tr th:only-of-type {\n",
       "        vertical-align: middle;\n",
       "    }\n",
       "\n",
       "    .dataframe tbody tr th {\n",
       "        vertical-align: top;\n",
       "    }\n",
       "\n",
       "    .dataframe thead th {\n",
       "        text-align: right;\n",
       "    }\n",
       "</style>\n",
       "<table border=\"1\" class=\"dataframe\">\n",
       "  <thead>\n",
       "    <tr style=\"text-align: right;\">\n",
       "      <th></th>\n",
       "      <th>StateName</th>\n",
       "      <th>State</th>\n",
       "    </tr>\n",
       "  </thead>\n",
       "  <tbody>\n",
       "    <tr>\n",
       "      <th>0</th>\n",
       "      <td>BadenWuerttemberg</td>\n",
       "      <td>BW</td>\n",
       "    </tr>\n",
       "    <tr>\n",
       "      <th>1</th>\n",
       "      <td>Bayern</td>\n",
       "      <td>BY</td>\n",
       "    </tr>\n",
       "    <tr>\n",
       "      <th>2</th>\n",
       "      <td>Berlin</td>\n",
       "      <td>BE</td>\n",
       "    </tr>\n",
       "    <tr>\n",
       "      <th>3</th>\n",
       "      <td>Brandenburg</td>\n",
       "      <td>BB</td>\n",
       "    </tr>\n",
       "    <tr>\n",
       "      <th>4</th>\n",
       "      <td>Bremen</td>\n",
       "      <td>HB</td>\n",
       "    </tr>\n",
       "  </tbody>\n",
       "</table>\n",
       "</div>"
      ],
      "text/plain": [
       "           StateName State\n",
       "0  BadenWuerttemberg    BW\n",
       "1             Bayern    BY\n",
       "2             Berlin    BE\n",
       "3        Brandenburg    BB\n",
       "4             Bremen    HB"
      ]
     },
     "metadata": {},
     "output_type": "display_data"
    },
    {
     "data": {
      "text/plain": [
       "' First 5 lines for Table Name=googletrend'"
      ]
     },
     "metadata": {},
     "output_type": "display_data"
    },
    {
     "data": {
      "text/html": [
       "<div>\n",
       "<style scoped>\n",
       "    .dataframe tbody tr th:only-of-type {\n",
       "        vertical-align: middle;\n",
       "    }\n",
       "\n",
       "    .dataframe tbody tr th {\n",
       "        vertical-align: top;\n",
       "    }\n",
       "\n",
       "    .dataframe thead th {\n",
       "        text-align: right;\n",
       "    }\n",
       "</style>\n",
       "<table border=\"1\" class=\"dataframe\">\n",
       "  <thead>\n",
       "    <tr style=\"text-align: right;\">\n",
       "      <th></th>\n",
       "      <th>file</th>\n",
       "      <th>week</th>\n",
       "      <th>trend</th>\n",
       "    </tr>\n",
       "  </thead>\n",
       "  <tbody>\n",
       "    <tr>\n",
       "      <th>0</th>\n",
       "      <td>Rossmann_DE_SN</td>\n",
       "      <td>2012-12-02 - 2012-12-08</td>\n",
       "      <td>96</td>\n",
       "    </tr>\n",
       "    <tr>\n",
       "      <th>1</th>\n",
       "      <td>Rossmann_DE_SN</td>\n",
       "      <td>2012-12-09 - 2012-12-15</td>\n",
       "      <td>95</td>\n",
       "    </tr>\n",
       "    <tr>\n",
       "      <th>2</th>\n",
       "      <td>Rossmann_DE_SN</td>\n",
       "      <td>2012-12-16 - 2012-12-22</td>\n",
       "      <td>91</td>\n",
       "    </tr>\n",
       "    <tr>\n",
       "      <th>3</th>\n",
       "      <td>Rossmann_DE_SN</td>\n",
       "      <td>2012-12-23 - 2012-12-29</td>\n",
       "      <td>48</td>\n",
       "    </tr>\n",
       "    <tr>\n",
       "      <th>4</th>\n",
       "      <td>Rossmann_DE_SN</td>\n",
       "      <td>2012-12-30 - 2013-01-05</td>\n",
       "      <td>67</td>\n",
       "    </tr>\n",
       "  </tbody>\n",
       "</table>\n",
       "</div>"
      ],
      "text/plain": [
       "             file                     week  trend\n",
       "0  Rossmann_DE_SN  2012-12-02 - 2012-12-08     96\n",
       "1  Rossmann_DE_SN  2012-12-09 - 2012-12-15     95\n",
       "2  Rossmann_DE_SN  2012-12-16 - 2012-12-22     91\n",
       "3  Rossmann_DE_SN  2012-12-23 - 2012-12-29     48\n",
       "4  Rossmann_DE_SN  2012-12-30 - 2013-01-05     67"
      ]
     },
     "metadata": {},
     "output_type": "display_data"
    },
    {
     "data": {
      "text/plain": [
       "' First 5 lines for Table Name=weather'"
      ]
     },
     "metadata": {},
     "output_type": "display_data"
    },
    {
     "data": {
      "text/html": [
       "<div>\n",
       "<style scoped>\n",
       "    .dataframe tbody tr th:only-of-type {\n",
       "        vertical-align: middle;\n",
       "    }\n",
       "\n",
       "    .dataframe tbody tr th {\n",
       "        vertical-align: top;\n",
       "    }\n",
       "\n",
       "    .dataframe thead th {\n",
       "        text-align: right;\n",
       "    }\n",
       "</style>\n",
       "<table border=\"1\" class=\"dataframe\">\n",
       "  <thead>\n",
       "    <tr style=\"text-align: right;\">\n",
       "      <th></th>\n",
       "      <th>file</th>\n",
       "      <th>Date</th>\n",
       "      <th>Max_TemperatureC</th>\n",
       "      <th>Mean_TemperatureC</th>\n",
       "      <th>Min_TemperatureC</th>\n",
       "      <th>Dew_PointC</th>\n",
       "      <th>MeanDew_PointC</th>\n",
       "      <th>Min_DewpointC</th>\n",
       "      <th>Max_Humidity</th>\n",
       "      <th>Mean_Humidity</th>\n",
       "      <th>...</th>\n",
       "      <th>Max_VisibilityKm</th>\n",
       "      <th>Mean_VisibilityKm</th>\n",
       "      <th>Min_VisibilitykM</th>\n",
       "      <th>Max_Wind_SpeedKm_h</th>\n",
       "      <th>Mean_Wind_SpeedKm_h</th>\n",
       "      <th>Max_Gust_SpeedKm_h</th>\n",
       "      <th>Precipitationmm</th>\n",
       "      <th>CloudCover</th>\n",
       "      <th>Events</th>\n",
       "      <th>WindDirDegrees</th>\n",
       "    </tr>\n",
       "  </thead>\n",
       "  <tbody>\n",
       "    <tr>\n",
       "      <th>0</th>\n",
       "      <td>NordrheinWestfalen</td>\n",
       "      <td>2013-01-01</td>\n",
       "      <td>8</td>\n",
       "      <td>4</td>\n",
       "      <td>2</td>\n",
       "      <td>7</td>\n",
       "      <td>5</td>\n",
       "      <td>1</td>\n",
       "      <td>94</td>\n",
       "      <td>87</td>\n",
       "      <td>...</td>\n",
       "      <td>31.0</td>\n",
       "      <td>12.0</td>\n",
       "      <td>4.0</td>\n",
       "      <td>39</td>\n",
       "      <td>26</td>\n",
       "      <td>58.0</td>\n",
       "      <td>5.08</td>\n",
       "      <td>6.0</td>\n",
       "      <td>Rain</td>\n",
       "      <td>215</td>\n",
       "    </tr>\n",
       "    <tr>\n",
       "      <th>1</th>\n",
       "      <td>NordrheinWestfalen</td>\n",
       "      <td>2013-01-02</td>\n",
       "      <td>7</td>\n",
       "      <td>4</td>\n",
       "      <td>1</td>\n",
       "      <td>5</td>\n",
       "      <td>3</td>\n",
       "      <td>2</td>\n",
       "      <td>93</td>\n",
       "      <td>85</td>\n",
       "      <td>...</td>\n",
       "      <td>31.0</td>\n",
       "      <td>14.0</td>\n",
       "      <td>10.0</td>\n",
       "      <td>24</td>\n",
       "      <td>16</td>\n",
       "      <td>NaN</td>\n",
       "      <td>0.00</td>\n",
       "      <td>6.0</td>\n",
       "      <td>Rain</td>\n",
       "      <td>225</td>\n",
       "    </tr>\n",
       "    <tr>\n",
       "      <th>2</th>\n",
       "      <td>NordrheinWestfalen</td>\n",
       "      <td>2013-01-03</td>\n",
       "      <td>11</td>\n",
       "      <td>8</td>\n",
       "      <td>6</td>\n",
       "      <td>10</td>\n",
       "      <td>8</td>\n",
       "      <td>4</td>\n",
       "      <td>100</td>\n",
       "      <td>93</td>\n",
       "      <td>...</td>\n",
       "      <td>31.0</td>\n",
       "      <td>8.0</td>\n",
       "      <td>2.0</td>\n",
       "      <td>26</td>\n",
       "      <td>21</td>\n",
       "      <td>NaN</td>\n",
       "      <td>1.02</td>\n",
       "      <td>7.0</td>\n",
       "      <td>Rain</td>\n",
       "      <td>240</td>\n",
       "    </tr>\n",
       "    <tr>\n",
       "      <th>3</th>\n",
       "      <td>NordrheinWestfalen</td>\n",
       "      <td>2013-01-04</td>\n",
       "      <td>9</td>\n",
       "      <td>9</td>\n",
       "      <td>8</td>\n",
       "      <td>9</td>\n",
       "      <td>9</td>\n",
       "      <td>8</td>\n",
       "      <td>100</td>\n",
       "      <td>94</td>\n",
       "      <td>...</td>\n",
       "      <td>11.0</td>\n",
       "      <td>5.0</td>\n",
       "      <td>2.0</td>\n",
       "      <td>23</td>\n",
       "      <td>14</td>\n",
       "      <td>NaN</td>\n",
       "      <td>0.25</td>\n",
       "      <td>7.0</td>\n",
       "      <td>Rain</td>\n",
       "      <td>263</td>\n",
       "    </tr>\n",
       "    <tr>\n",
       "      <th>4</th>\n",
       "      <td>NordrheinWestfalen</td>\n",
       "      <td>2013-01-05</td>\n",
       "      <td>8</td>\n",
       "      <td>8</td>\n",
       "      <td>7</td>\n",
       "      <td>8</td>\n",
       "      <td>7</td>\n",
       "      <td>6</td>\n",
       "      <td>100</td>\n",
       "      <td>94</td>\n",
       "      <td>...</td>\n",
       "      <td>10.0</td>\n",
       "      <td>6.0</td>\n",
       "      <td>3.0</td>\n",
       "      <td>16</td>\n",
       "      <td>10</td>\n",
       "      <td>NaN</td>\n",
       "      <td>0.00</td>\n",
       "      <td>7.0</td>\n",
       "      <td>Rain</td>\n",
       "      <td>268</td>\n",
       "    </tr>\n",
       "  </tbody>\n",
       "</table>\n",
       "<p>5 rows × 24 columns</p>\n",
       "</div>"
      ],
      "text/plain": [
       "                 file        Date  Max_TemperatureC  Mean_TemperatureC  \\\n",
       "0  NordrheinWestfalen  2013-01-01                 8                  4   \n",
       "1  NordrheinWestfalen  2013-01-02                 7                  4   \n",
       "2  NordrheinWestfalen  2013-01-03                11                  8   \n",
       "3  NordrheinWestfalen  2013-01-04                 9                  9   \n",
       "4  NordrheinWestfalen  2013-01-05                 8                  8   \n",
       "\n",
       "   Min_TemperatureC  Dew_PointC  MeanDew_PointC  Min_DewpointC  Max_Humidity  \\\n",
       "0                 2           7               5              1            94   \n",
       "1                 1           5               3              2            93   \n",
       "2                 6          10               8              4           100   \n",
       "3                 8           9               9              8           100   \n",
       "4                 7           8               7              6           100   \n",
       "\n",
       "   Mean_Humidity       ...        Max_VisibilityKm  Mean_VisibilityKm  \\\n",
       "0             87       ...                    31.0               12.0   \n",
       "1             85       ...                    31.0               14.0   \n",
       "2             93       ...                    31.0                8.0   \n",
       "3             94       ...                    11.0                5.0   \n",
       "4             94       ...                    10.0                6.0   \n",
       "\n",
       "   Min_VisibilitykM  Max_Wind_SpeedKm_h  Mean_Wind_SpeedKm_h  \\\n",
       "0               4.0                  39                   26   \n",
       "1              10.0                  24                   16   \n",
       "2               2.0                  26                   21   \n",
       "3               2.0                  23                   14   \n",
       "4               3.0                  16                   10   \n",
       "\n",
       "   Max_Gust_SpeedKm_h  Precipitationmm  CloudCover  Events  WindDirDegrees  \n",
       "0                58.0             5.08         6.0    Rain             215  \n",
       "1                 NaN             0.00         6.0    Rain             225  \n",
       "2                 NaN             1.02         7.0    Rain             240  \n",
       "3                 NaN             0.25         7.0    Rain             263  \n",
       "4                 NaN             0.00         7.0    Rain             268  \n",
       "\n",
       "[5 rows x 24 columns]"
      ]
     },
     "metadata": {},
     "output_type": "display_data"
    },
    {
     "data": {
      "text/plain": [
       "' First 5 lines for Table Name=test'"
      ]
     },
     "metadata": {},
     "output_type": "display_data"
    },
    {
     "data": {
      "text/html": [
       "<div>\n",
       "<style scoped>\n",
       "    .dataframe tbody tr th:only-of-type {\n",
       "        vertical-align: middle;\n",
       "    }\n",
       "\n",
       "    .dataframe tbody tr th {\n",
       "        vertical-align: top;\n",
       "    }\n",
       "\n",
       "    .dataframe thead th {\n",
       "        text-align: right;\n",
       "    }\n",
       "</style>\n",
       "<table border=\"1\" class=\"dataframe\">\n",
       "  <thead>\n",
       "    <tr style=\"text-align: right;\">\n",
       "      <th></th>\n",
       "      <th>Id</th>\n",
       "      <th>Store</th>\n",
       "      <th>DayOfWeek</th>\n",
       "      <th>Date</th>\n",
       "      <th>Open</th>\n",
       "      <th>Promo</th>\n",
       "      <th>StateHoliday</th>\n",
       "      <th>SchoolHoliday</th>\n",
       "    </tr>\n",
       "  </thead>\n",
       "  <tbody>\n",
       "    <tr>\n",
       "      <th>0</th>\n",
       "      <td>1</td>\n",
       "      <td>1</td>\n",
       "      <td>4</td>\n",
       "      <td>2015-09-17</td>\n",
       "      <td>1.0</td>\n",
       "      <td>1</td>\n",
       "      <td>0</td>\n",
       "      <td>0</td>\n",
       "    </tr>\n",
       "    <tr>\n",
       "      <th>1</th>\n",
       "      <td>2</td>\n",
       "      <td>3</td>\n",
       "      <td>4</td>\n",
       "      <td>2015-09-17</td>\n",
       "      <td>1.0</td>\n",
       "      <td>1</td>\n",
       "      <td>0</td>\n",
       "      <td>0</td>\n",
       "    </tr>\n",
       "    <tr>\n",
       "      <th>2</th>\n",
       "      <td>3</td>\n",
       "      <td>7</td>\n",
       "      <td>4</td>\n",
       "      <td>2015-09-17</td>\n",
       "      <td>1.0</td>\n",
       "      <td>1</td>\n",
       "      <td>0</td>\n",
       "      <td>0</td>\n",
       "    </tr>\n",
       "    <tr>\n",
       "      <th>3</th>\n",
       "      <td>4</td>\n",
       "      <td>8</td>\n",
       "      <td>4</td>\n",
       "      <td>2015-09-17</td>\n",
       "      <td>1.0</td>\n",
       "      <td>1</td>\n",
       "      <td>0</td>\n",
       "      <td>0</td>\n",
       "    </tr>\n",
       "    <tr>\n",
       "      <th>4</th>\n",
       "      <td>5</td>\n",
       "      <td>9</td>\n",
       "      <td>4</td>\n",
       "      <td>2015-09-17</td>\n",
       "      <td>1.0</td>\n",
       "      <td>1</td>\n",
       "      <td>0</td>\n",
       "      <td>0</td>\n",
       "    </tr>\n",
       "  </tbody>\n",
       "</table>\n",
       "</div>"
      ],
      "text/plain": [
       "   Id  Store  DayOfWeek        Date  Open  Promo StateHoliday  SchoolHoliday\n",
       "0   1      1          4  2015-09-17   1.0      1            0              0\n",
       "1   2      3          4  2015-09-17   1.0      1            0              0\n",
       "2   3      7          4  2015-09-17   1.0      1            0              0\n",
       "3   4      8          4  2015-09-17   1.0      1            0              0\n",
       "4   5      9          4  2015-09-17   1.0      1            0              0"
      ]
     },
     "metadata": {},
     "output_type": "display_data"
    }
   ],
   "source": [
    "for name,table in tables.items(): \n",
    "    display(f\" First 5 lines for Table Name={name}\")\n",
    "    display(table.head())"
   ]
  },
  {
   "cell_type": "markdown",
   "metadata": {
    "heading_collapsed": true,
    "hidden": true
   },
   "source": [
    "### Displaying Summary of Each Dataframe "
   ]
  },
  {
   "cell_type": "code",
   "execution_count": 7,
   "metadata": {
    "hidden": true
   },
   "outputs": [
    {
     "data": {
      "text/plain": [
       "' Dataframe Summary for Table Name=train'"
      ]
     },
     "metadata": {},
     "output_type": "display_data"
    },
    {
     "data": {
      "text/html": [
       "<div>\n",
       "<style scoped>\n",
       "    .dataframe tbody tr th:only-of-type {\n",
       "        vertical-align: middle;\n",
       "    }\n",
       "\n",
       "    .dataframe tbody tr th {\n",
       "        vertical-align: top;\n",
       "    }\n",
       "\n",
       "    .dataframe thead th {\n",
       "        text-align: right;\n",
       "    }\n",
       "</style>\n",
       "<table border=\"1\" class=\"dataframe\">\n",
       "  <thead>\n",
       "    <tr style=\"text-align: right;\">\n",
       "      <th></th>\n",
       "      <th>Store</th>\n",
       "      <th>DayOfWeek</th>\n",
       "      <th>Date</th>\n",
       "      <th>Sales</th>\n",
       "      <th>Customers</th>\n",
       "      <th>Open</th>\n",
       "      <th>Promo</th>\n",
       "      <th>StateHoliday</th>\n",
       "      <th>SchoolHoliday</th>\n",
       "    </tr>\n",
       "  </thead>\n",
       "  <tbody>\n",
       "    <tr>\n",
       "      <th>count</th>\n",
       "      <td>1.01721e+06</td>\n",
       "      <td>1.01721e+06</td>\n",
       "      <td>NaN</td>\n",
       "      <td>1.01721e+06</td>\n",
       "      <td>1.01721e+06</td>\n",
       "      <td>1.01721e+06</td>\n",
       "      <td>1.01721e+06</td>\n",
       "      <td>NaN</td>\n",
       "      <td>1.01721e+06</td>\n",
       "    </tr>\n",
       "    <tr>\n",
       "      <th>mean</th>\n",
       "      <td>558.43</td>\n",
       "      <td>3.99834</td>\n",
       "      <td>NaN</td>\n",
       "      <td>5773.82</td>\n",
       "      <td>633.146</td>\n",
       "      <td>0.830107</td>\n",
       "      <td>0.381515</td>\n",
       "      <td>NaN</td>\n",
       "      <td>0.178647</td>\n",
       "    </tr>\n",
       "    <tr>\n",
       "      <th>std</th>\n",
       "      <td>321.909</td>\n",
       "      <td>1.99739</td>\n",
       "      <td>NaN</td>\n",
       "      <td>3849.93</td>\n",
       "      <td>464.412</td>\n",
       "      <td>0.375539</td>\n",
       "      <td>0.485759</td>\n",
       "      <td>NaN</td>\n",
       "      <td>0.383056</td>\n",
       "    </tr>\n",
       "    <tr>\n",
       "      <th>min</th>\n",
       "      <td>1</td>\n",
       "      <td>1</td>\n",
       "      <td>NaN</td>\n",
       "      <td>0</td>\n",
       "      <td>0</td>\n",
       "      <td>0</td>\n",
       "      <td>0</td>\n",
       "      <td>NaN</td>\n",
       "      <td>0</td>\n",
       "    </tr>\n",
       "    <tr>\n",
       "      <th>25%</th>\n",
       "      <td>280</td>\n",
       "      <td>2</td>\n",
       "      <td>NaN</td>\n",
       "      <td>3727</td>\n",
       "      <td>405</td>\n",
       "      <td>1</td>\n",
       "      <td>0</td>\n",
       "      <td>NaN</td>\n",
       "      <td>0</td>\n",
       "    </tr>\n",
       "    <tr>\n",
       "      <th>50%</th>\n",
       "      <td>558</td>\n",
       "      <td>4</td>\n",
       "      <td>NaN</td>\n",
       "      <td>5744</td>\n",
       "      <td>609</td>\n",
       "      <td>1</td>\n",
       "      <td>0</td>\n",
       "      <td>NaN</td>\n",
       "      <td>0</td>\n",
       "    </tr>\n",
       "    <tr>\n",
       "      <th>75%</th>\n",
       "      <td>838</td>\n",
       "      <td>6</td>\n",
       "      <td>NaN</td>\n",
       "      <td>7856</td>\n",
       "      <td>837</td>\n",
       "      <td>1</td>\n",
       "      <td>1</td>\n",
       "      <td>NaN</td>\n",
       "      <td>0</td>\n",
       "    </tr>\n",
       "    <tr>\n",
       "      <th>max</th>\n",
       "      <td>1115</td>\n",
       "      <td>7</td>\n",
       "      <td>NaN</td>\n",
       "      <td>41551</td>\n",
       "      <td>7388</td>\n",
       "      <td>1</td>\n",
       "      <td>1</td>\n",
       "      <td>NaN</td>\n",
       "      <td>1</td>\n",
       "    </tr>\n",
       "    <tr>\n",
       "      <th>counts</th>\n",
       "      <td>1017209</td>\n",
       "      <td>1017209</td>\n",
       "      <td>1017209</td>\n",
       "      <td>1017209</td>\n",
       "      <td>1017209</td>\n",
       "      <td>1017209</td>\n",
       "      <td>1017209</td>\n",
       "      <td>1017209</td>\n",
       "      <td>1017209</td>\n",
       "    </tr>\n",
       "    <tr>\n",
       "      <th>uniques</th>\n",
       "      <td>1115</td>\n",
       "      <td>7</td>\n",
       "      <td>942</td>\n",
       "      <td>21734</td>\n",
       "      <td>4086</td>\n",
       "      <td>2</td>\n",
       "      <td>2</td>\n",
       "      <td>4</td>\n",
       "      <td>2</td>\n",
       "    </tr>\n",
       "    <tr>\n",
       "      <th>missing</th>\n",
       "      <td>0</td>\n",
       "      <td>0</td>\n",
       "      <td>0</td>\n",
       "      <td>0</td>\n",
       "      <td>0</td>\n",
       "      <td>0</td>\n",
       "      <td>0</td>\n",
       "      <td>0</td>\n",
       "      <td>0</td>\n",
       "    </tr>\n",
       "    <tr>\n",
       "      <th>missing_perc</th>\n",
       "      <td>0%</td>\n",
       "      <td>0%</td>\n",
       "      <td>0%</td>\n",
       "      <td>0%</td>\n",
       "      <td>0%</td>\n",
       "      <td>0%</td>\n",
       "      <td>0%</td>\n",
       "      <td>0%</td>\n",
       "      <td>0%</td>\n",
       "    </tr>\n",
       "    <tr>\n",
       "      <th>types</th>\n",
       "      <td>numeric</td>\n",
       "      <td>numeric</td>\n",
       "      <td>categorical</td>\n",
       "      <td>numeric</td>\n",
       "      <td>numeric</td>\n",
       "      <td>bool</td>\n",
       "      <td>bool</td>\n",
       "      <td>categorical</td>\n",
       "      <td>bool</td>\n",
       "    </tr>\n",
       "  </tbody>\n",
       "</table>\n",
       "</div>"
      ],
      "text/plain": [
       "                    Store    DayOfWeek         Date        Sales    Customers  \\\n",
       "count         1.01721e+06  1.01721e+06          NaN  1.01721e+06  1.01721e+06   \n",
       "mean               558.43      3.99834          NaN      5773.82      633.146   \n",
       "std               321.909      1.99739          NaN      3849.93      464.412   \n",
       "min                     1            1          NaN            0            0   \n",
       "25%                   280            2          NaN         3727          405   \n",
       "50%                   558            4          NaN         5744          609   \n",
       "75%                   838            6          NaN         7856          837   \n",
       "max                  1115            7          NaN        41551         7388   \n",
       "counts            1017209      1017209      1017209      1017209      1017209   \n",
       "uniques              1115            7          942        21734         4086   \n",
       "missing                 0            0            0            0            0   \n",
       "missing_perc           0%           0%           0%           0%           0%   \n",
       "types             numeric      numeric  categorical      numeric      numeric   \n",
       "\n",
       "                     Open        Promo StateHoliday SchoolHoliday  \n",
       "count         1.01721e+06  1.01721e+06          NaN   1.01721e+06  \n",
       "mean             0.830107     0.381515          NaN      0.178647  \n",
       "std              0.375539     0.485759          NaN      0.383056  \n",
       "min                     0            0          NaN             0  \n",
       "25%                     1            0          NaN             0  \n",
       "50%                     1            0          NaN             0  \n",
       "75%                     1            1          NaN             0  \n",
       "max                     1            1          NaN             1  \n",
       "counts            1017209      1017209      1017209       1017209  \n",
       "uniques                 2            2            4             2  \n",
       "missing                 0            0            0             0  \n",
       "missing_perc           0%           0%           0%            0%  \n",
       "types                bool         bool  categorical          bool  "
      ]
     },
     "metadata": {},
     "output_type": "display_data"
    },
    {
     "data": {
      "text/plain": [
       "' Dataframe Summary for Table Name=store'"
      ]
     },
     "metadata": {},
     "output_type": "display_data"
    },
    {
     "data": {
      "text/html": [
       "<div>\n",
       "<style scoped>\n",
       "    .dataframe tbody tr th:only-of-type {\n",
       "        vertical-align: middle;\n",
       "    }\n",
       "\n",
       "    .dataframe tbody tr th {\n",
       "        vertical-align: top;\n",
       "    }\n",
       "\n",
       "    .dataframe thead th {\n",
       "        text-align: right;\n",
       "    }\n",
       "</style>\n",
       "<table border=\"1\" class=\"dataframe\">\n",
       "  <thead>\n",
       "    <tr style=\"text-align: right;\">\n",
       "      <th></th>\n",
       "      <th>Store</th>\n",
       "      <th>StoreType</th>\n",
       "      <th>Assortment</th>\n",
       "      <th>CompetitionDistance</th>\n",
       "      <th>CompetitionOpenSinceMonth</th>\n",
       "      <th>CompetitionOpenSinceYear</th>\n",
       "      <th>Promo2</th>\n",
       "      <th>Promo2SinceWeek</th>\n",
       "      <th>Promo2SinceYear</th>\n",
       "      <th>PromoInterval</th>\n",
       "    </tr>\n",
       "  </thead>\n",
       "  <tbody>\n",
       "    <tr>\n",
       "      <th>count</th>\n",
       "      <td>1115</td>\n",
       "      <td>NaN</td>\n",
       "      <td>NaN</td>\n",
       "      <td>1112</td>\n",
       "      <td>761</td>\n",
       "      <td>761</td>\n",
       "      <td>1115</td>\n",
       "      <td>571</td>\n",
       "      <td>571</td>\n",
       "      <td>NaN</td>\n",
       "    </tr>\n",
       "    <tr>\n",
       "      <th>mean</th>\n",
       "      <td>558</td>\n",
       "      <td>NaN</td>\n",
       "      <td>NaN</td>\n",
       "      <td>5404.9</td>\n",
       "      <td>7.2247</td>\n",
       "      <td>2008.67</td>\n",
       "      <td>0.512108</td>\n",
       "      <td>23.5954</td>\n",
       "      <td>2011.76</td>\n",
       "      <td>NaN</td>\n",
       "    </tr>\n",
       "    <tr>\n",
       "      <th>std</th>\n",
       "      <td>322.017</td>\n",
       "      <td>NaN</td>\n",
       "      <td>NaN</td>\n",
       "      <td>7663.17</td>\n",
       "      <td>3.21235</td>\n",
       "      <td>6.19598</td>\n",
       "      <td>0.500078</td>\n",
       "      <td>14.142</td>\n",
       "      <td>1.67494</td>\n",
       "      <td>NaN</td>\n",
       "    </tr>\n",
       "    <tr>\n",
       "      <th>min</th>\n",
       "      <td>1</td>\n",
       "      <td>NaN</td>\n",
       "      <td>NaN</td>\n",
       "      <td>20</td>\n",
       "      <td>1</td>\n",
       "      <td>1900</td>\n",
       "      <td>0</td>\n",
       "      <td>1</td>\n",
       "      <td>2009</td>\n",
       "      <td>NaN</td>\n",
       "    </tr>\n",
       "    <tr>\n",
       "      <th>25%</th>\n",
       "      <td>279.5</td>\n",
       "      <td>NaN</td>\n",
       "      <td>NaN</td>\n",
       "      <td>717.5</td>\n",
       "      <td>4</td>\n",
       "      <td>2006</td>\n",
       "      <td>0</td>\n",
       "      <td>13</td>\n",
       "      <td>2011</td>\n",
       "      <td>NaN</td>\n",
       "    </tr>\n",
       "    <tr>\n",
       "      <th>50%</th>\n",
       "      <td>558</td>\n",
       "      <td>NaN</td>\n",
       "      <td>NaN</td>\n",
       "      <td>2325</td>\n",
       "      <td>8</td>\n",
       "      <td>2010</td>\n",
       "      <td>1</td>\n",
       "      <td>22</td>\n",
       "      <td>2012</td>\n",
       "      <td>NaN</td>\n",
       "    </tr>\n",
       "    <tr>\n",
       "      <th>75%</th>\n",
       "      <td>836.5</td>\n",
       "      <td>NaN</td>\n",
       "      <td>NaN</td>\n",
       "      <td>6882.5</td>\n",
       "      <td>10</td>\n",
       "      <td>2013</td>\n",
       "      <td>1</td>\n",
       "      <td>37</td>\n",
       "      <td>2013</td>\n",
       "      <td>NaN</td>\n",
       "    </tr>\n",
       "    <tr>\n",
       "      <th>max</th>\n",
       "      <td>1115</td>\n",
       "      <td>NaN</td>\n",
       "      <td>NaN</td>\n",
       "      <td>75860</td>\n",
       "      <td>12</td>\n",
       "      <td>2015</td>\n",
       "      <td>1</td>\n",
       "      <td>50</td>\n",
       "      <td>2015</td>\n",
       "      <td>NaN</td>\n",
       "    </tr>\n",
       "    <tr>\n",
       "      <th>counts</th>\n",
       "      <td>1115</td>\n",
       "      <td>1115</td>\n",
       "      <td>1115</td>\n",
       "      <td>1112</td>\n",
       "      <td>761</td>\n",
       "      <td>761</td>\n",
       "      <td>1115</td>\n",
       "      <td>571</td>\n",
       "      <td>571</td>\n",
       "      <td>571</td>\n",
       "    </tr>\n",
       "    <tr>\n",
       "      <th>uniques</th>\n",
       "      <td>1115</td>\n",
       "      <td>4</td>\n",
       "      <td>3</td>\n",
       "      <td>654</td>\n",
       "      <td>12</td>\n",
       "      <td>23</td>\n",
       "      <td>2</td>\n",
       "      <td>24</td>\n",
       "      <td>7</td>\n",
       "      <td>3</td>\n",
       "    </tr>\n",
       "    <tr>\n",
       "      <th>missing</th>\n",
       "      <td>0</td>\n",
       "      <td>0</td>\n",
       "      <td>0</td>\n",
       "      <td>3</td>\n",
       "      <td>354</td>\n",
       "      <td>354</td>\n",
       "      <td>0</td>\n",
       "      <td>544</td>\n",
       "      <td>544</td>\n",
       "      <td>544</td>\n",
       "    </tr>\n",
       "    <tr>\n",
       "      <th>missing_perc</th>\n",
       "      <td>0%</td>\n",
       "      <td>0%</td>\n",
       "      <td>0%</td>\n",
       "      <td>0.27%</td>\n",
       "      <td>31.75%</td>\n",
       "      <td>31.75%</td>\n",
       "      <td>0%</td>\n",
       "      <td>48.79%</td>\n",
       "      <td>48.79%</td>\n",
       "      <td>48.79%</td>\n",
       "    </tr>\n",
       "    <tr>\n",
       "      <th>types</th>\n",
       "      <td>numeric</td>\n",
       "      <td>categorical</td>\n",
       "      <td>categorical</td>\n",
       "      <td>numeric</td>\n",
       "      <td>numeric</td>\n",
       "      <td>numeric</td>\n",
       "      <td>bool</td>\n",
       "      <td>numeric</td>\n",
       "      <td>numeric</td>\n",
       "      <td>categorical</td>\n",
       "    </tr>\n",
       "  </tbody>\n",
       "</table>\n",
       "</div>"
      ],
      "text/plain": [
       "                Store    StoreType   Assortment CompetitionDistance  \\\n",
       "count            1115          NaN          NaN                1112   \n",
       "mean              558          NaN          NaN              5404.9   \n",
       "std           322.017          NaN          NaN             7663.17   \n",
       "min                 1          NaN          NaN                  20   \n",
       "25%             279.5          NaN          NaN               717.5   \n",
       "50%               558          NaN          NaN                2325   \n",
       "75%             836.5          NaN          NaN              6882.5   \n",
       "max              1115          NaN          NaN               75860   \n",
       "counts           1115         1115         1115                1112   \n",
       "uniques          1115            4            3                 654   \n",
       "missing             0            0            0                   3   \n",
       "missing_perc       0%           0%           0%               0.27%   \n",
       "types         numeric  categorical  categorical             numeric   \n",
       "\n",
       "             CompetitionOpenSinceMonth CompetitionOpenSinceYear    Promo2  \\\n",
       "count                              761                      761      1115   \n",
       "mean                            7.2247                  2008.67  0.512108   \n",
       "std                            3.21235                  6.19598  0.500078   \n",
       "min                                  1                     1900         0   \n",
       "25%                                  4                     2006         0   \n",
       "50%                                  8                     2010         1   \n",
       "75%                                 10                     2013         1   \n",
       "max                                 12                     2015         1   \n",
       "counts                             761                      761      1115   \n",
       "uniques                             12                       23         2   \n",
       "missing                            354                      354         0   \n",
       "missing_perc                    31.75%                   31.75%        0%   \n",
       "types                          numeric                  numeric      bool   \n",
       "\n",
       "             Promo2SinceWeek Promo2SinceYear PromoInterval  \n",
       "count                    571             571           NaN  \n",
       "mean                 23.5954         2011.76           NaN  \n",
       "std                   14.142         1.67494           NaN  \n",
       "min                        1            2009           NaN  \n",
       "25%                       13            2011           NaN  \n",
       "50%                       22            2012           NaN  \n",
       "75%                       37            2013           NaN  \n",
       "max                       50            2015           NaN  \n",
       "counts                   571             571           571  \n",
       "uniques                   24               7             3  \n",
       "missing                  544             544           544  \n",
       "missing_perc          48.79%          48.79%        48.79%  \n",
       "types                numeric         numeric   categorical  "
      ]
     },
     "metadata": {},
     "output_type": "display_data"
    },
    {
     "data": {
      "text/plain": [
       "' Dataframe Summary for Table Name=store_states'"
      ]
     },
     "metadata": {},
     "output_type": "display_data"
    },
    {
     "data": {
      "text/html": [
       "<div>\n",
       "<style scoped>\n",
       "    .dataframe tbody tr th:only-of-type {\n",
       "        vertical-align: middle;\n",
       "    }\n",
       "\n",
       "    .dataframe tbody tr th {\n",
       "        vertical-align: top;\n",
       "    }\n",
       "\n",
       "    .dataframe thead th {\n",
       "        text-align: right;\n",
       "    }\n",
       "</style>\n",
       "<table border=\"1\" class=\"dataframe\">\n",
       "  <thead>\n",
       "    <tr style=\"text-align: right;\">\n",
       "      <th></th>\n",
       "      <th>Store</th>\n",
       "      <th>State</th>\n",
       "    </tr>\n",
       "  </thead>\n",
       "  <tbody>\n",
       "    <tr>\n",
       "      <th>count</th>\n",
       "      <td>1115</td>\n",
       "      <td>NaN</td>\n",
       "    </tr>\n",
       "    <tr>\n",
       "      <th>mean</th>\n",
       "      <td>558</td>\n",
       "      <td>NaN</td>\n",
       "    </tr>\n",
       "    <tr>\n",
       "      <th>std</th>\n",
       "      <td>322.017</td>\n",
       "      <td>NaN</td>\n",
       "    </tr>\n",
       "    <tr>\n",
       "      <th>min</th>\n",
       "      <td>1</td>\n",
       "      <td>NaN</td>\n",
       "    </tr>\n",
       "    <tr>\n",
       "      <th>25%</th>\n",
       "      <td>279.5</td>\n",
       "      <td>NaN</td>\n",
       "    </tr>\n",
       "    <tr>\n",
       "      <th>50%</th>\n",
       "      <td>558</td>\n",
       "      <td>NaN</td>\n",
       "    </tr>\n",
       "    <tr>\n",
       "      <th>75%</th>\n",
       "      <td>836.5</td>\n",
       "      <td>NaN</td>\n",
       "    </tr>\n",
       "    <tr>\n",
       "      <th>max</th>\n",
       "      <td>1115</td>\n",
       "      <td>NaN</td>\n",
       "    </tr>\n",
       "    <tr>\n",
       "      <th>counts</th>\n",
       "      <td>1115</td>\n",
       "      <td>1115</td>\n",
       "    </tr>\n",
       "    <tr>\n",
       "      <th>uniques</th>\n",
       "      <td>1115</td>\n",
       "      <td>12</td>\n",
       "    </tr>\n",
       "    <tr>\n",
       "      <th>missing</th>\n",
       "      <td>0</td>\n",
       "      <td>0</td>\n",
       "    </tr>\n",
       "    <tr>\n",
       "      <th>missing_perc</th>\n",
       "      <td>0%</td>\n",
       "      <td>0%</td>\n",
       "    </tr>\n",
       "    <tr>\n",
       "      <th>types</th>\n",
       "      <td>numeric</td>\n",
       "      <td>categorical</td>\n",
       "    </tr>\n",
       "  </tbody>\n",
       "</table>\n",
       "</div>"
      ],
      "text/plain": [
       "                Store        State\n",
       "count            1115          NaN\n",
       "mean              558          NaN\n",
       "std           322.017          NaN\n",
       "min                 1          NaN\n",
       "25%             279.5          NaN\n",
       "50%               558          NaN\n",
       "75%             836.5          NaN\n",
       "max              1115          NaN\n",
       "counts           1115         1115\n",
       "uniques          1115           12\n",
       "missing             0            0\n",
       "missing_perc       0%           0%\n",
       "types         numeric  categorical"
      ]
     },
     "metadata": {},
     "output_type": "display_data"
    },
    {
     "data": {
      "text/plain": [
       "' Dataframe Summary for Table Name=state_names'"
      ]
     },
     "metadata": {},
     "output_type": "display_data"
    },
    {
     "data": {
      "text/html": [
       "<div>\n",
       "<style scoped>\n",
       "    .dataframe tbody tr th:only-of-type {\n",
       "        vertical-align: middle;\n",
       "    }\n",
       "\n",
       "    .dataframe tbody tr th {\n",
       "        vertical-align: top;\n",
       "    }\n",
       "\n",
       "    .dataframe thead th {\n",
       "        text-align: right;\n",
       "    }\n",
       "</style>\n",
       "<table border=\"1\" class=\"dataframe\">\n",
       "  <thead>\n",
       "    <tr style=\"text-align: right;\">\n",
       "      <th></th>\n",
       "      <th>StateName</th>\n",
       "      <th>State</th>\n",
       "    </tr>\n",
       "  </thead>\n",
       "  <tbody>\n",
       "    <tr>\n",
       "      <th>count</th>\n",
       "      <td>16</td>\n",
       "      <td>16</td>\n",
       "    </tr>\n",
       "    <tr>\n",
       "      <th>unique</th>\n",
       "      <td>16</td>\n",
       "      <td>16</td>\n",
       "    </tr>\n",
       "    <tr>\n",
       "      <th>top</th>\n",
       "      <td>Thueringen</td>\n",
       "      <td>BB</td>\n",
       "    </tr>\n",
       "    <tr>\n",
       "      <th>freq</th>\n",
       "      <td>1</td>\n",
       "      <td>1</td>\n",
       "    </tr>\n",
       "    <tr>\n",
       "      <th>counts</th>\n",
       "      <td>16</td>\n",
       "      <td>16</td>\n",
       "    </tr>\n",
       "    <tr>\n",
       "      <th>uniques</th>\n",
       "      <td>16</td>\n",
       "      <td>16</td>\n",
       "    </tr>\n",
       "    <tr>\n",
       "      <th>missing</th>\n",
       "      <td>0</td>\n",
       "      <td>0</td>\n",
       "    </tr>\n",
       "    <tr>\n",
       "      <th>missing_perc</th>\n",
       "      <td>0%</td>\n",
       "      <td>0%</td>\n",
       "    </tr>\n",
       "    <tr>\n",
       "      <th>types</th>\n",
       "      <td>unique</td>\n",
       "      <td>unique</td>\n",
       "    </tr>\n",
       "  </tbody>\n",
       "</table>\n",
       "</div>"
      ],
      "text/plain": [
       "               StateName   State\n",
       "count                 16      16\n",
       "unique                16      16\n",
       "top           Thueringen      BB\n",
       "freq                   1       1\n",
       "counts                16      16\n",
       "uniques               16      16\n",
       "missing                0       0\n",
       "missing_perc          0%      0%\n",
       "types             unique  unique"
      ]
     },
     "metadata": {},
     "output_type": "display_data"
    },
    {
     "data": {
      "text/plain": [
       "' Dataframe Summary for Table Name=googletrend'"
      ]
     },
     "metadata": {},
     "output_type": "display_data"
    },
    {
     "data": {
      "text/html": [
       "<div>\n",
       "<style scoped>\n",
       "    .dataframe tbody tr th:only-of-type {\n",
       "        vertical-align: middle;\n",
       "    }\n",
       "\n",
       "    .dataframe tbody tr th {\n",
       "        vertical-align: top;\n",
       "    }\n",
       "\n",
       "    .dataframe thead th {\n",
       "        text-align: right;\n",
       "    }\n",
       "</style>\n",
       "<table border=\"1\" class=\"dataframe\">\n",
       "  <thead>\n",
       "    <tr style=\"text-align: right;\">\n",
       "      <th></th>\n",
       "      <th>file</th>\n",
       "      <th>week</th>\n",
       "      <th>trend</th>\n",
       "    </tr>\n",
       "  </thead>\n",
       "  <tbody>\n",
       "    <tr>\n",
       "      <th>count</th>\n",
       "      <td>NaN</td>\n",
       "      <td>NaN</td>\n",
       "      <td>2072</td>\n",
       "    </tr>\n",
       "    <tr>\n",
       "      <th>mean</th>\n",
       "      <td>NaN</td>\n",
       "      <td>NaN</td>\n",
       "      <td>63.8142</td>\n",
       "    </tr>\n",
       "    <tr>\n",
       "      <th>std</th>\n",
       "      <td>NaN</td>\n",
       "      <td>NaN</td>\n",
       "      <td>12.6502</td>\n",
       "    </tr>\n",
       "    <tr>\n",
       "      <th>min</th>\n",
       "      <td>NaN</td>\n",
       "      <td>NaN</td>\n",
       "      <td>0</td>\n",
       "    </tr>\n",
       "    <tr>\n",
       "      <th>25%</th>\n",
       "      <td>NaN</td>\n",
       "      <td>NaN</td>\n",
       "      <td>55</td>\n",
       "    </tr>\n",
       "    <tr>\n",
       "      <th>50%</th>\n",
       "      <td>NaN</td>\n",
       "      <td>NaN</td>\n",
       "      <td>64</td>\n",
       "    </tr>\n",
       "    <tr>\n",
       "      <th>75%</th>\n",
       "      <td>NaN</td>\n",
       "      <td>NaN</td>\n",
       "      <td>72</td>\n",
       "    </tr>\n",
       "    <tr>\n",
       "      <th>max</th>\n",
       "      <td>NaN</td>\n",
       "      <td>NaN</td>\n",
       "      <td>100</td>\n",
       "    </tr>\n",
       "    <tr>\n",
       "      <th>counts</th>\n",
       "      <td>2072</td>\n",
       "      <td>2072</td>\n",
       "      <td>2072</td>\n",
       "    </tr>\n",
       "    <tr>\n",
       "      <th>uniques</th>\n",
       "      <td>14</td>\n",
       "      <td>148</td>\n",
       "      <td>68</td>\n",
       "    </tr>\n",
       "    <tr>\n",
       "      <th>missing</th>\n",
       "      <td>0</td>\n",
       "      <td>0</td>\n",
       "      <td>0</td>\n",
       "    </tr>\n",
       "    <tr>\n",
       "      <th>missing_perc</th>\n",
       "      <td>0%</td>\n",
       "      <td>0%</td>\n",
       "      <td>0%</td>\n",
       "    </tr>\n",
       "    <tr>\n",
       "      <th>types</th>\n",
       "      <td>categorical</td>\n",
       "      <td>categorical</td>\n",
       "      <td>numeric</td>\n",
       "    </tr>\n",
       "  </tbody>\n",
       "</table>\n",
       "</div>"
      ],
      "text/plain": [
       "                     file         week    trend\n",
       "count                 NaN          NaN     2072\n",
       "mean                  NaN          NaN  63.8142\n",
       "std                   NaN          NaN  12.6502\n",
       "min                   NaN          NaN        0\n",
       "25%                   NaN          NaN       55\n",
       "50%                   NaN          NaN       64\n",
       "75%                   NaN          NaN       72\n",
       "max                   NaN          NaN      100\n",
       "counts               2072         2072     2072\n",
       "uniques                14          148       68\n",
       "missing                 0            0        0\n",
       "missing_perc           0%           0%       0%\n",
       "types         categorical  categorical  numeric"
      ]
     },
     "metadata": {},
     "output_type": "display_data"
    },
    {
     "data": {
      "text/plain": [
       "' Dataframe Summary for Table Name=weather'"
      ]
     },
     "metadata": {},
     "output_type": "display_data"
    },
    {
     "data": {
      "text/html": [
       "<div>\n",
       "<style scoped>\n",
       "    .dataframe tbody tr th:only-of-type {\n",
       "        vertical-align: middle;\n",
       "    }\n",
       "\n",
       "    .dataframe tbody tr th {\n",
       "        vertical-align: top;\n",
       "    }\n",
       "\n",
       "    .dataframe thead th {\n",
       "        text-align: right;\n",
       "    }\n",
       "</style>\n",
       "<table border=\"1\" class=\"dataframe\">\n",
       "  <thead>\n",
       "    <tr style=\"text-align: right;\">\n",
       "      <th></th>\n",
       "      <th>file</th>\n",
       "      <th>Date</th>\n",
       "      <th>Max_TemperatureC</th>\n",
       "      <th>Mean_TemperatureC</th>\n",
       "      <th>Min_TemperatureC</th>\n",
       "      <th>Dew_PointC</th>\n",
       "      <th>MeanDew_PointC</th>\n",
       "      <th>Min_DewpointC</th>\n",
       "      <th>Max_Humidity</th>\n",
       "      <th>Mean_Humidity</th>\n",
       "      <th>...</th>\n",
       "      <th>Max_VisibilityKm</th>\n",
       "      <th>Mean_VisibilityKm</th>\n",
       "      <th>Min_VisibilitykM</th>\n",
       "      <th>Max_Wind_SpeedKm_h</th>\n",
       "      <th>Mean_Wind_SpeedKm_h</th>\n",
       "      <th>Max_Gust_SpeedKm_h</th>\n",
       "      <th>Precipitationmm</th>\n",
       "      <th>CloudCover</th>\n",
       "      <th>Events</th>\n",
       "      <th>WindDirDegrees</th>\n",
       "    </tr>\n",
       "  </thead>\n",
       "  <tbody>\n",
       "    <tr>\n",
       "      <th>count</th>\n",
       "      <td>NaN</td>\n",
       "      <td>NaN</td>\n",
       "      <td>15840</td>\n",
       "      <td>15840</td>\n",
       "      <td>15840</td>\n",
       "      <td>15840</td>\n",
       "      <td>15840</td>\n",
       "      <td>15840</td>\n",
       "      <td>15840</td>\n",
       "      <td>15840</td>\n",
       "      <td>...</td>\n",
       "      <td>15459</td>\n",
       "      <td>15459</td>\n",
       "      <td>15459</td>\n",
       "      <td>15840</td>\n",
       "      <td>15840</td>\n",
       "      <td>3604</td>\n",
       "      <td>15840</td>\n",
       "      <td>14667</td>\n",
       "      <td>NaN</td>\n",
       "      <td>15840</td>\n",
       "    </tr>\n",
       "    <tr>\n",
       "      <th>mean</th>\n",
       "      <td>NaN</td>\n",
       "      <td>NaN</td>\n",
       "      <td>14.6441</td>\n",
       "      <td>10.389</td>\n",
       "      <td>6.19899</td>\n",
       "      <td>8.58782</td>\n",
       "      <td>6.20581</td>\n",
       "      <td>3.62614</td>\n",
       "      <td>93.6596</td>\n",
       "      <td>74.2829</td>\n",
       "      <td>...</td>\n",
       "      <td>24.0576</td>\n",
       "      <td>12.2398</td>\n",
       "      <td>7.02516</td>\n",
       "      <td>22.7666</td>\n",
       "      <td>11.9722</td>\n",
       "      <td>48.8643</td>\n",
       "      <td>0.831718</td>\n",
       "      <td>5.55131</td>\n",
       "      <td>NaN</td>\n",
       "      <td>175.897</td>\n",
       "    </tr>\n",
       "    <tr>\n",
       "      <th>std</th>\n",
       "      <td>NaN</td>\n",
       "      <td>NaN</td>\n",
       "      <td>8.64601</td>\n",
       "      <td>7.37926</td>\n",
       "      <td>6.52639</td>\n",
       "      <td>6.24478</td>\n",
       "      <td>6.08677</td>\n",
       "      <td>6.12839</td>\n",
       "      <td>7.67853</td>\n",
       "      <td>13.4866</td>\n",
       "      <td>...</td>\n",
       "      <td>8.9768</td>\n",
       "      <td>5.06794</td>\n",
       "      <td>4.9806</td>\n",
       "      <td>8.98862</td>\n",
       "      <td>5.87284</td>\n",
       "      <td>13.027</td>\n",
       "      <td>2.51351</td>\n",
       "      <td>1.68771</td>\n",
       "      <td>NaN</td>\n",
       "      <td>101.589</td>\n",
       "    </tr>\n",
       "    <tr>\n",
       "      <th>min</th>\n",
       "      <td>NaN</td>\n",
       "      <td>NaN</td>\n",
       "      <td>-11</td>\n",
       "      <td>-13</td>\n",
       "      <td>-15</td>\n",
       "      <td>-14</td>\n",
       "      <td>-15</td>\n",
       "      <td>-73</td>\n",
       "      <td>44</td>\n",
       "      <td>30</td>\n",
       "      <td>...</td>\n",
       "      <td>0</td>\n",
       "      <td>0</td>\n",
       "      <td>0</td>\n",
       "      <td>3</td>\n",
       "      <td>2</td>\n",
       "      <td>21</td>\n",
       "      <td>0</td>\n",
       "      <td>0</td>\n",
       "      <td>NaN</td>\n",
       "      <td>-1</td>\n",
       "    </tr>\n",
       "    <tr>\n",
       "      <th>25%</th>\n",
       "      <td>NaN</td>\n",
       "      <td>NaN</td>\n",
       "      <td>8</td>\n",
       "      <td>4</td>\n",
       "      <td>1</td>\n",
       "      <td>4</td>\n",
       "      <td>2</td>\n",
       "      <td>-1</td>\n",
       "      <td>90.75</td>\n",
       "      <td>65</td>\n",
       "      <td>...</td>\n",
       "      <td>14</td>\n",
       "      <td>10</td>\n",
       "      <td>3</td>\n",
       "      <td>16</td>\n",
       "      <td>8</td>\n",
       "      <td>39</td>\n",
       "      <td>0</td>\n",
       "      <td>5</td>\n",
       "      <td>NaN</td>\n",
       "      <td>80</td>\n",
       "    </tr>\n",
       "    <tr>\n",
       "      <th>50%</th>\n",
       "      <td>NaN</td>\n",
       "      <td>NaN</td>\n",
       "      <td>15</td>\n",
       "      <td>11</td>\n",
       "      <td>7</td>\n",
       "      <td>9</td>\n",
       "      <td>7</td>\n",
       "      <td>4</td>\n",
       "      <td>94</td>\n",
       "      <td>76</td>\n",
       "      <td>...</td>\n",
       "      <td>31</td>\n",
       "      <td>11</td>\n",
       "      <td>7</td>\n",
       "      <td>21</td>\n",
       "      <td>11</td>\n",
       "      <td>48</td>\n",
       "      <td>0</td>\n",
       "      <td>6</td>\n",
       "      <td>NaN</td>\n",
       "      <td>202</td>\n",
       "    </tr>\n",
       "    <tr>\n",
       "      <th>75%</th>\n",
       "      <td>NaN</td>\n",
       "      <td>NaN</td>\n",
       "      <td>21</td>\n",
       "      <td>16</td>\n",
       "      <td>11</td>\n",
       "      <td>13</td>\n",
       "      <td>11</td>\n",
       "      <td>8</td>\n",
       "      <td>100</td>\n",
       "      <td>85</td>\n",
       "      <td>...</td>\n",
       "      <td>31</td>\n",
       "      <td>14</td>\n",
       "      <td>10</td>\n",
       "      <td>27</td>\n",
       "      <td>14</td>\n",
       "      <td>55</td>\n",
       "      <td>0.25</td>\n",
       "      <td>7</td>\n",
       "      <td>NaN</td>\n",
       "      <td>256</td>\n",
       "    </tr>\n",
       "    <tr>\n",
       "      <th>max</th>\n",
       "      <td>NaN</td>\n",
       "      <td>NaN</td>\n",
       "      <td>39</td>\n",
       "      <td>31</td>\n",
       "      <td>24</td>\n",
       "      <td>25</td>\n",
       "      <td>20</td>\n",
       "      <td>19</td>\n",
       "      <td>100</td>\n",
       "      <td>100</td>\n",
       "      <td>...</td>\n",
       "      <td>31</td>\n",
       "      <td>31</td>\n",
       "      <td>31</td>\n",
       "      <td>101</td>\n",
       "      <td>53</td>\n",
       "      <td>111</td>\n",
       "      <td>58.93</td>\n",
       "      <td>8</td>\n",
       "      <td>NaN</td>\n",
       "      <td>360</td>\n",
       "    </tr>\n",
       "    <tr>\n",
       "      <th>counts</th>\n",
       "      <td>15840</td>\n",
       "      <td>15840</td>\n",
       "      <td>15840</td>\n",
       "      <td>15840</td>\n",
       "      <td>15840</td>\n",
       "      <td>15840</td>\n",
       "      <td>15840</td>\n",
       "      <td>15840</td>\n",
       "      <td>15840</td>\n",
       "      <td>15840</td>\n",
       "      <td>...</td>\n",
       "      <td>15459</td>\n",
       "      <td>15459</td>\n",
       "      <td>15459</td>\n",
       "      <td>15840</td>\n",
       "      <td>15840</td>\n",
       "      <td>3604</td>\n",
       "      <td>15840</td>\n",
       "      <td>14667</td>\n",
       "      <td>11889</td>\n",
       "      <td>15840</td>\n",
       "    </tr>\n",
       "    <tr>\n",
       "      <th>uniques</th>\n",
       "      <td>16</td>\n",
       "      <td>990</td>\n",
       "      <td>51</td>\n",
       "      <td>45</td>\n",
       "      <td>40</td>\n",
       "      <td>40</td>\n",
       "      <td>36</td>\n",
       "      <td>40</td>\n",
       "      <td>53</td>\n",
       "      <td>71</td>\n",
       "      <td>...</td>\n",
       "      <td>24</td>\n",
       "      <td>32</td>\n",
       "      <td>24</td>\n",
       "      <td>44</td>\n",
       "      <td>29</td>\n",
       "      <td>47</td>\n",
       "      <td>41</td>\n",
       "      <td>9</td>\n",
       "      <td>21</td>\n",
       "      <td>362</td>\n",
       "    </tr>\n",
       "    <tr>\n",
       "      <th>missing</th>\n",
       "      <td>0</td>\n",
       "      <td>0</td>\n",
       "      <td>0</td>\n",
       "      <td>0</td>\n",
       "      <td>0</td>\n",
       "      <td>0</td>\n",
       "      <td>0</td>\n",
       "      <td>0</td>\n",
       "      <td>0</td>\n",
       "      <td>0</td>\n",
       "      <td>...</td>\n",
       "      <td>381</td>\n",
       "      <td>381</td>\n",
       "      <td>381</td>\n",
       "      <td>0</td>\n",
       "      <td>0</td>\n",
       "      <td>12236</td>\n",
       "      <td>0</td>\n",
       "      <td>1173</td>\n",
       "      <td>3951</td>\n",
       "      <td>0</td>\n",
       "    </tr>\n",
       "    <tr>\n",
       "      <th>missing_perc</th>\n",
       "      <td>0%</td>\n",
       "      <td>0%</td>\n",
       "      <td>0%</td>\n",
       "      <td>0%</td>\n",
       "      <td>0%</td>\n",
       "      <td>0%</td>\n",
       "      <td>0%</td>\n",
       "      <td>0%</td>\n",
       "      <td>0%</td>\n",
       "      <td>0%</td>\n",
       "      <td>...</td>\n",
       "      <td>2.41%</td>\n",
       "      <td>2.41%</td>\n",
       "      <td>2.41%</td>\n",
       "      <td>0%</td>\n",
       "      <td>0%</td>\n",
       "      <td>77.25%</td>\n",
       "      <td>0%</td>\n",
       "      <td>7.41%</td>\n",
       "      <td>24.94%</td>\n",
       "      <td>0%</td>\n",
       "    </tr>\n",
       "    <tr>\n",
       "      <th>types</th>\n",
       "      <td>categorical</td>\n",
       "      <td>categorical</td>\n",
       "      <td>numeric</td>\n",
       "      <td>numeric</td>\n",
       "      <td>numeric</td>\n",
       "      <td>numeric</td>\n",
       "      <td>numeric</td>\n",
       "      <td>numeric</td>\n",
       "      <td>numeric</td>\n",
       "      <td>numeric</td>\n",
       "      <td>...</td>\n",
       "      <td>numeric</td>\n",
       "      <td>numeric</td>\n",
       "      <td>numeric</td>\n",
       "      <td>numeric</td>\n",
       "      <td>numeric</td>\n",
       "      <td>numeric</td>\n",
       "      <td>numeric</td>\n",
       "      <td>numeric</td>\n",
       "      <td>categorical</td>\n",
       "      <td>numeric</td>\n",
       "    </tr>\n",
       "  </tbody>\n",
       "</table>\n",
       "<p>13 rows × 24 columns</p>\n",
       "</div>"
      ],
      "text/plain": [
       "                     file         Date Max_TemperatureC Mean_TemperatureC  \\\n",
       "count                 NaN          NaN            15840             15840   \n",
       "mean                  NaN          NaN          14.6441            10.389   \n",
       "std                   NaN          NaN          8.64601           7.37926   \n",
       "min                   NaN          NaN              -11               -13   \n",
       "25%                   NaN          NaN                8                 4   \n",
       "50%                   NaN          NaN               15                11   \n",
       "75%                   NaN          NaN               21                16   \n",
       "max                   NaN          NaN               39                31   \n",
       "counts              15840        15840            15840             15840   \n",
       "uniques                16          990               51                45   \n",
       "missing                 0            0                0                 0   \n",
       "missing_perc           0%           0%               0%                0%   \n",
       "types         categorical  categorical          numeric           numeric   \n",
       "\n",
       "             Min_TemperatureC Dew_PointC MeanDew_PointC Min_DewpointC  \\\n",
       "count                   15840      15840          15840         15840   \n",
       "mean                  6.19899    8.58782        6.20581       3.62614   \n",
       "std                   6.52639    6.24478        6.08677       6.12839   \n",
       "min                       -15        -14            -15           -73   \n",
       "25%                         1          4              2            -1   \n",
       "50%                         7          9              7             4   \n",
       "75%                        11         13             11             8   \n",
       "max                        24         25             20            19   \n",
       "counts                  15840      15840          15840         15840   \n",
       "uniques                    40         40             36            40   \n",
       "missing                     0          0              0             0   \n",
       "missing_perc               0%         0%             0%            0%   \n",
       "types                 numeric    numeric        numeric       numeric   \n",
       "\n",
       "             Max_Humidity Mean_Humidity      ...       Max_VisibilityKm  \\\n",
       "count               15840         15840      ...                  15459   \n",
       "mean              93.6596       74.2829      ...                24.0576   \n",
       "std               7.67853       13.4866      ...                 8.9768   \n",
       "min                    44            30      ...                      0   \n",
       "25%                 90.75            65      ...                     14   \n",
       "50%                    94            76      ...                     31   \n",
       "75%                   100            85      ...                     31   \n",
       "max                   100           100      ...                     31   \n",
       "counts              15840         15840      ...                  15459   \n",
       "uniques                53            71      ...                     24   \n",
       "missing                 0             0      ...                    381   \n",
       "missing_perc           0%            0%      ...                  2.41%   \n",
       "types             numeric       numeric      ...                numeric   \n",
       "\n",
       "             Mean_VisibilityKm Min_VisibilitykM Max_Wind_SpeedKm_h  \\\n",
       "count                    15459            15459              15840   \n",
       "mean                   12.2398          7.02516            22.7666   \n",
       "std                    5.06794           4.9806            8.98862   \n",
       "min                          0                0                  3   \n",
       "25%                         10                3                 16   \n",
       "50%                         11                7                 21   \n",
       "75%                         14               10                 27   \n",
       "max                         31               31                101   \n",
       "counts                   15459            15459              15840   \n",
       "uniques                     32               24                 44   \n",
       "missing                    381              381                  0   \n",
       "missing_perc             2.41%            2.41%                 0%   \n",
       "types                  numeric          numeric            numeric   \n",
       "\n",
       "             Mean_Wind_SpeedKm_h Max_Gust_SpeedKm_h Precipitationmm  \\\n",
       "count                      15840               3604           15840   \n",
       "mean                     11.9722            48.8643        0.831718   \n",
       "std                      5.87284             13.027         2.51351   \n",
       "min                            2                 21               0   \n",
       "25%                            8                 39               0   \n",
       "50%                           11                 48               0   \n",
       "75%                           14                 55            0.25   \n",
       "max                           53                111           58.93   \n",
       "counts                     15840               3604           15840   \n",
       "uniques                       29                 47              41   \n",
       "missing                        0              12236               0   \n",
       "missing_perc                  0%             77.25%              0%   \n",
       "types                    numeric            numeric         numeric   \n",
       "\n",
       "             CloudCover       Events WindDirDegrees  \n",
       "count             14667          NaN          15840  \n",
       "mean            5.55131          NaN        175.897  \n",
       "std             1.68771          NaN        101.589  \n",
       "min                   0          NaN             -1  \n",
       "25%                   5          NaN             80  \n",
       "50%                   6          NaN            202  \n",
       "75%                   7          NaN            256  \n",
       "max                   8          NaN            360  \n",
       "counts            14667        11889          15840  \n",
       "uniques               9           21            362  \n",
       "missing            1173         3951              0  \n",
       "missing_perc      7.41%       24.94%             0%  \n",
       "types           numeric  categorical        numeric  \n",
       "\n",
       "[13 rows x 24 columns]"
      ]
     },
     "metadata": {},
     "output_type": "display_data"
    },
    {
     "data": {
      "text/plain": [
       "' Dataframe Summary for Table Name=test'"
      ]
     },
     "metadata": {},
     "output_type": "display_data"
    },
    {
     "data": {
      "text/html": [
       "<div>\n",
       "<style scoped>\n",
       "    .dataframe tbody tr th:only-of-type {\n",
       "        vertical-align: middle;\n",
       "    }\n",
       "\n",
       "    .dataframe tbody tr th {\n",
       "        vertical-align: top;\n",
       "    }\n",
       "\n",
       "    .dataframe thead th {\n",
       "        text-align: right;\n",
       "    }\n",
       "</style>\n",
       "<table border=\"1\" class=\"dataframe\">\n",
       "  <thead>\n",
       "    <tr style=\"text-align: right;\">\n",
       "      <th></th>\n",
       "      <th>Id</th>\n",
       "      <th>Store</th>\n",
       "      <th>DayOfWeek</th>\n",
       "      <th>Date</th>\n",
       "      <th>Open</th>\n",
       "      <th>Promo</th>\n",
       "      <th>StateHoliday</th>\n",
       "      <th>SchoolHoliday</th>\n",
       "    </tr>\n",
       "  </thead>\n",
       "  <tbody>\n",
       "    <tr>\n",
       "      <th>count</th>\n",
       "      <td>41088</td>\n",
       "      <td>41088</td>\n",
       "      <td>41088</td>\n",
       "      <td>NaN</td>\n",
       "      <td>41077</td>\n",
       "      <td>41088</td>\n",
       "      <td>NaN</td>\n",
       "      <td>41088</td>\n",
       "    </tr>\n",
       "    <tr>\n",
       "      <th>mean</th>\n",
       "      <td>20544.5</td>\n",
       "      <td>555.9</td>\n",
       "      <td>3.97917</td>\n",
       "      <td>NaN</td>\n",
       "      <td>0.854322</td>\n",
       "      <td>0.395833</td>\n",
       "      <td>NaN</td>\n",
       "      <td>0.443487</td>\n",
       "    </tr>\n",
       "    <tr>\n",
       "      <th>std</th>\n",
       "      <td>11861.2</td>\n",
       "      <td>320.274</td>\n",
       "      <td>2.01548</td>\n",
       "      <td>NaN</td>\n",
       "      <td>0.352787</td>\n",
       "      <td>0.489035</td>\n",
       "      <td>NaN</td>\n",
       "      <td>0.496802</td>\n",
       "    </tr>\n",
       "    <tr>\n",
       "      <th>min</th>\n",
       "      <td>1</td>\n",
       "      <td>1</td>\n",
       "      <td>1</td>\n",
       "      <td>NaN</td>\n",
       "      <td>0</td>\n",
       "      <td>0</td>\n",
       "      <td>NaN</td>\n",
       "      <td>0</td>\n",
       "    </tr>\n",
       "    <tr>\n",
       "      <th>25%</th>\n",
       "      <td>10272.8</td>\n",
       "      <td>279.75</td>\n",
       "      <td>2</td>\n",
       "      <td>NaN</td>\n",
       "      <td>1</td>\n",
       "      <td>0</td>\n",
       "      <td>NaN</td>\n",
       "      <td>0</td>\n",
       "    </tr>\n",
       "    <tr>\n",
       "      <th>50%</th>\n",
       "      <td>20544.5</td>\n",
       "      <td>553.5</td>\n",
       "      <td>4</td>\n",
       "      <td>NaN</td>\n",
       "      <td>1</td>\n",
       "      <td>0</td>\n",
       "      <td>NaN</td>\n",
       "      <td>0</td>\n",
       "    </tr>\n",
       "    <tr>\n",
       "      <th>75%</th>\n",
       "      <td>30816.2</td>\n",
       "      <td>832.25</td>\n",
       "      <td>6</td>\n",
       "      <td>NaN</td>\n",
       "      <td>1</td>\n",
       "      <td>1</td>\n",
       "      <td>NaN</td>\n",
       "      <td>1</td>\n",
       "    </tr>\n",
       "    <tr>\n",
       "      <th>max</th>\n",
       "      <td>41088</td>\n",
       "      <td>1115</td>\n",
       "      <td>7</td>\n",
       "      <td>NaN</td>\n",
       "      <td>1</td>\n",
       "      <td>1</td>\n",
       "      <td>NaN</td>\n",
       "      <td>1</td>\n",
       "    </tr>\n",
       "    <tr>\n",
       "      <th>counts</th>\n",
       "      <td>41088</td>\n",
       "      <td>41088</td>\n",
       "      <td>41088</td>\n",
       "      <td>41088</td>\n",
       "      <td>41077</td>\n",
       "      <td>41088</td>\n",
       "      <td>41088</td>\n",
       "      <td>41088</td>\n",
       "    </tr>\n",
       "    <tr>\n",
       "      <th>uniques</th>\n",
       "      <td>41088</td>\n",
       "      <td>856</td>\n",
       "      <td>7</td>\n",
       "      <td>48</td>\n",
       "      <td>2</td>\n",
       "      <td>2</td>\n",
       "      <td>2</td>\n",
       "      <td>2</td>\n",
       "    </tr>\n",
       "    <tr>\n",
       "      <th>missing</th>\n",
       "      <td>0</td>\n",
       "      <td>0</td>\n",
       "      <td>0</td>\n",
       "      <td>0</td>\n",
       "      <td>11</td>\n",
       "      <td>0</td>\n",
       "      <td>0</td>\n",
       "      <td>0</td>\n",
       "    </tr>\n",
       "    <tr>\n",
       "      <th>missing_perc</th>\n",
       "      <td>0%</td>\n",
       "      <td>0%</td>\n",
       "      <td>0%</td>\n",
       "      <td>0%</td>\n",
       "      <td>0.03%</td>\n",
       "      <td>0%</td>\n",
       "      <td>0%</td>\n",
       "      <td>0%</td>\n",
       "    </tr>\n",
       "    <tr>\n",
       "      <th>types</th>\n",
       "      <td>numeric</td>\n",
       "      <td>numeric</td>\n",
       "      <td>numeric</td>\n",
       "      <td>categorical</td>\n",
       "      <td>bool</td>\n",
       "      <td>bool</td>\n",
       "      <td>bool</td>\n",
       "      <td>bool</td>\n",
       "    </tr>\n",
       "  </tbody>\n",
       "</table>\n",
       "</div>"
      ],
      "text/plain": [
       "                   Id    Store DayOfWeek         Date      Open     Promo  \\\n",
       "count           41088    41088     41088          NaN     41077     41088   \n",
       "mean          20544.5    555.9   3.97917          NaN  0.854322  0.395833   \n",
       "std           11861.2  320.274   2.01548          NaN  0.352787  0.489035   \n",
       "min                 1        1         1          NaN         0         0   \n",
       "25%           10272.8   279.75         2          NaN         1         0   \n",
       "50%           20544.5    553.5         4          NaN         1         0   \n",
       "75%           30816.2   832.25         6          NaN         1         1   \n",
       "max             41088     1115         7          NaN         1         1   \n",
       "counts          41088    41088     41088        41088     41077     41088   \n",
       "uniques         41088      856         7           48         2         2   \n",
       "missing             0        0         0            0        11         0   \n",
       "missing_perc       0%       0%        0%           0%     0.03%        0%   \n",
       "types         numeric  numeric   numeric  categorical      bool      bool   \n",
       "\n",
       "             StateHoliday SchoolHoliday  \n",
       "count                 NaN         41088  \n",
       "mean                  NaN      0.443487  \n",
       "std                   NaN      0.496802  \n",
       "min                   NaN             0  \n",
       "25%                   NaN             0  \n",
       "50%                   NaN             0  \n",
       "75%                   NaN             1  \n",
       "max                   NaN             1  \n",
       "counts              41088         41088  \n",
       "uniques                 2             2  \n",
       "missing                 0             0  \n",
       "missing_perc           0%            0%  \n",
       "types                bool          bool  "
      ]
     },
     "metadata": {},
     "output_type": "display_data"
    }
   ],
   "source": [
    "for name,table in tables.items(): \n",
    "    display(f\" Dataframe Summary for Table Name={name}\")\n",
    "    display(DataFrameSummary(table).summary())"
   ]
  },
  {
   "cell_type": "code",
   "execution_count": 8,
   "metadata": {
    "hidden": true
   },
   "outputs": [
    {
     "name": "stdout",
     "output_type": "stream",
     "text": [
      "Number of rows in Training set=1017209\n",
      "Number of rows in Test set=41088\n"
     ]
    }
   ],
   "source": [
    "print(f\"Number of rows in Training set={len(tables['train'])}\")\n",
    "print(f\"Number of rows in Test set={len(tables['test'])}\")"
   ]
  },
  {
   "cell_type": "markdown",
   "metadata": {
    "hidden": true
   },
   "source": [
    "### Data Cleaning / Feature Engineering"
   ]
  },
  {
   "cell_type": "markdown",
   "metadata": {
    "hidden": true
   },
   "source": [
    "#### Defining some generic functions"
   ]
  },
  {
   "cell_type": "markdown",
   "metadata": {
    "hidden": true
   },
   "source": [
    "Function to Join two dataframes (Left outer join) with all columns in right df getting suffix _y"
   ]
  },
  {
   "cell_type": "code",
   "execution_count": 13,
   "metadata": {
    "hidden": true
   },
   "outputs": [],
   "source": [
    "def join_df(left, right, left_on, right_on=None):\n",
    "    if right_on is None: right_on = left_on\n",
    "    return left.merge(right, how='left', left_on=left_on, right_on=right_on, \n",
    "                      suffixes=(\"\", \"_y\"))"
   ]
  },
  {
   "cell_type": "markdown",
   "metadata": {
    "hidden": true
   },
   "source": [
    "Function to Process Date column in dataframes and get Year/ Month/ Week/ Day"
   ]
  },
  {
   "cell_type": "code",
   "execution_count": 14,
   "metadata": {
    "hidden": true
   },
   "outputs": [],
   "source": [
    "def add_datepart(df, fldname, drop=True, time=False):\n",
    "    import re\n",
    "    #\"\"\"add_datepart converts a column of df from a datetime64 to many columns containing\n",
    "    #the information from the date. This applies changes inplace.\n",
    "    #Parameters:\n",
    "    #-----------\n",
    "    # df: A pandas data frame. df gain several new columns.\n",
    "    # fldname: A string that is the name of the date column you wish to expand.\n",
    "    #     If it is not a datetime64 series, it will be converted to one with pd.to_datetime.\n",
    "    # drop: If true then the original date column will be removed.\n",
    "    # time: If true time features: Hour, Minute, Second will be added.\n",
    "    # Examples:\n",
    "    # ---------\n",
    "    # >>> df = pd.DataFrame({ 'A' : pd.to_datetime(['3/11/2000', '3/12/2000', '3/13/2000'], infer_datetime_format=False) })\n",
    "    #>>> df\n",
    "    #    A\n",
    "    # 0   2000-03-11\n",
    "    # 1   2000-03-12\n",
    "    # 2   2000-03-13\n",
    "    # >>> add_datepart(df, 'A')\n",
    "    # >>> df\n",
    "    #     AYear AMonth AWeek ADay ADayofweek ADayofyear AIs_month_end AIs_month_start AIs_quarter_end AIs_quarter_start AIs_year_end AIs_year_start AElapsed\n",
    "    # 0   2000  3      10    11   5          71         False         False           False           False             False        False          952732800\n",
    "    # 1   2000  3      10    12   6          72         False         False           False           False             False        False          952819200\n",
    "    # 2   2000  3      11    13   0          73         False         False           False           False             False        False          952905600\n",
    "    # \"\"\"\n",
    "    fld = df[fldname]\n",
    "    fld_dtype = fld.dtype\n",
    "    if isinstance(fld_dtype, pd.core.dtypes.dtypes.DatetimeTZDtype):\n",
    "        fld_dtype = np.datetime64\n",
    "\n",
    "    if not np.issubdtype(fld_dtype, np.datetime64):\n",
    "        df[fldname] = fld = pd.to_datetime(fld, infer_datetime_format=True)\n",
    "    targ_pre = re.sub('[Dd]ate$', '', fldname)\n",
    "    attr = ['Year', 'Month', 'Week', 'Day', 'Dayofweek', 'Dayofyear',\n",
    "            'Is_month_end', 'Is_month_start', 'Is_quarter_end', 'Is_quarter_start', 'Is_year_end', 'Is_year_start']\n",
    "    if time: attr = attr + ['Hour', 'Minute', 'Second']\n",
    "    for n in attr: df[targ_pre + n] = getattr(fld.dt, n.lower())\n",
    "    df[targ_pre + 'Elapsed'] = fld.astype(np.int64) // 10 ** 9\n",
    "    if drop: df.drop(fldname, axis=1, inplace=True)"
   ]
  },
  {
   "cell_type": "markdown",
   "metadata": {
    "hidden": true
   },
   "source": [
    "#### 1) Turning State Holidays to Boolean "
   ]
  },
  {
   "cell_type": "code",
   "execution_count": 15,
   "metadata": {
    "hidden": true
   },
   "outputs": [],
   "source": [
    "tables['train'].StateHoliday = tables['train'].StateHoliday!='0'\n",
    "tables['test'].StateHoliday = tables['test'].StateHoliday!='0'"
   ]
  },
  {
   "cell_type": "markdown",
   "metadata": {
    "hidden": true
   },
   "source": [
    "#### 2) Joining Weather and State names"
   ]
  },
  {
   "cell_type": "code",
   "execution_count": 16,
   "metadata": {
    "hidden": true
   },
   "outputs": [],
   "source": [
    "tables[\"weather\"]= join_df(tables[\"weather\"],tables[\"state_names\"],left_on=\"file\",right_on=\"StateName\")"
   ]
  },
  {
   "cell_type": "markdown",
   "metadata": {
    "hidden": true
   },
   "source": [
    "#### 3) Creating Date and State columns in Google Trends and Replacing all occurances of NI in state to HB,NI"
   ]
  },
  {
   "cell_type": "code",
   "execution_count": 17,
   "metadata": {
    "hidden": true
   },
   "outputs": [],
   "source": [
    "tables['googletrend']['Date'] = tables['googletrend'].week.str.split(' - ', expand=True)[0]\n",
    "tables['googletrend']['State'] = tables['googletrend'].file.str.split('_', expand=True)[2]\n",
    "tables['googletrend'].loc[tables['googletrend'].State=='NI', \"State\"] = 'HB,NI'"
   ]
  },
  {
   "cell_type": "markdown",
   "metadata": {
    "hidden": true
   },
   "source": [
    "#### 4) Adding Date Processing to all tables using datepart processing function defined above"
   ]
  },
  {
   "cell_type": "code",
   "execution_count": 18,
   "metadata": {
    "hidden": true
   },
   "outputs": [],
   "source": [
    "add_datepart(tables['weather'], \"Date\", drop=False)\n",
    "add_datepart(tables['googletrend'], \"Date\", drop=False)\n",
    "add_datepart(tables['train'], \"Date\", drop=False)\n",
    "add_datepart(tables['test'], \"Date\", drop=False)\n"
   ]
  },
  {
   "cell_type": "markdown",
   "metadata": {
    "hidden": true
   },
   "source": [
    "#### 5) Selecting only those Google Trends that are related to Rossmann"
   ]
  },
  {
   "cell_type": "code",
   "execution_count": 19,
   "metadata": {
    "hidden": true
   },
   "outputs": [],
   "source": [
    "tables['trend_de'] = tables['googletrend'][tables['googletrend'].file == 'Rossmann_DE']"
   ]
  },
  {
   "cell_type": "markdown",
   "metadata": {
    "hidden": true
   },
   "source": [
    "#### 6) (Left Outer) joining all tables together"
   ]
  },
  {
   "cell_type": "markdown",
   "metadata": {
    "hidden": true
   },
   "source": [
    "Join 1 : Joining store and store states"
   ]
  },
  {
   "cell_type": "code",
   "execution_count": 20,
   "metadata": {
    "hidden": true
   },
   "outputs": [
    {
     "data": {
      "text/plain": [
       "0"
      ]
     },
     "execution_count": 20,
     "metadata": {},
     "output_type": "execute_result"
    }
   ],
   "source": [
    "tables['store'] = join_df(tables['store'], tables['store_states'], \"Store\")\n",
    "len(tables['store'][tables['store'].State.isnull()])"
   ]
  },
  {
   "cell_type": "markdown",
   "metadata": {
    "hidden": true
   },
   "source": [
    "Joining this store table to the train and test datasets"
   ]
  },
  {
   "cell_type": "code",
   "execution_count": 21,
   "metadata": {
    "hidden": true
   },
   "outputs": [
    {
     "data": {
      "text/plain": [
       "0"
      ]
     },
     "execution_count": 21,
     "metadata": {},
     "output_type": "execute_result"
    }
   ],
   "source": [
    "tables['joined'] = join_df(tables['train'], tables['store'], \"Store\")\n",
    "tables['joined_test'] = join_df(tables['test'], tables['store'], \"Store\")\n",
    "len(tables['joined'][tables['joined'].StoreType.isnull()])"
   ]
  },
  {
   "cell_type": "markdown",
   "metadata": {
    "hidden": true
   },
   "source": [
    "Joining these train and test tables with the googletrend dataset"
   ]
  },
  {
   "cell_type": "code",
   "execution_count": 22,
   "metadata": {
    "hidden": true
   },
   "outputs": [
    {
     "data": {
      "text/plain": [
       "0"
      ]
     },
     "execution_count": 22,
     "metadata": {},
     "output_type": "execute_result"
    }
   ],
   "source": [
    "tables['joined'] = join_df(tables['joined'], tables['googletrend'],[\"State\",\"Year\", \"Week\"])\n",
    "tables['joined_test'] = join_df(tables['joined_test'], tables['googletrend'],[\"State\",\"Year\", \"Week\"])\n",
    "len(tables['joined'][tables['joined'].trend.isnull()])"
   ]
  },
  {
   "cell_type": "markdown",
   "metadata": {
    "hidden": true
   },
   "source": [
    "Joining these train and test tables with the trend_de dataset"
   ]
  },
  {
   "cell_type": "code",
   "execution_count": 23,
   "metadata": {
    "hidden": true
   },
   "outputs": [
    {
     "data": {
      "text/plain": [
       "0"
      ]
     },
     "execution_count": 23,
     "metadata": {},
     "output_type": "execute_result"
    }
   ],
   "source": [
    "tables['joined'] = tables['joined'].merge(tables['trend_de'], 'left', [\"Year\", \"Week\"], suffixes=('', '_DE'))\n",
    "tables['joined_test'] = tables['joined_test'].merge(tables['trend_de'], 'left', [\"Year\", \"Week\"], suffixes=('', '_DE'))\n",
    "len(tables['joined'][tables['joined'].trend_DE.isnull()])"
   ]
  },
  {
   "cell_type": "markdown",
   "metadata": {
    "hidden": true
   },
   "source": [
    "Joining these train and test tables with the weather dataset"
   ]
  },
  {
   "cell_type": "code",
   "execution_count": 24,
   "metadata": {
    "hidden": true
   },
   "outputs": [
    {
     "data": {
      "text/plain": [
       "0"
      ]
     },
     "execution_count": 24,
     "metadata": {},
     "output_type": "execute_result"
    }
   ],
   "source": [
    "tables['joined'] = join_df(tables['joined'], tables['weather'], [\"State\",\"Date\"])\n",
    "tables['joined_test'] = join_df(tables['joined_test'], tables['weather'], [\"State\",\"Date\"])\n",
    "len(tables['joined'][tables['joined'].Mean_TemperatureC.isnull()])"
   ]
  },
  {
   "cell_type": "markdown",
   "metadata": {
    "hidden": true
   },
   "source": [
    "**Note** - Storing the results of joining in variables to save me some typing"
   ]
  },
  {
   "cell_type": "code",
   "execution_count": 25,
   "metadata": {
    "hidden": true
   },
   "outputs": [],
   "source": [
    "joined= tables['joined']\n",
    "joined_test= tables[\"joined_test\"]"
   ]
  },
  {
   "cell_type": "markdown",
   "metadata": {
    "hidden": true
   },
   "source": [
    "#### 7) Fill in missing values to avoid complications w/ na's."
   ]
  },
  {
   "cell_type": "code",
   "execution_count": 26,
   "metadata": {
    "hidden": true
   },
   "outputs": [],
   "source": [
    "for df in (joined,joined_test):\n",
    "    df['CompetitionOpenSinceYear'] = df.CompetitionOpenSinceYear.fillna(1900).astype(np.int32)\n",
    "    df['CompetitionOpenSinceMonth'] = df.CompetitionOpenSinceMonth.fillna(1).astype(np.int32)\n",
    "    df['Promo2SinceYear'] = df.Promo2SinceYear.fillna(1900).astype(np.int32)\n",
    "    df['Promo2SinceWeek'] = df.Promo2SinceWeek.fillna(1).astype(np.int32)"
   ]
  },
  {
   "cell_type": "markdown",
   "metadata": {
    "hidden": true
   },
   "source": [
    "#### 8) Extracting Number of Days since Competitior opened"
   ]
  },
  {
   "cell_type": "code",
   "execution_count": 27,
   "metadata": {
    "hidden": true
   },
   "outputs": [],
   "source": [
    "for df in (joined,joined_test):\n",
    "    df[\"CompetitionOpenSince\"] = pd.to_datetime(dict(year=df.CompetitionOpenSinceYear, \n",
    "                                                     month=df.CompetitionOpenSinceMonth, day=15))\n",
    "    df[\"CompetitionDaysOpen\"] = df.Date.subtract(df.CompetitionOpenSince).dt.days"
   ]
  },
  {
   "cell_type": "markdown",
   "metadata": {
    "hidden": true
   },
   "source": [
    "Replacing outliers/ erroneous data"
   ]
  },
  {
   "cell_type": "code",
   "execution_count": 28,
   "metadata": {
    "hidden": true
   },
   "outputs": [],
   "source": [
    "for df in (joined,joined_test):\n",
    "    df.loc[df.CompetitionDaysOpen<0, \"CompetitionDaysOpen\"] = 0\n",
    "    df.loc[df.CompetitionOpenSinceYear<1990, \"CompetitionDaysOpen\"] = 0"
   ]
  },
  {
   "cell_type": "markdown",
   "metadata": {
    "hidden": true
   },
   "source": [
    "#### 9) Added \"CompetitionMonthsOpen\" field, limit the maximum to 2 years to limit number of unique embeddings."
   ]
  },
  {
   "cell_type": "code",
   "execution_count": 29,
   "metadata": {
    "hidden": true
   },
   "outputs": [
    {
     "name": "stdout",
     "output_type": "stream",
     "text": [
      "[24  3 19  9  0 16 17  7 15 22 11 13  2 23 12  4 10  1 14 20  8 18  6 21\n",
      "  5]\n",
      "[24 11  0 18 19 17 21 13  9  2 14  4  6 12  3 16 10 15 20 22  5 23  7  1\n",
      "  8]\n"
     ]
    }
   ],
   "source": [
    "for df in (joined,joined_test):    \n",
    "    df[\"CompetitionMonthsOpen\"] = df[\"CompetitionDaysOpen\"]//30\n",
    "    df.loc[df.CompetitionMonthsOpen>24, \"CompetitionMonthsOpen\"] = 24\n",
    "    print(df.CompetitionMonthsOpen.unique())"
   ]
  },
  {
   "cell_type": "markdown",
   "metadata": {
    "hidden": true
   },
   "source": [
    "#### 10) Doing equivalent of steps 8 and 9 for Promo2 field"
   ]
  },
  {
   "cell_type": "code",
   "execution_count": 30,
   "metadata": {
    "hidden": true
   },
   "outputs": [],
   "source": [
    "for df in (joined,joined_test):    \n",
    "    df[\"Promo2Since\"] = pd.to_datetime(df.apply(lambda x: Week(\n",
    "        x.Promo2SinceYear, x.Promo2SinceWeek).monday(), axis=1).astype(pd.datetime))\n",
    "    df[\"Promo2Days\"] = df.Date.subtract(df[\"Promo2Since\"]).dt.days\n",
    "    df.loc[df.Promo2Days<0, \"Promo2Days\"] = 0\n",
    "    df.loc[df.Promo2SinceYear<1990, \"Promo2Days\"] = 0\n",
    "    df[\"Promo2Weeks\"] = df[\"Promo2Days\"]//7\n",
    "    df.loc[df.Promo2Weeks<0, \"Promo2Weeks\"] = 0\n",
    "    df.loc[df.Promo2Weeks>25, \"Promo2Weeks\"] = 25\n",
    "    df.Promo2Weeks.unique()"
   ]
  },
  {
   "cell_type": "code",
   "execution_count": 31,
   "metadata": {
    "hidden": true
   },
   "outputs": [],
   "source": [
    "for df in (joined, joined_test):\n",
    "    for c in df.columns:\n",
    "        if c.endswith('_y'):\n",
    "            if c in df.columns: df.drop(c, inplace=True, axis=1)"
   ]
  },
  {
   "cell_type": "markdown",
   "metadata": {
    "hidden": true
   },
   "source": [
    "#### 11) Dealing with Durations"
   ]
  },
  {
   "cell_type": "markdown",
   "metadata": {
    "hidden": true
   },
   "source": [
    "It is common when working with time series data to extract data that explains relationships across rows as opposed to columns, e.g.:\n",
    "* Running averages\n",
    "* Time until next event\n",
    "* Time since last event\n",
    "\n",
    "This is often difficult to do with most table manipulation frameworks, since they are designed to work with relationships across columns. As such, we've created a function to handle this type of data."
   ]
  },
  {
   "cell_type": "code",
   "execution_count": 32,
   "metadata": {
    "hidden": true
   },
   "outputs": [],
   "source": [
    "columns = [\"Date\", \"Store\", \"Promo\", \"StateHoliday\", \"SchoolHoliday\"]"
   ]
  },
  {
   "cell_type": "markdown",
   "metadata": {
    "hidden": true
   },
   "source": [
    "We've defined a fnction `get_elapsed` for cumulative counting across a sorted dataframe.\n",
    "\n",
    "Given a particular field `fld` to monitor, this object will start tracking time since the last occurrence of that field. When the field is seen again, the counter is set to zero."
   ]
  },
  {
   "cell_type": "code",
   "execution_count": 33,
   "metadata": {
    "hidden": true
   },
   "outputs": [],
   "source": [
    "def get_elapsed(fld, pre):\n",
    "    day1 = np.timedelta64(1, 'D')\n",
    "    last_date = np.datetime64()\n",
    "    last_store = 0\n",
    "    res = []\n",
    "\n",
    "    for s,v,d in zip(df.Store.values,df[fld].values, df.Date.values):\n",
    "        if s != last_store:\n",
    "            last_date = np.datetime64()\n",
    "            last_store = s\n",
    "        if v: last_date = d\n",
    "        res.append(((d-last_date).astype('timedelta64[D]') / day1))\n",
    "    df[pre+fld] = res"
   ]
  },
  {
   "cell_type": "code",
   "execution_count": 34,
   "metadata": {
    "hidden": true,
    "scrolled": true
   },
   "outputs": [],
   "source": [
    "df = tables['train'][columns].append(tables['test'][columns])"
   ]
  },
  {
   "cell_type": "markdown",
   "metadata": {
    "hidden": true
   },
   "source": [
    "And a function for applying said class across dataframe rows and adding values to a new column."
   ]
  },
  {
   "cell_type": "markdown",
   "metadata": {
    "hidden": true
   },
   "source": [
    "Let's walk through an example.\n",
    "\n",
    "Say we're looking at School Holiday. We'll first sort by Store, then Date, and then call `add_elapsed('SchoolHoliday', 'After')`:\n",
    "This will generate an instance of the `elapsed` class for School Holiday:\n",
    "* Instance applied to every row of the dataframe in order of store and date\n",
    "* Will add to the dataframe the days since seeing a School Holiday\n",
    "* If we sort in the other direction, this will count the days until another promotion."
   ]
  },
  {
   "cell_type": "code",
   "execution_count": 35,
   "metadata": {
    "hidden": true
   },
   "outputs": [],
   "source": [
    "fld = 'SchoolHoliday'\n",
    "df = df.sort_values(['Store', 'Date'])\n",
    "get_elapsed(fld, 'After')\n",
    "df = df.sort_values(['Store', 'Date'], ascending=[True, False])\n",
    "get_elapsed(fld, 'Before')"
   ]
  },
  {
   "cell_type": "markdown",
   "metadata": {
    "hidden": true
   },
   "source": [
    "We'll do this for two more fields."
   ]
  },
  {
   "cell_type": "code",
   "execution_count": 36,
   "metadata": {
    "hidden": true
   },
   "outputs": [],
   "source": [
    "fld = 'StateHoliday'\n",
    "df = df.sort_values(['Store', 'Date'])\n",
    "get_elapsed(fld, 'After')\n",
    "df = df.sort_values(['Store', 'Date'], ascending=[True, False])\n",
    "get_elapsed(fld, 'Before')"
   ]
  },
  {
   "cell_type": "code",
   "execution_count": 37,
   "metadata": {
    "hidden": true
   },
   "outputs": [],
   "source": [
    "fld = 'Promo'\n",
    "df = df.sort_values(['Store', 'Date'])\n",
    "get_elapsed(fld, 'After')\n",
    "df = df.sort_values(['Store', 'Date'], ascending=[True, False])\n",
    "get_elapsed(fld, 'Before')\n"
   ]
  },
  {
   "cell_type": "markdown",
   "metadata": {
    "hidden": true
   },
   "source": [
    "We're going to set the active index to Date."
   ]
  },
  {
   "cell_type": "code",
   "execution_count": 38,
   "metadata": {
    "hidden": true
   },
   "outputs": [],
   "source": [
    "df = df.set_index(\"Date\")"
   ]
  },
  {
   "cell_type": "markdown",
   "metadata": {
    "hidden": true
   },
   "source": [
    "Then set null values from elapsed field calculations to 0."
   ]
  },
  {
   "cell_type": "code",
   "execution_count": 39,
   "metadata": {
    "hidden": true
   },
   "outputs": [],
   "source": [
    "rolling_columns = ['SchoolHoliday', 'StateHoliday', 'Promo']"
   ]
  },
  {
   "cell_type": "code",
   "execution_count": 40,
   "metadata": {
    "hidden": true
   },
   "outputs": [],
   "source": [
    "for o in ['Before', 'After']:\n",
    "    for p in rolling_columns:\n",
    "        a = o+p\n",
    "        df[a] = df[a].fillna(0).astype(int)"
   ]
  },
  {
   "cell_type": "markdown",
   "metadata": {
    "hidden": true
   },
   "source": [
    "Next we'll demonstrate window functions in pandas to calculate rolling quantities.\n",
    "\n",
    "Here we're sorting by date (`sort_index()`) and counting the number of events of interest (`sum()`) defined in `columns` in the following week (`rolling()`), grouped by Store (`groupby()`). We do the same in the opposite direction."
   ]
  },
  {
   "cell_type": "code",
   "execution_count": 41,
   "metadata": {
    "hidden": true
   },
   "outputs": [],
   "source": [
    "bwd = df[['Store']+rolling_columns].sort_index().groupby(\"Store\").rolling(7, min_periods=1).sum()"
   ]
  },
  {
   "cell_type": "code",
   "execution_count": 42,
   "metadata": {
    "hidden": true
   },
   "outputs": [],
   "source": [
    "fwd = df[['Store']+rolling_columns].sort_index(ascending=False\n",
    "                                      ).groupby(\"Store\").rolling(7, min_periods=1).sum()"
   ]
  },
  {
   "cell_type": "code",
   "execution_count": 43,
   "metadata": {
    "hidden": true
   },
   "outputs": [
    {
     "data": {
      "text/html": [
       "<div>\n",
       "<style scoped>\n",
       "    .dataframe tbody tr th:only-of-type {\n",
       "        vertical-align: middle;\n",
       "    }\n",
       "\n",
       "    .dataframe tbody tr th {\n",
       "        vertical-align: top;\n",
       "    }\n",
       "\n",
       "    .dataframe thead th {\n",
       "        text-align: right;\n",
       "    }\n",
       "</style>\n",
       "<table border=\"1\" class=\"dataframe\">\n",
       "  <thead>\n",
       "    <tr style=\"text-align: right;\">\n",
       "      <th></th>\n",
       "      <th></th>\n",
       "      <th>Store</th>\n",
       "      <th>SchoolHoliday</th>\n",
       "      <th>StateHoliday</th>\n",
       "      <th>Promo</th>\n",
       "    </tr>\n",
       "    <tr>\n",
       "      <th>Store</th>\n",
       "      <th>Date</th>\n",
       "      <th></th>\n",
       "      <th></th>\n",
       "      <th></th>\n",
       "      <th></th>\n",
       "    </tr>\n",
       "  </thead>\n",
       "  <tbody>\n",
       "    <tr>\n",
       "      <th rowspan=\"5\" valign=\"top\">1</th>\n",
       "      <th>2013-01-01</th>\n",
       "      <td>1.0</td>\n",
       "      <td>1.0</td>\n",
       "      <td>1.0</td>\n",
       "      <td>0.0</td>\n",
       "    </tr>\n",
       "    <tr>\n",
       "      <th>2013-01-02</th>\n",
       "      <td>2.0</td>\n",
       "      <td>2.0</td>\n",
       "      <td>1.0</td>\n",
       "      <td>0.0</td>\n",
       "    </tr>\n",
       "    <tr>\n",
       "      <th>2013-01-03</th>\n",
       "      <td>3.0</td>\n",
       "      <td>3.0</td>\n",
       "      <td>1.0</td>\n",
       "      <td>0.0</td>\n",
       "    </tr>\n",
       "    <tr>\n",
       "      <th>2013-01-04</th>\n",
       "      <td>4.0</td>\n",
       "      <td>4.0</td>\n",
       "      <td>1.0</td>\n",
       "      <td>0.0</td>\n",
       "    </tr>\n",
       "    <tr>\n",
       "      <th>2013-01-05</th>\n",
       "      <td>5.0</td>\n",
       "      <td>5.0</td>\n",
       "      <td>1.0</td>\n",
       "      <td>0.0</td>\n",
       "    </tr>\n",
       "  </tbody>\n",
       "</table>\n",
       "</div>"
      ],
      "text/plain": [
       "                  Store  SchoolHoliday  StateHoliday  Promo\n",
       "Store Date                                                 \n",
       "1     2013-01-01    1.0            1.0           1.0    0.0\n",
       "      2013-01-02    2.0            2.0           1.0    0.0\n",
       "      2013-01-03    3.0            3.0           1.0    0.0\n",
       "      2013-01-04    4.0            4.0           1.0    0.0\n",
       "      2013-01-05    5.0            5.0           1.0    0.0"
      ]
     },
     "execution_count": 43,
     "metadata": {},
     "output_type": "execute_result"
    }
   ],
   "source": [
    "bwd.head()"
   ]
  },
  {
   "cell_type": "code",
   "execution_count": 44,
   "metadata": {
    "hidden": true
   },
   "outputs": [
    {
     "data": {
      "text/html": [
       "<div>\n",
       "<style scoped>\n",
       "    .dataframe tbody tr th:only-of-type {\n",
       "        vertical-align: middle;\n",
       "    }\n",
       "\n",
       "    .dataframe tbody tr th {\n",
       "        vertical-align: top;\n",
       "    }\n",
       "\n",
       "    .dataframe thead th {\n",
       "        text-align: right;\n",
       "    }\n",
       "</style>\n",
       "<table border=\"1\" class=\"dataframe\">\n",
       "  <thead>\n",
       "    <tr style=\"text-align: right;\">\n",
       "      <th></th>\n",
       "      <th></th>\n",
       "      <th>Store</th>\n",
       "      <th>SchoolHoliday</th>\n",
       "      <th>StateHoliday</th>\n",
       "      <th>Promo</th>\n",
       "    </tr>\n",
       "    <tr>\n",
       "      <th>Store</th>\n",
       "      <th>Date</th>\n",
       "      <th></th>\n",
       "      <th></th>\n",
       "      <th></th>\n",
       "      <th></th>\n",
       "    </tr>\n",
       "  </thead>\n",
       "  <tbody>\n",
       "    <tr>\n",
       "      <th rowspan=\"5\" valign=\"top\">1</th>\n",
       "      <th>2015-09-17</th>\n",
       "      <td>1.0</td>\n",
       "      <td>0.0</td>\n",
       "      <td>0.0</td>\n",
       "      <td>1.0</td>\n",
       "    </tr>\n",
       "    <tr>\n",
       "      <th>2015-09-16</th>\n",
       "      <td>2.0</td>\n",
       "      <td>0.0</td>\n",
       "      <td>0.0</td>\n",
       "      <td>2.0</td>\n",
       "    </tr>\n",
       "    <tr>\n",
       "      <th>2015-09-15</th>\n",
       "      <td>3.0</td>\n",
       "      <td>0.0</td>\n",
       "      <td>0.0</td>\n",
       "      <td>3.0</td>\n",
       "    </tr>\n",
       "    <tr>\n",
       "      <th>2015-09-14</th>\n",
       "      <td>4.0</td>\n",
       "      <td>0.0</td>\n",
       "      <td>0.0</td>\n",
       "      <td>4.0</td>\n",
       "    </tr>\n",
       "    <tr>\n",
       "      <th>2015-09-13</th>\n",
       "      <td>5.0</td>\n",
       "      <td>0.0</td>\n",
       "      <td>0.0</td>\n",
       "      <td>4.0</td>\n",
       "    </tr>\n",
       "  </tbody>\n",
       "</table>\n",
       "</div>"
      ],
      "text/plain": [
       "                  Store  SchoolHoliday  StateHoliday  Promo\n",
       "Store Date                                                 \n",
       "1     2015-09-17    1.0            0.0           0.0    1.0\n",
       "      2015-09-16    2.0            0.0           0.0    2.0\n",
       "      2015-09-15    3.0            0.0           0.0    3.0\n",
       "      2015-09-14    4.0            0.0           0.0    4.0\n",
       "      2015-09-13    5.0            0.0           0.0    4.0"
      ]
     },
     "execution_count": 44,
     "metadata": {},
     "output_type": "execute_result"
    }
   ],
   "source": [
    "fwd.head()"
   ]
  },
  {
   "cell_type": "markdown",
   "metadata": {
    "hidden": true
   },
   "source": [
    "Next we want to drop the Store indices grouped together in the window function.\n",
    "\n",
    "Often in pandas, there is an option to do this in place. This is time and memory efficient when working with large datasets."
   ]
  },
  {
   "cell_type": "code",
   "execution_count": 45,
   "metadata": {
    "hidden": true
   },
   "outputs": [],
   "source": [
    "bwd.drop('Store',1,inplace=True)\n",
    "bwd.reset_index(inplace=True)\n",
    "fwd.drop('Store',1,inplace=True)\n",
    "fwd.reset_index(inplace=True)"
   ]
  },
  {
   "cell_type": "code",
   "execution_count": 46,
   "metadata": {
    "hidden": true
   },
   "outputs": [],
   "source": [
    "df.reset_index(inplace=True)"
   ]
  },
  {
   "cell_type": "code",
   "execution_count": 47,
   "metadata": {
    "hidden": true
   },
   "outputs": [
    {
     "data": {
      "text/html": [
       "<div>\n",
       "<style scoped>\n",
       "    .dataframe tbody tr th:only-of-type {\n",
       "        vertical-align: middle;\n",
       "    }\n",
       "\n",
       "    .dataframe tbody tr th {\n",
       "        vertical-align: top;\n",
       "    }\n",
       "\n",
       "    .dataframe thead th {\n",
       "        text-align: right;\n",
       "    }\n",
       "</style>\n",
       "<table border=\"1\" class=\"dataframe\">\n",
       "  <thead>\n",
       "    <tr style=\"text-align: right;\">\n",
       "      <th></th>\n",
       "      <th>Store</th>\n",
       "      <th>Date</th>\n",
       "      <th>SchoolHoliday</th>\n",
       "      <th>StateHoliday</th>\n",
       "      <th>Promo</th>\n",
       "    </tr>\n",
       "  </thead>\n",
       "  <tbody>\n",
       "    <tr>\n",
       "      <th>0</th>\n",
       "      <td>1</td>\n",
       "      <td>2013-01-01</td>\n",
       "      <td>1.0</td>\n",
       "      <td>1.0</td>\n",
       "      <td>0.0</td>\n",
       "    </tr>\n",
       "    <tr>\n",
       "      <th>1</th>\n",
       "      <td>1</td>\n",
       "      <td>2013-01-02</td>\n",
       "      <td>2.0</td>\n",
       "      <td>1.0</td>\n",
       "      <td>0.0</td>\n",
       "    </tr>\n",
       "    <tr>\n",
       "      <th>2</th>\n",
       "      <td>1</td>\n",
       "      <td>2013-01-03</td>\n",
       "      <td>3.0</td>\n",
       "      <td>1.0</td>\n",
       "      <td>0.0</td>\n",
       "    </tr>\n",
       "    <tr>\n",
       "      <th>3</th>\n",
       "      <td>1</td>\n",
       "      <td>2013-01-04</td>\n",
       "      <td>4.0</td>\n",
       "      <td>1.0</td>\n",
       "      <td>0.0</td>\n",
       "    </tr>\n",
       "    <tr>\n",
       "      <th>4</th>\n",
       "      <td>1</td>\n",
       "      <td>2013-01-05</td>\n",
       "      <td>5.0</td>\n",
       "      <td>1.0</td>\n",
       "      <td>0.0</td>\n",
       "    </tr>\n",
       "  </tbody>\n",
       "</table>\n",
       "</div>"
      ],
      "text/plain": [
       "   Store       Date  SchoolHoliday  StateHoliday  Promo\n",
       "0      1 2013-01-01            1.0           1.0    0.0\n",
       "1      1 2013-01-02            2.0           1.0    0.0\n",
       "2      1 2013-01-03            3.0           1.0    0.0\n",
       "3      1 2013-01-04            4.0           1.0    0.0\n",
       "4      1 2013-01-05            5.0           1.0    0.0"
      ]
     },
     "execution_count": 47,
     "metadata": {},
     "output_type": "execute_result"
    }
   ],
   "source": [
    "bwd.head()"
   ]
  },
  {
   "cell_type": "markdown",
   "metadata": {
    "hidden": true
   },
   "source": [
    "Now we'll merge these values onto the df."
   ]
  },
  {
   "cell_type": "code",
   "execution_count": 48,
   "metadata": {
    "hidden": true
   },
   "outputs": [],
   "source": [
    "df = df.merge(bwd, 'left', ['Date', 'Store'], suffixes=['', '_bw'])\n",
    "df = df.merge(fwd, 'left', ['Date', 'Store'], suffixes=['', '_fw'])"
   ]
  },
  {
   "cell_type": "code",
   "execution_count": 49,
   "metadata": {
    "hidden": true
   },
   "outputs": [],
   "source": [
    "df.drop(rolling_columns,1,inplace=True)"
   ]
  },
  {
   "cell_type": "code",
   "execution_count": 50,
   "metadata": {
    "hidden": true
   },
   "outputs": [],
   "source": [
    "df[\"Date\"] = pd.to_datetime(df.Date)"
   ]
  },
  {
   "cell_type": "code",
   "execution_count": 51,
   "metadata": {
    "hidden": true
   },
   "outputs": [
    {
     "data": {
      "text/html": [
       "<div>\n",
       "<style scoped>\n",
       "    .dataframe tbody tr th:only-of-type {\n",
       "        vertical-align: middle;\n",
       "    }\n",
       "\n",
       "    .dataframe tbody tr th {\n",
       "        vertical-align: top;\n",
       "    }\n",
       "\n",
       "    .dataframe thead th {\n",
       "        text-align: right;\n",
       "    }\n",
       "</style>\n",
       "<table border=\"1\" class=\"dataframe\">\n",
       "  <thead>\n",
       "    <tr style=\"text-align: right;\">\n",
       "      <th></th>\n",
       "      <th>Date</th>\n",
       "      <th>Store</th>\n",
       "      <th>AfterSchoolHoliday</th>\n",
       "      <th>BeforeSchoolHoliday</th>\n",
       "      <th>AfterStateHoliday</th>\n",
       "      <th>BeforeStateHoliday</th>\n",
       "      <th>AfterPromo</th>\n",
       "      <th>BeforePromo</th>\n",
       "      <th>SchoolHoliday_bw</th>\n",
       "      <th>StateHoliday_bw</th>\n",
       "      <th>Promo_bw</th>\n",
       "      <th>SchoolHoliday_fw</th>\n",
       "      <th>StateHoliday_fw</th>\n",
       "      <th>Promo_fw</th>\n",
       "    </tr>\n",
       "  </thead>\n",
       "  <tbody>\n",
       "    <tr>\n",
       "      <th>0</th>\n",
       "      <td>2015-09-17</td>\n",
       "      <td>1</td>\n",
       "      <td>13</td>\n",
       "      <td>0</td>\n",
       "      <td>105</td>\n",
       "      <td>0</td>\n",
       "      <td>0</td>\n",
       "      <td>0</td>\n",
       "      <td>0.0</td>\n",
       "      <td>0.0</td>\n",
       "      <td>4.0</td>\n",
       "      <td>0.0</td>\n",
       "      <td>0.0</td>\n",
       "      <td>1.0</td>\n",
       "    </tr>\n",
       "    <tr>\n",
       "      <th>1</th>\n",
       "      <td>2015-09-16</td>\n",
       "      <td>1</td>\n",
       "      <td>12</td>\n",
       "      <td>0</td>\n",
       "      <td>104</td>\n",
       "      <td>0</td>\n",
       "      <td>0</td>\n",
       "      <td>0</td>\n",
       "      <td>0.0</td>\n",
       "      <td>0.0</td>\n",
       "      <td>3.0</td>\n",
       "      <td>0.0</td>\n",
       "      <td>0.0</td>\n",
       "      <td>2.0</td>\n",
       "    </tr>\n",
       "    <tr>\n",
       "      <th>2</th>\n",
       "      <td>2015-09-15</td>\n",
       "      <td>1</td>\n",
       "      <td>11</td>\n",
       "      <td>0</td>\n",
       "      <td>103</td>\n",
       "      <td>0</td>\n",
       "      <td>0</td>\n",
       "      <td>0</td>\n",
       "      <td>0.0</td>\n",
       "      <td>0.0</td>\n",
       "      <td>2.0</td>\n",
       "      <td>0.0</td>\n",
       "      <td>0.0</td>\n",
       "      <td>3.0</td>\n",
       "    </tr>\n",
       "    <tr>\n",
       "      <th>3</th>\n",
       "      <td>2015-09-14</td>\n",
       "      <td>1</td>\n",
       "      <td>10</td>\n",
       "      <td>0</td>\n",
       "      <td>102</td>\n",
       "      <td>0</td>\n",
       "      <td>0</td>\n",
       "      <td>0</td>\n",
       "      <td>0.0</td>\n",
       "      <td>0.0</td>\n",
       "      <td>1.0</td>\n",
       "      <td>0.0</td>\n",
       "      <td>0.0</td>\n",
       "      <td>4.0</td>\n",
       "    </tr>\n",
       "    <tr>\n",
       "      <th>4</th>\n",
       "      <td>2015-09-13</td>\n",
       "      <td>1</td>\n",
       "      <td>9</td>\n",
       "      <td>0</td>\n",
       "      <td>101</td>\n",
       "      <td>0</td>\n",
       "      <td>9</td>\n",
       "      <td>-1</td>\n",
       "      <td>0.0</td>\n",
       "      <td>0.0</td>\n",
       "      <td>0.0</td>\n",
       "      <td>0.0</td>\n",
       "      <td>0.0</td>\n",
       "      <td>4.0</td>\n",
       "    </tr>\n",
       "  </tbody>\n",
       "</table>\n",
       "</div>"
      ],
      "text/plain": [
       "        Date  Store  AfterSchoolHoliday  BeforeSchoolHoliday  \\\n",
       "0 2015-09-17      1                  13                    0   \n",
       "1 2015-09-16      1                  12                    0   \n",
       "2 2015-09-15      1                  11                    0   \n",
       "3 2015-09-14      1                  10                    0   \n",
       "4 2015-09-13      1                   9                    0   \n",
       "\n",
       "   AfterStateHoliday  BeforeStateHoliday  AfterPromo  BeforePromo  \\\n",
       "0                105                   0           0            0   \n",
       "1                104                   0           0            0   \n",
       "2                103                   0           0            0   \n",
       "3                102                   0           0            0   \n",
       "4                101                   0           9           -1   \n",
       "\n",
       "   SchoolHoliday_bw  StateHoliday_bw  Promo_bw  SchoolHoliday_fw  \\\n",
       "0               0.0              0.0       4.0               0.0   \n",
       "1               0.0              0.0       3.0               0.0   \n",
       "2               0.0              0.0       2.0               0.0   \n",
       "3               0.0              0.0       1.0               0.0   \n",
       "4               0.0              0.0       0.0               0.0   \n",
       "\n",
       "   StateHoliday_fw  Promo_fw  \n",
       "0              0.0       1.0  \n",
       "1              0.0       2.0  \n",
       "2              0.0       3.0  \n",
       "3              0.0       4.0  \n",
       "4              0.0       4.0  "
      ]
     },
     "execution_count": 51,
     "metadata": {},
     "output_type": "execute_result"
    }
   ],
   "source": [
    "df.head()"
   ]
  },
  {
   "cell_type": "markdown",
   "metadata": {
    "hidden": true
   },
   "source": [
    "Saving this File with durations handling in feather format "
   ]
  },
  {
   "cell_type": "code",
   "execution_count": 52,
   "metadata": {
    "hidden": true
   },
   "outputs": [],
   "source": [
    "df.to_feather(f'{file_save_path}/df.feather')"
   ]
  },
  {
   "cell_type": "code",
   "execution_count": 53,
   "metadata": {
    "hidden": true
   },
   "outputs": [],
   "source": [
    "import feather\n",
    "df=feather.read_dataframe(f'{file_save_path}df.feather')"
   ]
  },
  {
   "cell_type": "markdown",
   "metadata": {
    "hidden": true
   },
   "source": [
    "#### 12) Joining Durations dataframe with main data"
   ]
  },
  {
   "cell_type": "code",
   "execution_count": 54,
   "metadata": {
    "hidden": true
   },
   "outputs": [],
   "source": [
    "joined = join_df(joined, df, ['Store', 'Date'])"
   ]
  },
  {
   "cell_type": "code",
   "execution_count": 55,
   "metadata": {
    "hidden": true
   },
   "outputs": [],
   "source": [
    "joined_test = join_df(joined_test, df, ['Store', 'Date'])"
   ]
  },
  {
   "cell_type": "code",
   "execution_count": 56,
   "metadata": {
    "hidden": true
   },
   "outputs": [],
   "source": [
    "joined.drop([x for x in joined.columns if x[-2:]=='_y'],axis=1,inplace=True)\n",
    "joined_test.drop([x for x in joined_test.columns if x[-2:]=='_y'],axis=1,inplace=True)"
   ]
  },
  {
   "cell_type": "code",
   "execution_count": 57,
   "metadata": {
    "hidden": true
   },
   "outputs": [],
   "source": [
    "joined.to_feather(f'{file_save_path}/joined.feather')\n",
    "joined_test.to_feather(f'{file_save_path}/joined_test.feather')"
   ]
  },
  {
   "cell_type": "markdown",
   "metadata": {},
   "source": [
    "## Preprocessing for Modelling (Restart from here to skip feature engineering)"
   ]
  },
  {
   "cell_type": "code",
   "execution_count": 3,
   "metadata": {
    "ExecuteTime": {
     "end_time": "2019-01-23T15:53:45.771103Z",
     "start_time": "2019-01-23T15:53:45.751885Z"
    }
   },
   "outputs": [],
   "source": [
    "from structured_utils import impute_cols,get_embedding_dim, get_time_based_split,\\\n",
    "fit_transformers,transform_dataset,get_embedding_submodel"
   ]
  },
  {
   "cell_type": "code",
   "execution_count": 4,
   "metadata": {
    "ExecuteTime": {
     "end_time": "2019-01-23T15:53:46.737478Z",
     "start_time": "2019-01-23T15:53:46.717389Z"
    }
   },
   "outputs": [],
   "source": [
    "#das the new model will use 24 cat var and 14 contin var for modeling, i.e., it will use only a subset of all the features availbe in the data\n",
    "cat_var_list=['Store', 'DayOfWeek', 'Year', 'Month', 'Day', 'StateHoliday', 'CompetitionMonthsOpen',\\\n",
    "              'Promo2Weeks', 'StoreType', 'Assortment', 'PromoInterval', 'CompetitionOpenSinceYear',\\\n",
    "              'Promo2SinceYear', 'State', 'Week', 'Events', 'Promo_fw', \\\n",
    "              'Promo_bw', 'StateHoliday_fw', 'StateHoliday_bw', 'SchoolHoliday_fw', 'SchoolHoliday_bw', 'Promo', 'SchoolHoliday']\n",
    "\n",
    "contin_var_list = ['CompetitionDistance','Max_TemperatureC', 'Mean_TemperatureC', 'Min_TemperatureC',\\\n",
    "                   'Max_Humidity', 'Mean_Humidity', 'Min_Humidity', 'Max_Wind_SpeedKm_h',\\\n",
    "                   'Mean_Wind_SpeedKm_h', 'CloudCover', 'trend', 'trend_DE',\\\n",
    "                   'AfterStateHoliday', 'BeforeStateHoliday']"
   ]
  },
  {
   "cell_type": "markdown",
   "metadata": {
    "ExecuteTime": {
     "end_time": "2019-01-08T21:16:24.554452Z",
     "start_time": "2019-01-08T21:16:24.534405Z"
    }
   },
   "source": [
    "#das the old model used 22 cat var and 16 contin var for modeling, i.e., it will use only a subset of all the features availbe in the data\n",
    "cat_var_list=['Store', 'DayOfWeek', 'Year', 'Month', 'Day', 'StateHoliday', 'CompetitionMonthsOpen',\\\n",
    "              'Promo2Weeks', 'StoreType', 'Assortment', 'PromoInterval', 'CompetitionOpenSinceYear',\\\n",
    "              'Promo2SinceYear', 'State', 'Week', 'Events', 'Promo_fw', \\\n",
    "              'Promo_bw', 'StateHoliday_fw', 'StateHoliday_bw', 'SchoolHoliday_fw', 'SchoolHoliday_bw']\n",
    "\n",
    "contin_var_list = ['CompetitionDistance','Max_TemperatureC', 'Mean_TemperatureC', 'Min_TemperatureC',\\\n",
    "                   'Max_Humidity', 'Mean_Humidity', 'Min_Humidity', 'Max_Wind_SpeedKm_h',\\\n",
    "                   'Mean_Wind_SpeedKm_h', 'CloudCover', 'trend', 'trend_DE',\\\n",
    "                   'AfterStateHoliday', 'BeforeStateHoliday', 'Promo', 'SchoolHoliday']"
   ]
  },
  {
   "cell_type": "code",
   "execution_count": 5,
   "metadata": {
    "ExecuteTime": {
     "end_time": "2019-01-23T15:53:51.618195Z",
     "start_time": "2019-01-23T15:53:49.679015Z"
    }
   },
   "outputs": [],
   "source": [
    "joined=feather.read_dataframe(f'{file_save_path}/joined.feather')\n",
    "joined_sales = joined[joined.Sales!=0]"
   ]
  },
  {
   "cell_type": "code",
   "execution_count": 6,
   "metadata": {
    "ExecuteTime": {
     "end_time": "2019-01-23T15:53:57.347873Z",
     "start_time": "2019-01-23T15:53:55.163165Z"
    }
   },
   "outputs": [],
   "source": [
    "#das fills missing values. \"no value\" for missing categorical, 0.0 for missing continuous\n",
    "#das select only columns listed in cat_var_list and contin_var_list lists\n",
    "joined_sales= impute_cols(joined_sales,cat_var_list,contin_var_list)"
   ]
  },
  {
   "cell_type": "code",
   "execution_count": 7,
   "metadata": {
    "ExecuteTime": {
     "end_time": "2019-01-23T15:53:57.889977Z",
     "start_time": "2019-01-23T15:53:57.350455Z"
    }
   },
   "outputs": [
    {
     "data": {
      "text/plain": [
       "{'Assortment': (2, 3),\n",
       " 'CompetitionMonthsOpen': (13, 25),\n",
       " 'CompetitionOpenSinceYear': (12, 23),\n",
       " 'Day': (16, 31),\n",
       " 'DayOfWeek': (4, 7),\n",
       " 'Events': (11, 22),\n",
       " 'Month': (6, 12),\n",
       " 'Promo': (1, 2),\n",
       " 'Promo2SinceYear': (4, 8),\n",
       " 'Promo2Weeks': (13, 26),\n",
       " 'PromoInterval': (2, 4),\n",
       " 'Promo_bw': (3, 6),\n",
       " 'Promo_fw': (3, 6),\n",
       " 'SchoolHoliday': (1, 2),\n",
       " 'SchoolHoliday_bw': (4, 8),\n",
       " 'SchoolHoliday_fw': (4, 8),\n",
       " 'State': (6, 12),\n",
       " 'StateHoliday': (1, 2),\n",
       " 'StateHoliday_bw': (2, 3),\n",
       " 'StateHoliday_fw': (2, 3),\n",
       " 'Store': (50, 1115),\n",
       " 'StoreType': (2, 4),\n",
       " 'Week': (26, 52),\n",
       " 'Year': (2, 3)}"
      ]
     },
     "execution_count": 7,
     "metadata": {},
     "output_type": "execute_result"
    }
   ],
   "source": [
    "#das get the embedding dimensions and cardinality of categorical columns\n",
    "cat_dict=get_embedding_dim(joined_sales,cat_var_list)\n",
    "cat_dict"
   ]
  },
  {
   "cell_type": "code",
   "execution_count": 8,
   "metadata": {
    "ExecuteTime": {
     "end_time": "2019-01-23T15:53:58.858313Z",
     "start_time": "2019-01-23T15:53:57.892089Z"
    },
    "scrolled": true
   },
   "outputs": [],
   "source": [
    "#das split a panada dataframe into train (validation) and test datasets based on the date column\n",
    "# by default sorts the records according to dates in the 'Date' column and splits accoring to the 0.9 ratio\n",
    "train_df,valid_df=get_time_based_split(joined_sales)"
   ]
  },
  {
   "cell_type": "markdown",
   "metadata": {},
   "source": [
    "The train_df and valid_df contain 92 columns each:\n",
    "Index(['Store', 'DayOfWeek', 'Date', 'Sales', 'Customers', 'Open', 'Promo',\n",
    "       'StateHoliday', 'SchoolHoliday', 'Year', 'Month', 'Week', 'Day',\n",
    "       'Dayofweek', 'Dayofyear', 'Is_month_end', 'Is_month_start',\n",
    "       'Is_quarter_end', 'Is_quarter_start', 'Is_year_end', 'Is_year_start',\n",
    "       'Elapsed', 'StoreType', 'Assortment', 'CompetitionDistance',\n",
    "       'CompetitionOpenSinceMonth', 'CompetitionOpenSinceYear', 'Promo2',\n",
    "       'Promo2SinceWeek', 'Promo2SinceYear', 'PromoInterval', 'State', 'file',\n",
    "       'week', 'trend', 'file_DE', 'week_DE', 'trend_DE', 'Date_DE',\n",
    "       'State_DE', 'Month_DE', 'Day_DE', 'Dayofweek_DE', 'Dayofyear_DE',\n",
    "       'Is_month_end_DE', 'Is_month_start_DE', 'Is_quarter_end_DE',\n",
    "       'Is_quarter_start_DE', 'Is_year_end_DE', 'Is_year_start_DE',\n",
    "       'Elapsed_DE', 'Max_TemperatureC', 'Mean_TemperatureC',\n",
    "       'Min_TemperatureC', 'Dew_PointC', 'MeanDew_PointC', 'Min_DewpointC',\n",
    "       'Max_Humidity', 'Mean_Humidity', 'Min_Humidity',\n",
    "       'Max_Sea_Level_PressurehPa', 'Mean_Sea_Level_PressurehPa',\n",
    "       'Min_Sea_Level_PressurehPa', 'Max_VisibilityKm', 'Mean_VisibilityKm',\n",
    "       'Min_VisibilitykM', 'Max_Wind_SpeedKm_h', 'Mean_Wind_SpeedKm_h',\n",
    "       'Max_Gust_SpeedKm_h', 'Precipitationmm', 'CloudCover', 'Events',\n",
    "       'WindDirDegrees', 'StateName', 'CompetitionOpenSince',\n",
    "       'CompetitionDaysOpen', 'CompetitionMonthsOpen', 'Promo2Since',\n",
    "       'Promo2Days', 'Promo2Weeks', 'AfterSchoolHoliday',\n",
    "       'BeforeSchoolHoliday', 'AfterStateHoliday', 'BeforeStateHoliday',\n",
    "       'AfterPromo', 'BeforePromo', 'SchoolHoliday_bw', 'StateHoliday_bw',\n",
    "       'Promo_bw', 'SchoolHoliday_fw', 'StateHoliday_fw', 'Promo_fw'],\n",
    "      dtype='object')\n",
    "\n",
    "However, we will not use them all for modelling. we will use 22 categorical variables and 16 continuous variables. Features to be used by the model are identified by cat_var_list and contin_var_list   "
   ]
  },
  {
   "cell_type": "code",
   "execution_count": 9,
   "metadata": {
    "ExecuteTime": {
     "end_time": "2019-01-23T15:53:59.842271Z",
     "start_time": "2019-01-23T15:53:58.861136Z"
    }
   },
   "outputs": [],
   "source": [
    "#das define transformations\n",
    "# for continuous variables: Standardize features by removing the mean and scaling to unit variance\n",
    "#for categorical: Encode labels with value between 0 and n_classes-1.\n",
    "cat_mapper, contin_mapper= fit_transformers(train_df,cat_var_list,contin_var_list)\n",
    "pickle.dump(contin_mapper, open(f'{file_save_path}contin_maps.pickle', 'wb'))\n",
    "pickle.dump(cat_mapper, open(f'{file_save_path}cat_maps.pickle', 'wb'))"
   ]
  },
  {
   "cell_type": "markdown",
   "metadata": {},
   "source": [
    "Here are preprocessors for our categoricals and continuous variables using our instance mapper."
   ]
  },
  {
   "cell_type": "code",
   "execution_count": 10,
   "metadata": {
    "ExecuteTime": {
     "end_time": "2019-01-23T15:54:02.125128Z",
     "start_time": "2019-01-23T15:54:00.146983Z"
    }
   },
   "outputs": [],
   "source": [
    "#das get transformed data in the form of a list of nump.Ndarrays [categorical_column1, categorical_column2..categorical_columnN, continuous_columns]\n",
    "# all categorical values are int64 and continuous are float32\n",
    "#das transform_dataset transforms the data and then splits nump array of categorical data (horizontally - meaning column-wise) into \n",
    "# multiple arrays, so there is a seprate array for each categorical features.\n",
    "# Then it combines categorical arrays and one extra array holding continuous data, into a list of arrays)\n",
    "# since there are 24 categorical variables, the resulting list containes 25 (24 + 1 coninuous) arrays\n",
    "map_train= transform_dataset(train_df,cat_mapper,contin_mapper)\n",
    "map_valid= transform_dataset(valid_df,cat_mapper,contin_mapper)"
   ]
  },
  {
   "cell_type": "markdown",
   "metadata": {},
   "source": [
    "Grab our targets."
   ]
  },
  {
   "cell_type": "code",
   "execution_count": 12,
   "metadata": {
    "ExecuteTime": {
     "end_time": "2019-01-23T15:54:26.626724Z",
     "start_time": "2019-01-23T15:54:26.604112Z"
    }
   },
   "outputs": [],
   "source": [
    "#das y_train and y_valid are panda series\n",
    "y_train = train_df.Sales\n",
    "y_valid = valid_df.Sales"
   ]
  },
  {
   "cell_type": "markdown",
   "metadata": {},
   "source": [
    "### Defining RMSPE Keras Loss "
   ]
  },
  {
   "cell_type": "code",
   "execution_count": 13,
   "metadata": {
    "ExecuteTime": {
     "end_time": "2019-01-23T15:54:28.559733Z",
     "start_time": "2019-01-23T15:54:28.536230Z"
    }
   },
   "outputs": [],
   "source": [
    "def rmspe_loss(y_true,y_pred):\n",
    "    import tensorflow.keras.backend as K\n",
    "    diff = K.square((y_true - y_pred) / K.clip(K.abs(y_true),\n",
    "                                            K.epsilon(),\n",
    "                                            None))\n",
    "    my_mean = K.mean(diff, axis=-1)\n",
    "    return  K.sqrt(K.mean(diff, axis=-1))"
   ]
  },
  {
   "cell_type": "markdown",
   "metadata": {},
   "source": [
    "## Bigger Model"
   ]
  },
  {
   "cell_type": "markdown",
   "metadata": {},
   "source": [
    "### Building Model"
   ]
  },
  {
   "cell_type": "code",
   "execution_count": 14,
   "metadata": {
    "ExecuteTime": {
     "end_time": "2019-01-23T15:54:32.392903Z",
     "start_time": "2019-01-23T15:54:32.370785Z"
    }
   },
   "outputs": [],
   "source": [
    "from structured_utils import get_embedding_submodel"
   ]
  },
  {
   "cell_type": "code",
   "execution_count": 15,
   "metadata": {
    "ExecuteTime": {
     "end_time": "2019-01-23T15:54:33.869059Z",
     "start_time": "2019-01-23T15:54:33.115182Z"
    }
   },
   "outputs": [],
   "source": [
    "#das the model has multiple inputs. each categorical feature has corresponding intou to its embedding submodel\n",
    "#das all the continuous features provide input to a seprate dense layer\n",
    "#das Thus, The number of inpputs = (3 categroical features) +1, where 1 is is for all continuous features\n",
    "\n",
    "contin_inp = Input((len(contin_var_list),), name='Continuous_variables_input')\n",
    "contin_out = Dense(len(contin_var_list)*10, activation='relu', name='Continuous_variables_dense')(contin_inp)\n",
    "\n",
    "#das There is a seprate embedding submodel for each categorical feature\n",
    "embs = [get_embedding_submodel(feat,cat_dict) for feat in cat_dict.keys()]\n",
    "\n",
    "embs_concat=Concatenate(axis=-1,name=\"Embs_concatenated\")([i.output for i in embs])\n",
    "embs_flat= Flatten(name=\"embs_flattened\")(embs_concat)\n",
    "x = Concatenate(axis=-1,name=\"embs_contin_joined\")([embs_flat,contin_out])\n",
    "x=BatchNormalization(name=\"BatchNorm_1\")(x)\n",
    "x = Dropout(0.05,name=\"Dropout_1\")(x)\n",
    "x = Dense(1024, activation='relu',name=\"Dense_11\")(x)\n",
    "x = Dense(512, activation='relu',name=\"Dense_12\")(x)\n",
    "x=BatchNormalization(name=\"BatchNorm_2\")(x)\n",
    "x = Dropout(0.1,name=\"Dropout_2\")(x)\n",
    "x = Dense(256, activation='relu',name=\"Dense_21\")(x)\n",
    "x = Dense(128, activation='relu',name=\"Dense_22\")(x)\n",
    "x=BatchNormalization(name=\"BatchNorm_3\")(x)\n",
    "x = Dropout(0.1,name=\"Dropout_3\")(x)\n",
    "output = Dense(1, activation=None, name=\"Output\")(x)\n",
    "\n",
    "big_model = Model([i.input for i in embs] + [contin_inp], output,name=\"Rossmann_model_big\")\n",
    "#das\n",
    "big_model.compile(RMSprop(lr=0.01,clipvalue=1.0), loss=rmspe_loss)\n",
    "#big_model.compile(RMSprop(lr=0.001,clipvalue=1.0), loss=rmspe_loss)"
   ]
  },
  {
   "cell_type": "markdown",
   "metadata": {
    "ExecuteTime": {
     "end_time": "2018-12-18T21:07:04.124205Z",
     "start_time": "2018-12-18T21:07:04.119846Z"
    }
   },
   "source": [
    "### Model Summary"
   ]
  },
  {
   "cell_type": "code",
   "execution_count": 16,
   "metadata": {
    "ExecuteTime": {
     "end_time": "2019-01-23T15:54:36.421709Z",
     "start_time": "2019-01-23T15:54:36.384456Z"
    },
    "scrolled": false
   },
   "outputs": [
    {
     "name": "stdout",
     "output_type": "stream",
     "text": [
      "__________________________________________________________________________________________________\n",
      "Layer (type)                    Output Shape         Param #     Connected to                     \n",
      "==================================================================================================\n",
      "Assortment_input (InputLayer)   (None, 1)            0                                            \n",
      "__________________________________________________________________________________________________\n",
      "CompetitionMonthsOpen_input (In (None, 1)            0                                            \n",
      "__________________________________________________________________________________________________\n",
      "CompetitionOpenSinceYear_input  (None, 1)            0                                            \n",
      "__________________________________________________________________________________________________\n",
      "Day_input (InputLayer)          (None, 1)            0                                            \n",
      "__________________________________________________________________________________________________\n",
      "DayOfWeek_input (InputLayer)    (None, 1)            0                                            \n",
      "__________________________________________________________________________________________________\n",
      "Events_input (InputLayer)       (None, 1)            0                                            \n",
      "__________________________________________________________________________________________________\n",
      "Month_input (InputLayer)        (None, 1)            0                                            \n",
      "__________________________________________________________________________________________________\n",
      "Promo_input (InputLayer)        (None, 1)            0                                            \n",
      "__________________________________________________________________________________________________\n",
      "Promo2SinceYear_input (InputLay (None, 1)            0                                            \n",
      "__________________________________________________________________________________________________\n",
      "Promo2Weeks_input (InputLayer)  (None, 1)            0                                            \n",
      "__________________________________________________________________________________________________\n",
      "PromoInterval_input (InputLayer (None, 1)            0                                            \n",
      "__________________________________________________________________________________________________\n",
      "Promo_bw_input (InputLayer)     (None, 1)            0                                            \n",
      "__________________________________________________________________________________________________\n",
      "Promo_fw_input (InputLayer)     (None, 1)            0                                            \n",
      "__________________________________________________________________________________________________\n",
      "SchoolHoliday_input (InputLayer (None, 1)            0                                            \n",
      "__________________________________________________________________________________________________\n",
      "SchoolHoliday_bw_input (InputLa (None, 1)            0                                            \n",
      "__________________________________________________________________________________________________\n",
      "SchoolHoliday_fw_input (InputLa (None, 1)            0                                            \n",
      "__________________________________________________________________________________________________\n",
      "State_input (InputLayer)        (None, 1)            0                                            \n",
      "__________________________________________________________________________________________________\n",
      "StateHoliday_input (InputLayer) (None, 1)            0                                            \n",
      "__________________________________________________________________________________________________\n",
      "StateHoliday_bw_input (InputLay (None, 1)            0                                            \n",
      "__________________________________________________________________________________________________\n",
      "StateHoliday_fw_input (InputLay (None, 1)            0                                            \n",
      "__________________________________________________________________________________________________\n",
      "Store_input (InputLayer)        (None, 1)            0                                            \n",
      "__________________________________________________________________________________________________\n",
      "StoreType_input (InputLayer)    (None, 1)            0                                            \n",
      "__________________________________________________________________________________________________\n",
      "Week_input (InputLayer)         (None, 1)            0                                            \n",
      "__________________________________________________________________________________________________\n",
      "Year_input (InputLayer)         (None, 1)            0                                            \n",
      "__________________________________________________________________________________________________\n",
      "Assortment_embed (Embedding)    (None, 1, 2)         6           Assortment_input[0][0]           \n",
      "__________________________________________________________________________________________________\n",
      "CompetitionMonthsOpen_embed (Em (None, 1, 13)        325         CompetitionMonthsOpen_input[0][0]\n",
      "__________________________________________________________________________________________________\n",
      "CompetitionOpenSinceYear_embed  (None, 1, 12)        276         CompetitionOpenSinceYear_input[0]\n",
      "__________________________________________________________________________________________________\n",
      "Day_embed (Embedding)           (None, 1, 16)        496         Day_input[0][0]                  \n",
      "__________________________________________________________________________________________________\n",
      "DayOfWeek_embed (Embedding)     (None, 1, 4)         28          DayOfWeek_input[0][0]            \n",
      "__________________________________________________________________________________________________\n",
      "Events_embed (Embedding)        (None, 1, 11)        242         Events_input[0][0]               \n",
      "__________________________________________________________________________________________________\n",
      "Month_embed (Embedding)         (None, 1, 6)         72          Month_input[0][0]                \n",
      "__________________________________________________________________________________________________\n",
      "Promo_embed (Embedding)         (None, 1, 1)         2           Promo_input[0][0]                \n",
      "__________________________________________________________________________________________________\n",
      "Promo2SinceYear_embed (Embeddin (None, 1, 4)         32          Promo2SinceYear_input[0][0]      \n",
      "__________________________________________________________________________________________________\n",
      "Promo2Weeks_embed (Embedding)   (None, 1, 13)        338         Promo2Weeks_input[0][0]          \n",
      "__________________________________________________________________________________________________\n",
      "PromoInterval_embed (Embedding) (None, 1, 2)         8           PromoInterval_input[0][0]        \n",
      "__________________________________________________________________________________________________\n",
      "Promo_bw_embed (Embedding)      (None, 1, 3)         18          Promo_bw_input[0][0]             \n",
      "__________________________________________________________________________________________________\n",
      "Promo_fw_embed (Embedding)      (None, 1, 3)         18          Promo_fw_input[0][0]             \n",
      "__________________________________________________________________________________________________\n",
      "SchoolHoliday_embed (Embedding) (None, 1, 1)         2           SchoolHoliday_input[0][0]        \n",
      "__________________________________________________________________________________________________\n",
      "SchoolHoliday_bw_embed (Embeddi (None, 1, 4)         32          SchoolHoliday_bw_input[0][0]     \n",
      "__________________________________________________________________________________________________\n",
      "SchoolHoliday_fw_embed (Embeddi (None, 1, 4)         32          SchoolHoliday_fw_input[0][0]     \n",
      "__________________________________________________________________________________________________\n",
      "State_embed (Embedding)         (None, 1, 6)         72          State_input[0][0]                \n",
      "__________________________________________________________________________________________________\n",
      "StateHoliday_embed (Embedding)  (None, 1, 1)         2           StateHoliday_input[0][0]         \n",
      "__________________________________________________________________________________________________\n",
      "StateHoliday_bw_embed (Embeddin (None, 1, 2)         6           StateHoliday_bw_input[0][0]      \n",
      "__________________________________________________________________________________________________\n",
      "StateHoliday_fw_embed (Embeddin (None, 1, 2)         6           StateHoliday_fw_input[0][0]      \n",
      "__________________________________________________________________________________________________\n",
      "Store_embed (Embedding)         (None, 1, 50)        55750       Store_input[0][0]                \n",
      "__________________________________________________________________________________________________\n",
      "StoreType_embed (Embedding)     (None, 1, 2)         8           StoreType_input[0][0]            \n",
      "__________________________________________________________________________________________________\n",
      "Week_embed (Embedding)          (None, 1, 26)        1352        Week_input[0][0]                 \n",
      "__________________________________________________________________________________________________\n",
      "Year_embed (Embedding)          (None, 1, 2)         6           Year_input[0][0]                 \n",
      "__________________________________________________________________________________________________\n",
      "Embs_concatenated (Concatenate) (None, 1, 190)       0           Assortment_embed[0][0]           \n",
      "                                                                 CompetitionMonthsOpen_embed[0][0]\n",
      "                                                                 CompetitionOpenSinceYear_embed[0]\n",
      "                                                                 Day_embed[0][0]                  \n",
      "                                                                 DayOfWeek_embed[0][0]            \n",
      "                                                                 Events_embed[0][0]               \n",
      "                                                                 Month_embed[0][0]                \n",
      "                                                                 Promo_embed[0][0]                \n",
      "                                                                 Promo2SinceYear_embed[0][0]      \n",
      "                                                                 Promo2Weeks_embed[0][0]          \n",
      "                                                                 PromoInterval_embed[0][0]        \n",
      "                                                                 Promo_bw_embed[0][0]             \n",
      "                                                                 Promo_fw_embed[0][0]             \n",
      "                                                                 SchoolHoliday_embed[0][0]        \n",
      "                                                                 SchoolHoliday_bw_embed[0][0]     \n",
      "                                                                 SchoolHoliday_fw_embed[0][0]     \n",
      "                                                                 State_embed[0][0]                \n",
      "                                                                 StateHoliday_embed[0][0]         \n",
      "                                                                 StateHoliday_bw_embed[0][0]      \n",
      "                                                                 StateHoliday_fw_embed[0][0]      \n",
      "                                                                 Store_embed[0][0]                \n",
      "                                                                 StoreType_embed[0][0]            \n",
      "                                                                 Week_embed[0][0]                 \n",
      "                                                                 Year_embed[0][0]                 \n",
      "__________________________________________________________________________________________________\n",
      "Continuous_variables_input (Inp (None, 14)           0                                            \n",
      "__________________________________________________________________________________________________\n",
      "embs_flattened (Flatten)        (None, 190)          0           Embs_concatenated[0][0]          \n",
      "__________________________________________________________________________________________________\n",
      "Continuous_variables_dense (Den (None, 140)          2100        Continuous_variables_input[0][0] \n",
      "__________________________________________________________________________________________________\n",
      "embs_contin_joined (Concatenate (None, 330)          0           embs_flattened[0][0]             \n",
      "                                                                 Continuous_variables_dense[0][0] \n",
      "__________________________________________________________________________________________________\n",
      "BatchNorm_1 (BatchNormalization (None, 330)          1320        embs_contin_joined[0][0]         \n",
      "__________________________________________________________________________________________________\n",
      "Dropout_1 (Dropout)             (None, 330)          0           BatchNorm_1[0][0]                \n",
      "__________________________________________________________________________________________________\n",
      "Dense_11 (Dense)                (None, 1024)         338944      Dropout_1[0][0]                  \n",
      "__________________________________________________________________________________________________\n",
      "Dense_12 (Dense)                (None, 512)          524800      Dense_11[0][0]                   \n",
      "__________________________________________________________________________________________________\n",
      "BatchNorm_2 (BatchNormalization (None, 512)          2048        Dense_12[0][0]                   \n",
      "__________________________________________________________________________________________________\n",
      "Dropout_2 (Dropout)             (None, 512)          0           BatchNorm_2[0][0]                \n",
      "__________________________________________________________________________________________________\n",
      "Dense_21 (Dense)                (None, 256)          131328      Dropout_2[0][0]                  \n",
      "__________________________________________________________________________________________________\n",
      "Dense_22 (Dense)                (None, 128)          32896       Dense_21[0][0]                   \n",
      "__________________________________________________________________________________________________\n",
      "BatchNorm_3 (BatchNormalization (None, 128)          512         Dense_22[0][0]                   \n",
      "__________________________________________________________________________________________________\n",
      "Dropout_3 (Dropout)             (None, 128)          0           BatchNorm_3[0][0]                \n",
      "__________________________________________________________________________________________________\n",
      "Output (Dense)                  (None, 1)            129         Dropout_3[0][0]                  \n",
      "==================================================================================================\n",
      "Total params: 1,093,206\n",
      "Trainable params: 1,091,266\n",
      "Non-trainable params: 1,940\n",
      "__________________________________________________________________________________________________\n"
     ]
    }
   ],
   "source": [
    "big_model.summary()"
   ]
  },
  {
   "cell_type": "markdown",
   "metadata": {},
   "source": [
    "### Model Visualization"
   ]
  },
  {
   "cell_type": "code",
   "execution_count": 17,
   "metadata": {
    "ExecuteTime": {
     "end_time": "2019-01-23T15:54:42.801480Z",
     "start_time": "2019-01-23T15:54:42.562540Z"
    }
   },
   "outputs": [
    {
     "name": "stderr",
     "output_type": "stream",
     "text": [
      "Using TensorFlow backend.\n"
     ]
    },
    {
     "data": {
      "image/svg+xml": [
       "<svg height=\"1310pt\" viewBox=\"0.00 0.00 4060.00 1310.00\" width=\"4060pt\" xmlns=\"http://www.w3.org/2000/svg\" xmlns:xlink=\"http://www.w3.org/1999/xlink\">\n",
       "<g class=\"graph\" id=\"graph0\" transform=\"scale(1 1) rotate(0) translate(4 1306)\">\n",
       "<title>G</title>\n",
       "<polygon fill=\"#ffffff\" points=\"-4,4 -4,-1306 4056,-1306 4056,4 -4,4\" stroke=\"transparent\"/>\n",
       "<!-- 140692289087192 -->\n",
       "<g class=\"node\" id=\"node1\">\n",
       "<title>140692289087192</title>\n",
       "<polygon fill=\"none\" points=\"57.5,-1265.5 57.5,-1301.5 291.5,-1301.5 291.5,-1265.5 57.5,-1265.5\" stroke=\"#000000\"/>\n",
       "<text fill=\"#000000\" font-family=\"Times,serif\" font-size=\"14.00\" text-anchor=\"middle\" x=\"174.5\" y=\"-1279.8\">Assortment_input: InputLayer</text>\n",
       "</g>\n",
       "<!-- 140692289088816 -->\n",
       "<g class=\"node\" id=\"node25\">\n",
       "<title>140692289088816</title>\n",
       "<polygon fill=\"none\" points=\"442.5,-1265.5 442.5,-1301.5 688.5,-1301.5 688.5,-1265.5 442.5,-1265.5\" stroke=\"#000000\"/>\n",
       "<text fill=\"#000000\" font-family=\"Times,serif\" font-size=\"14.00\" text-anchor=\"middle\" x=\"565.5\" y=\"-1279.8\">Assortment_embed: Embedding</text>\n",
       "</g>\n",
       "<!-- 140692289087192&#45;&gt;140692289088816 -->\n",
       "<g class=\"edge\" id=\"edge1\">\n",
       "<title>140692289087192-&gt;140692289088816</title>\n",
       "<path d=\"M291.548,-1283.5C335.7869,-1283.5 386.4511,-1283.5 432.0809,-1283.5\" fill=\"none\" stroke=\"#000000\"/>\n",
       "<polygon fill=\"#000000\" points=\"432.3426,-1287.0001 442.3425,-1283.5 432.3425,-1280.0001 432.3426,-1287.0001\" stroke=\"#000000\"/>\n",
       "</g>\n",
       "<!-- 140692265870616 -->\n",
       "<g class=\"node\" id=\"node2\">\n",
       "<title>140692265870616</title>\n",
       "<polygon fill=\"none\" points=\"8.5,-1210.5 8.5,-1246.5 340.5,-1246.5 340.5,-1210.5 8.5,-1210.5\" stroke=\"#000000\"/>\n",
       "<text fill=\"#000000\" font-family=\"Times,serif\" font-size=\"14.00\" text-anchor=\"middle\" x=\"174.5\" y=\"-1224.8\">CompetitionMonthsOpen_input: InputLayer</text>\n",
       "</g>\n",
       "<!-- 140692265873192 -->\n",
       "<g class=\"node\" id=\"node26\">\n",
       "<title>140692265873192</title>\n",
       "<polygon fill=\"none\" points=\"393.5,-1210.5 393.5,-1246.5 737.5,-1246.5 737.5,-1210.5 393.5,-1210.5\" stroke=\"#000000\"/>\n",
       "<text fill=\"#000000\" font-family=\"Times,serif\" font-size=\"14.00\" text-anchor=\"middle\" x=\"565.5\" y=\"-1224.8\">CompetitionMonthsOpen_embed: Embedding</text>\n",
       "</g>\n",
       "<!-- 140692265870616&#45;&gt;140692265873192 -->\n",
       "<g class=\"edge\" id=\"edge2\">\n",
       "<title>140692265870616-&gt;140692265873192</title>\n",
       "<path d=\"M340.6027,-1228.5C354.6619,-1228.5 368.9286,-1228.5 383.1032,-1228.5\" fill=\"none\" stroke=\"#000000\"/>\n",
       "<polygon fill=\"#000000\" points=\"383.4039,-1232.0001 393.4038,-1228.5 383.4038,-1225.0001 383.4039,-1232.0001\" stroke=\"#000000\"/>\n",
       "</g>\n",
       "<!-- 140692265449568 -->\n",
       "<g class=\"node\" id=\"node3\">\n",
       "<title>140692265449568</title>\n",
       "<polygon fill=\"none\" points=\"0,-1155.5 0,-1191.5 349,-1191.5 349,-1155.5 0,-1155.5\" stroke=\"#000000\"/>\n",
       "<text fill=\"#000000\" font-family=\"Times,serif\" font-size=\"14.00\" text-anchor=\"middle\" x=\"174.5\" y=\"-1169.8\">CompetitionOpenSinceYear_input: InputLayer</text>\n",
       "</g>\n",
       "<!-- 140692265451136 -->\n",
       "<g class=\"node\" id=\"node27\">\n",
       "<title>140692265451136</title>\n",
       "<polygon fill=\"none\" points=\"385,-1155.5 385,-1191.5 746,-1191.5 746,-1155.5 385,-1155.5\" stroke=\"#000000\"/>\n",
       "<text fill=\"#000000\" font-family=\"Times,serif\" font-size=\"14.00\" text-anchor=\"middle\" x=\"565.5\" y=\"-1169.8\">CompetitionOpenSinceYear_embed: Embedding</text>\n",
       "</g>\n",
       "<!-- 140692265449568&#45;&gt;140692265451136 -->\n",
       "<g class=\"edge\" id=\"edge3\">\n",
       "<title>140692265449568-&gt;140692265451136</title>\n",
       "<path d=\"M349.1299,-1173.5C357.686,-1173.5 366.296,-1173.5 374.8934,-1173.5\" fill=\"none\" stroke=\"#000000\"/>\n",
       "<polygon fill=\"#000000\" points=\"374.9762,-1177.0001 384.9762,-1173.5 374.9761,-1170.0001 374.9762,-1177.0001\" stroke=\"#000000\"/>\n",
       "</g>\n",
       "<!-- 140692265610208 -->\n",
       "<g class=\"node\" id=\"node4\">\n",
       "<title>140692265610208</title>\n",
       "<polygon fill=\"none\" points=\"85,-1100.5 85,-1136.5 264,-1136.5 264,-1100.5 85,-1100.5\" stroke=\"#000000\"/>\n",
       "<text fill=\"#000000\" font-family=\"Times,serif\" font-size=\"14.00\" text-anchor=\"middle\" x=\"174.5\" y=\"-1114.8\">Day_input: InputLayer</text>\n",
       "</g>\n",
       "<!-- 140692265610768 -->\n",
       "<g class=\"node\" id=\"node28\">\n",
       "<title>140692265610768</title>\n",
       "<polygon fill=\"none\" points=\"470,-1100.5 470,-1136.5 661,-1136.5 661,-1100.5 470,-1100.5\" stroke=\"#000000\"/>\n",
       "<text fill=\"#000000\" font-family=\"Times,serif\" font-size=\"14.00\" text-anchor=\"middle\" x=\"565.5\" y=\"-1114.8\">Day_embed: Embedding</text>\n",
       "</g>\n",
       "<!-- 140692265610208&#45;&gt;140692265610768 -->\n",
       "<g class=\"edge\" id=\"edge4\">\n",
       "<title>140692265610208-&gt;140692265610768</title>\n",
       "<path d=\"M264.2033,-1118.5C322.4018,-1118.5 398.5003,-1118.5 459.6572,-1118.5\" fill=\"none\" stroke=\"#000000\"/>\n",
       "<polygon fill=\"#000000\" points=\"459.7265,-1122.0001 469.7265,-1118.5 459.7265,-1115.0001 459.7265,-1122.0001\" stroke=\"#000000\"/>\n",
       "</g>\n",
       "<!-- 140692264886512 -->\n",
       "<g class=\"node\" id=\"node5\">\n",
       "<title>140692264886512</title>\n",
       "<polygon fill=\"none\" points=\"57,-1045.5 57,-1081.5 292,-1081.5 292,-1045.5 57,-1045.5\" stroke=\"#000000\"/>\n",
       "<text fill=\"#000000\" font-family=\"Times,serif\" font-size=\"14.00\" text-anchor=\"middle\" x=\"174.5\" y=\"-1059.8\">DayOfWeek_input: InputLayer</text>\n",
       "</g>\n",
       "<!-- 140692264890040 -->\n",
       "<g class=\"node\" id=\"node29\">\n",
       "<title>140692264890040</title>\n",
       "<polygon fill=\"none\" points=\"442,-1045.5 442,-1081.5 689,-1081.5 689,-1045.5 442,-1045.5\" stroke=\"#000000\"/>\n",
       "<text fill=\"#000000\" font-family=\"Times,serif\" font-size=\"14.00\" text-anchor=\"middle\" x=\"565.5\" y=\"-1059.8\">DayOfWeek_embed: Embedding</text>\n",
       "</g>\n",
       "<!-- 140692264886512&#45;&gt;140692264890040 -->\n",
       "<g class=\"edge\" id=\"edge5\">\n",
       "<title>140692264886512-&gt;140692264890040</title>\n",
       "<path d=\"M292.0779,-1063.5C336.091,-1063.5 386.4041,-1063.5 431.7711,-1063.5\" fill=\"none\" stroke=\"#000000\"/>\n",
       "<polygon fill=\"#000000\" points=\"431.9747,-1067.0001 441.9747,-1063.5 431.9746,-1060.0001 431.9747,-1067.0001\" stroke=\"#000000\"/>\n",
       "</g>\n",
       "<!-- 140692264993568 -->\n",
       "<g class=\"node\" id=\"node6\">\n",
       "<title>140692264993568</title>\n",
       "<polygon fill=\"none\" points=\"74.5,-990.5 74.5,-1026.5 274.5,-1026.5 274.5,-990.5 74.5,-990.5\" stroke=\"#000000\"/>\n",
       "<text fill=\"#000000\" font-family=\"Times,serif\" font-size=\"14.00\" text-anchor=\"middle\" x=\"174.5\" y=\"-1004.8\">Events_input: InputLayer</text>\n",
       "</g>\n",
       "<!-- 140692264996592 -->\n",
       "<g class=\"node\" id=\"node30\">\n",
       "<title>140692264996592</title>\n",
       "<polygon fill=\"none\" points=\"459.5,-990.5 459.5,-1026.5 671.5,-1026.5 671.5,-990.5 459.5,-990.5\" stroke=\"#000000\"/>\n",
       "<text fill=\"#000000\" font-family=\"Times,serif\" font-size=\"14.00\" text-anchor=\"middle\" x=\"565.5\" y=\"-1004.8\">Events_embed: Embedding</text>\n",
       "</g>\n",
       "<!-- 140692264993568&#45;&gt;140692264996592 -->\n",
       "<g class=\"edge\" id=\"edge6\">\n",
       "<title>140692264993568-&gt;140692264996592</title>\n",
       "<path d=\"M274.6845,-1008.5C327.9363,-1008.5 393.6801,-1008.5 449.1795,-1008.5\" fill=\"none\" stroke=\"#000000\"/>\n",
       "<polygon fill=\"#000000\" points=\"449.4179,-1012.0001 459.4179,-1008.5 449.4178,-1005.0001 449.4179,-1012.0001\" stroke=\"#000000\"/>\n",
       "</g>\n",
       "<!-- 140692264605288 -->\n",
       "<g class=\"node\" id=\"node7\">\n",
       "<title>140692264605288</title>\n",
       "<polygon fill=\"none\" points=\"76,-935.5 76,-971.5 273,-971.5 273,-935.5 76,-935.5\" stroke=\"#000000\"/>\n",
       "<text fill=\"#000000\" font-family=\"Times,serif\" font-size=\"14.00\" text-anchor=\"middle\" x=\"174.5\" y=\"-949.8\">Month_input: InputLayer</text>\n",
       "</g>\n",
       "<!-- 140692264606632 -->\n",
       "<g class=\"node\" id=\"node31\">\n",
       "<title>140692264606632</title>\n",
       "<polygon fill=\"none\" points=\"461,-935.5 461,-971.5 670,-971.5 670,-935.5 461,-935.5\" stroke=\"#000000\"/>\n",
       "<text fill=\"#000000\" font-family=\"Times,serif\" font-size=\"14.00\" text-anchor=\"middle\" x=\"565.5\" y=\"-949.8\">Month_embed: Embedding</text>\n",
       "</g>\n",
       "<!-- 140692264605288&#45;&gt;140692264606632 -->\n",
       "<g class=\"edge\" id=\"edge7\">\n",
       "<title>140692264605288-&gt;140692264606632</title>\n",
       "<path d=\"M273.1658,-953.5C327.1605,-953.5 394.3393,-953.5 450.6776,-953.5\" fill=\"none\" stroke=\"#000000\"/>\n",
       "<polygon fill=\"#000000\" points=\"450.7031,-957.0001 460.7031,-953.5 450.7031,-950.0001 450.7031,-957.0001\" stroke=\"#000000\"/>\n",
       "</g>\n",
       "<!-- 140692264749544 -->\n",
       "<g class=\"node\" id=\"node8\">\n",
       "<title>140692264749544</title>\n",
       "<polygon fill=\"none\" points=\"76,-880.5 76,-916.5 273,-916.5 273,-880.5 76,-880.5\" stroke=\"#000000\"/>\n",
       "<text fill=\"#000000\" font-family=\"Times,serif\" font-size=\"14.00\" text-anchor=\"middle\" x=\"174.5\" y=\"-894.8\">Promo_input: InputLayer</text>\n",
       "</g>\n",
       "<!-- 140692264751056 -->\n",
       "<g class=\"node\" id=\"node32\">\n",
       "<title>140692264751056</title>\n",
       "<polygon fill=\"none\" points=\"461,-880.5 461,-916.5 670,-916.5 670,-880.5 461,-880.5\" stroke=\"#000000\"/>\n",
       "<text fill=\"#000000\" font-family=\"Times,serif\" font-size=\"14.00\" text-anchor=\"middle\" x=\"565.5\" y=\"-894.8\">Promo_embed: Embedding</text>\n",
       "</g>\n",
       "<!-- 140692264749544&#45;&gt;140692264751056 -->\n",
       "<g class=\"edge\" id=\"edge8\">\n",
       "<title>140692264749544-&gt;140692264751056</title>\n",
       "<path d=\"M273.1658,-898.5C327.1605,-898.5 394.3393,-898.5 450.6776,-898.5\" fill=\"none\" stroke=\"#000000\"/>\n",
       "<polygon fill=\"#000000\" points=\"450.7031,-902.0001 460.7031,-898.5 450.7031,-895.0001 450.7031,-902.0001\" stroke=\"#000000\"/>\n",
       "</g>\n",
       "<!-- 140692264365808 -->\n",
       "<g class=\"node\" id=\"node9\">\n",
       "<title>140692264365808</title>\n",
       "<polygon fill=\"none\" points=\"35.5,-825.5 35.5,-861.5 313.5,-861.5 313.5,-825.5 35.5,-825.5\" stroke=\"#000000\"/>\n",
       "<text fill=\"#000000\" font-family=\"Times,serif\" font-size=\"14.00\" text-anchor=\"middle\" x=\"174.5\" y=\"-839.8\">Promo2SinceYear_input: InputLayer</text>\n",
       "</g>\n",
       "<!-- 140692264365752 -->\n",
       "<g class=\"node\" id=\"node33\">\n",
       "<title>140692264365752</title>\n",
       "<polygon fill=\"none\" points=\"420.5,-825.5 420.5,-861.5 710.5,-861.5 710.5,-825.5 420.5,-825.5\" stroke=\"#000000\"/>\n",
       "<text fill=\"#000000\" font-family=\"Times,serif\" font-size=\"14.00\" text-anchor=\"middle\" x=\"565.5\" y=\"-839.8\">Promo2SinceYear_embed: Embedding</text>\n",
       "</g>\n",
       "<!-- 140692264365808&#45;&gt;140692264365752 -->\n",
       "<g class=\"edge\" id=\"edge9\">\n",
       "<title>140692264365808-&gt;140692264365752</title>\n",
       "<path d=\"M313.7284,-843.5C344.9106,-843.5 378.1806,-843.5 409.9767,-843.5\" fill=\"none\" stroke=\"#000000\"/>\n",
       "<polygon fill=\"#000000\" points=\"410.2439,-847.0001 420.2439,-843.5 410.2438,-840.0001 410.2439,-847.0001\" stroke=\"#000000\"/>\n",
       "</g>\n",
       "<!-- 140692264165672 -->\n",
       "<g class=\"node\" id=\"node10\">\n",
       "<title>140692264165672</title>\n",
       "<polygon fill=\"none\" points=\"48,-770.5 48,-806.5 301,-806.5 301,-770.5 48,-770.5\" stroke=\"#000000\"/>\n",
       "<text fill=\"#000000\" font-family=\"Times,serif\" font-size=\"14.00\" text-anchor=\"middle\" x=\"174.5\" y=\"-784.8\">Promo2Weeks_input: InputLayer</text>\n",
       "</g>\n",
       "<!-- 140692264168696 -->\n",
       "<g class=\"node\" id=\"node34\">\n",
       "<title>140692264168696</title>\n",
       "<polygon fill=\"none\" points=\"433,-770.5 433,-806.5 698,-806.5 698,-770.5 433,-770.5\" stroke=\"#000000\"/>\n",
       "<text fill=\"#000000\" font-family=\"Times,serif\" font-size=\"14.00\" text-anchor=\"middle\" x=\"565.5\" y=\"-784.8\">Promo2Weeks_embed: Embedding</text>\n",
       "</g>\n",
       "<!-- 140692264165672&#45;&gt;140692264168696 -->\n",
       "<g class=\"edge\" id=\"edge10\">\n",
       "<title>140692264165672-&gt;140692264168696</title>\n",
       "<path d=\"M301.1764,-788.5C340.0399,-788.5 383.0628,-788.5 422.9136,-788.5\" fill=\"none\" stroke=\"#000000\"/>\n",
       "<polygon fill=\"#000000\" points=\"422.9724,-792.0001 432.9724,-788.5 422.9723,-785.0001 422.9724,-792.0001\" stroke=\"#000000\"/>\n",
       "</g>\n",
       "<!-- 140692264273064 -->\n",
       "<g class=\"node\" id=\"node11\">\n",
       "<title>140692264273064</title>\n",
       "<polygon fill=\"none\" points=\"47.5,-715.5 47.5,-751.5 301.5,-751.5 301.5,-715.5 47.5,-715.5\" stroke=\"#000000\"/>\n",
       "<text fill=\"#000000\" font-family=\"Times,serif\" font-size=\"14.00\" text-anchor=\"middle\" x=\"174.5\" y=\"-729.8\">PromoInterval_input: InputLayer</text>\n",
       "</g>\n",
       "<!-- 140692264275752 -->\n",
       "<g class=\"node\" id=\"node35\">\n",
       "<title>140692264275752</title>\n",
       "<polygon fill=\"none\" points=\"432.5,-715.5 432.5,-751.5 698.5,-751.5 698.5,-715.5 432.5,-715.5\" stroke=\"#000000\"/>\n",
       "<text fill=\"#000000\" font-family=\"Times,serif\" font-size=\"14.00\" text-anchor=\"middle\" x=\"565.5\" y=\"-729.8\">PromoInterval_embed: Embedding</text>\n",
       "</g>\n",
       "<!-- 140692264273064&#45;&gt;140692264275752 -->\n",
       "<g class=\"edge\" id=\"edge11\">\n",
       "<title>140692264273064-&gt;140692264275752</title>\n",
       "<path d=\"M301.7167,-733.5C340.1673,-733.5 382.6483,-733.5 422.0802,-733.5\" fill=\"none\" stroke=\"#000000\"/>\n",
       "<polygon fill=\"#000000\" points=\"422.3038,-737.0001 432.3037,-733.5 422.3037,-730.0001 422.3038,-737.0001\" stroke=\"#000000\"/>\n",
       "</g>\n",
       "<!-- 140692263864360 -->\n",
       "<g class=\"node\" id=\"node12\">\n",
       "<title>140692263864360</title>\n",
       "<polygon fill=\"none\" points=\"61.5,-660.5 61.5,-696.5 287.5,-696.5 287.5,-660.5 61.5,-660.5\" stroke=\"#000000\"/>\n",
       "<text fill=\"#000000\" font-family=\"Times,serif\" font-size=\"14.00\" text-anchor=\"middle\" x=\"174.5\" y=\"-674.8\">Promo_bw_input: InputLayer</text>\n",
       "</g>\n",
       "<!-- 140692263865928 -->\n",
       "<g class=\"node\" id=\"node36\">\n",
       "<title>140692263865928</title>\n",
       "<polygon fill=\"none\" points=\"446.5,-660.5 446.5,-696.5 684.5,-696.5 684.5,-660.5 446.5,-660.5\" stroke=\"#000000\"/>\n",
       "<text fill=\"#000000\" font-family=\"Times,serif\" font-size=\"14.00\" text-anchor=\"middle\" x=\"565.5\" y=\"-674.8\">Promo_bw_embed: Embedding</text>\n",
       "</g>\n",
       "<!-- 140692263864360&#45;&gt;140692263865928 -->\n",
       "<g class=\"edge\" id=\"edge12\">\n",
       "<title>140692263864360-&gt;140692263865928</title>\n",
       "<path d=\"M287.5934,-678.5C334.0228,-678.5 388.0423,-678.5 436.0428,-678.5\" fill=\"none\" stroke=\"#000000\"/>\n",
       "<polygon fill=\"#000000\" points=\"436.1894,-682.0001 446.1894,-678.5 436.1893,-675.0001 436.1894,-682.0001\" stroke=\"#000000\"/>\n",
       "</g>\n",
       "<!-- 140692264025000 -->\n",
       "<g class=\"node\" id=\"node13\">\n",
       "<title>140692264025000</title>\n",
       "<polygon fill=\"none\" points=\"63.5,-605.5 63.5,-641.5 285.5,-641.5 285.5,-605.5 63.5,-605.5\" stroke=\"#000000\"/>\n",
       "<text fill=\"#000000\" font-family=\"Times,serif\" font-size=\"14.00\" text-anchor=\"middle\" x=\"174.5\" y=\"-619.8\">Promo_fw_input: InputLayer</text>\n",
       "</g>\n",
       "<!-- 140692264025560 -->\n",
       "<g class=\"node\" id=\"node37\">\n",
       "<title>140692264025560</title>\n",
       "<polygon fill=\"none\" points=\"448.5,-605.5 448.5,-641.5 682.5,-641.5 682.5,-605.5 448.5,-605.5\" stroke=\"#000000\"/>\n",
       "<text fill=\"#000000\" font-family=\"Times,serif\" font-size=\"14.00\" text-anchor=\"middle\" x=\"565.5\" y=\"-619.8\">Promo_fw_embed: Embedding</text>\n",
       "</g>\n",
       "<!-- 140692264025000&#45;&gt;140692264025560 -->\n",
       "<g class=\"edge\" id=\"edge13\">\n",
       "<title>140692264025000-&gt;140692264025560</title>\n",
       "<path d=\"M285.7603,-623.5C333.2798,-623.5 389.0096,-623.5 438.1666,-623.5\" fill=\"none\" stroke=\"#000000\"/>\n",
       "<polygon fill=\"#000000\" points=\"438.228,-627.0001 448.228,-623.5 438.228,-620.0001 438.228,-627.0001\" stroke=\"#000000\"/>\n",
       "</g>\n",
       "<!-- 140692263644968 -->\n",
       "<g class=\"node\" id=\"node14\">\n",
       "<title>140692263644968</title>\n",
       "<polygon fill=\"none\" points=\"47.5,-550.5 47.5,-586.5 301.5,-586.5 301.5,-550.5 47.5,-550.5\" stroke=\"#000000\"/>\n",
       "<text fill=\"#000000\" font-family=\"Times,serif\" font-size=\"14.00\" text-anchor=\"middle\" x=\"174.5\" y=\"-564.8\">SchoolHoliday_input: InputLayer</text>\n",
       "</g>\n",
       "<!-- 140692263292544 -->\n",
       "<g class=\"node\" id=\"node38\">\n",
       "<title>140692263292544</title>\n",
       "<polygon fill=\"none\" points=\"432.5,-550.5 432.5,-586.5 698.5,-586.5 698.5,-550.5 432.5,-550.5\" stroke=\"#000000\"/>\n",
       "<text fill=\"#000000\" font-family=\"Times,serif\" font-size=\"14.00\" text-anchor=\"middle\" x=\"565.5\" y=\"-564.8\">SchoolHoliday_embed: Embedding</text>\n",
       "</g>\n",
       "<!-- 140692263644968&#45;&gt;140692263292544 -->\n",
       "<g class=\"edge\" id=\"edge14\">\n",
       "<title>140692263644968-&gt;140692263292544</title>\n",
       "<path d=\"M301.7167,-568.5C340.1673,-568.5 382.6483,-568.5 422.0802,-568.5\" fill=\"none\" stroke=\"#000000\"/>\n",
       "<polygon fill=\"#000000\" points=\"422.3038,-572.0001 432.3037,-568.5 422.3037,-565.0001 422.3038,-572.0001\" stroke=\"#000000\"/>\n",
       "</g>\n",
       "<!-- 140692263400168 -->\n",
       "<g class=\"node\" id=\"node15\">\n",
       "<title>140692263400168</title>\n",
       "<polygon fill=\"none\" points=\"33,-495.5 33,-531.5 316,-531.5 316,-495.5 33,-495.5\" stroke=\"#000000\"/>\n",
       "<text fill=\"#000000\" font-family=\"Times,serif\" font-size=\"14.00\" text-anchor=\"middle\" x=\"174.5\" y=\"-509.8\">SchoolHoliday_bw_input: InputLayer</text>\n",
       "</g>\n",
       "<!-- 140692263403192 -->\n",
       "<g class=\"node\" id=\"node39\">\n",
       "<title>140692263403192</title>\n",
       "<polygon fill=\"none\" points=\"418,-495.5 418,-531.5 713,-531.5 713,-495.5 418,-495.5\" stroke=\"#000000\"/>\n",
       "<text fill=\"#000000\" font-family=\"Times,serif\" font-size=\"14.00\" text-anchor=\"middle\" x=\"565.5\" y=\"-509.8\">SchoolHoliday_bw_embed: Embedding</text>\n",
       "</g>\n",
       "<!-- 140692263400168&#45;&gt;140692263403192 -->\n",
       "<g class=\"edge\" id=\"edge15\">\n",
       "<title>140692263400168-&gt;140692263403192</title>\n",
       "<path d=\"M316.2128,-513.5C345.8622,-513.5 377.3013,-513.5 407.5001,-513.5\" fill=\"none\" stroke=\"#000000\"/>\n",
       "<polygon fill=\"#000000\" points=\"407.6895,-517.0001 417.6895,-513.5 407.6894,-510.0001 407.6895,-517.0001\" stroke=\"#000000\"/>\n",
       "</g>\n",
       "<!-- 140692262999656 -->\n",
       "<g class=\"node\" id=\"node16\">\n",
       "<title>140692262999656</title>\n",
       "<polygon fill=\"none\" points=\"35,-440.5 35,-476.5 314,-476.5 314,-440.5 35,-440.5\" stroke=\"#000000\"/>\n",
       "<text fill=\"#000000\" font-family=\"Times,serif\" font-size=\"14.00\" text-anchor=\"middle\" x=\"174.5\" y=\"-454.8\">SchoolHoliday_fw_input: InputLayer</text>\n",
       "</g>\n",
       "<!-- 140692263001168 -->\n",
       "<g class=\"node\" id=\"node40\">\n",
       "<title>140692263001168</title>\n",
       "<polygon fill=\"none\" points=\"420,-440.5 420,-476.5 711,-476.5 711,-440.5 420,-440.5\" stroke=\"#000000\"/>\n",
       "<text fill=\"#000000\" font-family=\"Times,serif\" font-size=\"14.00\" text-anchor=\"middle\" x=\"565.5\" y=\"-454.8\">SchoolHoliday_fw_embed: Embedding</text>\n",
       "</g>\n",
       "<!-- 140692262999656&#45;&gt;140692263001168 -->\n",
       "<g class=\"edge\" id=\"edge16\">\n",
       "<title>140692262999656-&gt;140692263001168</title>\n",
       "<path d=\"M314.004,-458.5C344.9751,-458.5 377.9938,-458.5 409.5745,-458.5\" fill=\"none\" stroke=\"#000000\"/>\n",
       "<polygon fill=\"#000000\" points=\"409.7731,-462.0001 419.773,-458.5 409.773,-455.0001 409.7731,-462.0001\" stroke=\"#000000\"/>\n",
       "</g>\n",
       "<!-- 140692263152104 -->\n",
       "<g class=\"node\" id=\"node17\">\n",
       "<title>140692263152104</title>\n",
       "<polygon fill=\"none\" points=\"80,-385.5 80,-421.5 269,-421.5 269,-385.5 80,-385.5\" stroke=\"#000000\"/>\n",
       "<text fill=\"#000000\" font-family=\"Times,serif\" font-size=\"14.00\" text-anchor=\"middle\" x=\"174.5\" y=\"-399.8\">State_input: InputLayer</text>\n",
       "</g>\n",
       "<!-- 140692263153504 -->\n",
       "<g class=\"node\" id=\"node41\">\n",
       "<title>140692263153504</title>\n",
       "<polygon fill=\"none\" points=\"465,-385.5 465,-421.5 666,-421.5 666,-385.5 465,-385.5\" stroke=\"#000000\"/>\n",
       "<text fill=\"#000000\" font-family=\"Times,serif\" font-size=\"14.00\" text-anchor=\"middle\" x=\"565.5\" y=\"-399.8\">State_embed: Embedding</text>\n",
       "</g>\n",
       "<!-- 140692263152104&#45;&gt;140692263153504 -->\n",
       "<g class=\"edge\" id=\"edge17\">\n",
       "<title>140692263152104-&gt;140692263153504</title>\n",
       "<path d=\"M269.1502,-403.5C325.1267,-403.5 396.2932,-403.5 454.8554,-403.5\" fill=\"none\" stroke=\"#000000\"/>\n",
       "<polygon fill=\"#000000\" points=\"454.8872,-407.0001 464.8872,-403.5 454.8871,-400.0001 454.8872,-407.0001\" stroke=\"#000000\"/>\n",
       "</g>\n",
       "<!-- 140692262776560 -->\n",
       "<g class=\"node\" id=\"node18\">\n",
       "<title>140692262776560</title>\n",
       "<polygon fill=\"none\" points=\"52,-330.5 52,-366.5 297,-366.5 297,-330.5 52,-330.5\" stroke=\"#000000\"/>\n",
       "<text fill=\"#000000\" font-family=\"Times,serif\" font-size=\"14.00\" text-anchor=\"middle\" x=\"174.5\" y=\"-344.8\">StateHoliday_input: InputLayer</text>\n",
       "</g>\n",
       "<!-- 140692262776504 -->\n",
       "<g class=\"node\" id=\"node42\">\n",
       "<title>140692262776504</title>\n",
       "<polygon fill=\"none\" points=\"437,-330.5 437,-366.5 694,-366.5 694,-330.5 437,-330.5\" stroke=\"#000000\"/>\n",
       "<text fill=\"#000000\" font-family=\"Times,serif\" font-size=\"14.00\" text-anchor=\"middle\" x=\"565.5\" y=\"-344.8\">StateHoliday_embed: Embedding</text>\n",
       "</g>\n",
       "<!-- 140692262776560&#45;&gt;140692262776504 -->\n",
       "<g class=\"edge\" id=\"edge18\">\n",
       "<title>140692262776560-&gt;140692262776504</title>\n",
       "<path d=\"M297.1421,-348.5C338.2986,-348.5 384.4823,-348.5 426.7825,-348.5\" fill=\"none\" stroke=\"#000000\"/>\n",
       "<polygon fill=\"#000000\" points=\"426.8765,-352.0001 436.8765,-348.5 426.8764,-345.0001 426.8765,-352.0001\" stroke=\"#000000\"/>\n",
       "</g>\n",
       "<!-- 140692262576536 -->\n",
       "<g class=\"node\" id=\"node19\">\n",
       "<title>140692262576536</title>\n",
       "<polygon fill=\"none\" points=\"38,-275.5 38,-311.5 311,-311.5 311,-275.5 38,-275.5\" stroke=\"#000000\"/>\n",
       "<text fill=\"#000000\" font-family=\"Times,serif\" font-size=\"14.00\" text-anchor=\"middle\" x=\"174.5\" y=\"-289.8\">StateHoliday_bw_input: InputLayer</text>\n",
       "</g>\n",
       "<!-- 140692262579448 -->\n",
       "<g class=\"node\" id=\"node43\">\n",
       "<title>140692262579448</title>\n",
       "<polygon fill=\"none\" points=\"423,-275.5 423,-311.5 708,-311.5 708,-275.5 423,-275.5\" stroke=\"#000000\"/>\n",
       "<text fill=\"#000000\" font-family=\"Times,serif\" font-size=\"14.00\" text-anchor=\"middle\" x=\"565.5\" y=\"-289.8\">StateHoliday_bw_embed: Embedding</text>\n",
       "</g>\n",
       "<!-- 140692262576536&#45;&gt;140692262579448 -->\n",
       "<g class=\"edge\" id=\"edge19\">\n",
       "<title>140692262576536-&gt;140692262579448</title>\n",
       "<path d=\"M311.2528,-293.5C343.9832,-293.5 379.1353,-293.5 412.5453,-293.5\" fill=\"none\" stroke=\"#000000\"/>\n",
       "<polygon fill=\"#000000\" points=\"412.8534,-297.0001 422.8534,-293.5 412.8533,-290.0001 412.8534,-297.0001\" stroke=\"#000000\"/>\n",
       "</g>\n",
       "<!-- 140692262696104 -->\n",
       "<g class=\"node\" id=\"node20\">\n",
       "<title>140692262696104</title>\n",
       "<polygon fill=\"none\" points=\"40,-220.5 40,-256.5 309,-256.5 309,-220.5 40,-220.5\" stroke=\"#000000\"/>\n",
       "<text fill=\"#000000\" font-family=\"Times,serif\" font-size=\"14.00\" text-anchor=\"middle\" x=\"174.5\" y=\"-234.8\">StateHoliday_fw_input: InputLayer</text>\n",
       "</g>\n",
       "<!-- 140692262697392 -->\n",
       "<g class=\"node\" id=\"node44\">\n",
       "<title>140692262697392</title>\n",
       "<polygon fill=\"none\" points=\"425,-220.5 425,-256.5 706,-256.5 706,-220.5 425,-220.5\" stroke=\"#000000\"/>\n",
       "<text fill=\"#000000\" font-family=\"Times,serif\" font-size=\"14.00\" text-anchor=\"middle\" x=\"565.5\" y=\"-234.8\">StateHoliday_fw_embed: Embedding</text>\n",
       "</g>\n",
       "<!-- 140692262696104&#45;&gt;140692262697392 -->\n",
       "<g class=\"edge\" id=\"edge20\">\n",
       "<title>140692262696104-&gt;140692262697392</title>\n",
       "<path d=\"M309.06,-238.5C343.0385,-238.5 379.7459,-238.5 414.4758,-238.5\" fill=\"none\" stroke=\"#000000\"/>\n",
       "<polygon fill=\"#000000\" points=\"414.6983,-242.0001 424.6983,-238.5 414.6982,-235.0001 414.6983,-242.0001\" stroke=\"#000000\"/>\n",
       "</g>\n",
       "<!-- 140692262279432 -->\n",
       "<g class=\"node\" id=\"node21\">\n",
       "<title>140692262279432</title>\n",
       "<polygon fill=\"none\" points=\"79.5,-165.5 79.5,-201.5 269.5,-201.5 269.5,-165.5 79.5,-165.5\" stroke=\"#000000\"/>\n",
       "<text fill=\"#000000\" font-family=\"Times,serif\" font-size=\"14.00\" text-anchor=\"middle\" x=\"174.5\" y=\"-179.8\">Store_input: InputLayer</text>\n",
       "</g>\n",
       "<!-- 140692262280720 -->\n",
       "<g class=\"node\" id=\"node45\">\n",
       "<title>140692262280720</title>\n",
       "<polygon fill=\"none\" points=\"464.5,-165.5 464.5,-201.5 666.5,-201.5 666.5,-165.5 464.5,-165.5\" stroke=\"#000000\"/>\n",
       "<text fill=\"#000000\" font-family=\"Times,serif\" font-size=\"14.00\" text-anchor=\"middle\" x=\"565.5\" y=\"-179.8\">Store_embed: Embedding</text>\n",
       "</g>\n",
       "<!-- 140692262279432&#45;&gt;140692262280720 -->\n",
       "<g class=\"edge\" id=\"edge21\">\n",
       "<title>140692262279432-&gt;140692262280720</title>\n",
       "<path d=\"M269.6494,-183.5C325.3064,-183.5 395.851,-183.5 454.0934,-183.5\" fill=\"none\" stroke=\"#000000\"/>\n",
       "<polygon fill=\"#000000\" points=\"454.4454,-187.0001 464.4454,-183.5 454.4453,-180.0001 454.4454,-187.0001\" stroke=\"#000000\"/>\n",
       "</g>\n",
       "<!-- 140692262428456 -->\n",
       "<g class=\"node\" id=\"node22\">\n",
       "<title>140692262428456</title>\n",
       "<polygon fill=\"none\" points=\"62,-110.5 62,-146.5 287,-146.5 287,-110.5 62,-110.5\" stroke=\"#000000\"/>\n",
       "<text fill=\"#000000\" font-family=\"Times,serif\" font-size=\"14.00\" text-anchor=\"middle\" x=\"174.5\" y=\"-124.8\">StoreType_input: InputLayer</text>\n",
       "</g>\n",
       "<!-- 140692262428400 -->\n",
       "<g class=\"node\" id=\"node46\">\n",
       "<title>140692262428400</title>\n",
       "<polygon fill=\"none\" points=\"447,-110.5 447,-146.5 684,-146.5 684,-110.5 447,-110.5\" stroke=\"#000000\"/>\n",
       "<text fill=\"#000000\" font-family=\"Times,serif\" font-size=\"14.00\" text-anchor=\"middle\" x=\"565.5\" y=\"-124.8\">StoreType_embed: Embedding</text>\n",
       "</g>\n",
       "<!-- 140692262428456&#45;&gt;140692262428400 -->\n",
       "<g class=\"edge\" id=\"edge22\">\n",
       "<title>140692262428456-&gt;140692262428400</title>\n",
       "<path d=\"M287.0688,-128.5C333.827,-128.5 388.3544,-128.5 436.6991,-128.5\" fill=\"none\" stroke=\"#000000\"/>\n",
       "<polygon fill=\"#000000\" points=\"436.9165,-132.0001 446.9164,-128.5 436.9164,-125.0001 436.9165,-132.0001\" stroke=\"#000000\"/>\n",
       "</g>\n",
       "<!-- 140692261696008 -->\n",
       "<g class=\"node\" id=\"node23\">\n",
       "<title>140692261696008</title>\n",
       "<polygon fill=\"none\" points=\"79.5,-55.5 79.5,-91.5 269.5,-91.5 269.5,-55.5 79.5,-55.5\" stroke=\"#000000\"/>\n",
       "<text fill=\"#000000\" font-family=\"Times,serif\" font-size=\"14.00\" text-anchor=\"middle\" x=\"174.5\" y=\"-69.8\">Week_input: InputLayer</text>\n",
       "</g>\n",
       "<!-- 140692261697296 -->\n",
       "<g class=\"node\" id=\"node47\">\n",
       "<title>140692261697296</title>\n",
       "<polygon fill=\"none\" points=\"464.5,-55.5 464.5,-91.5 666.5,-91.5 666.5,-55.5 464.5,-55.5\" stroke=\"#000000\"/>\n",
       "<text fill=\"#000000\" font-family=\"Times,serif\" font-size=\"14.00\" text-anchor=\"middle\" x=\"565.5\" y=\"-69.8\">Week_embed: Embedding</text>\n",
       "</g>\n",
       "<!-- 140692261696008&#45;&gt;140692261697296 -->\n",
       "<g class=\"edge\" id=\"edge23\">\n",
       "<title>140692261696008-&gt;140692261697296</title>\n",
       "<path d=\"M269.6494,-73.5C325.3064,-73.5 395.851,-73.5 454.0934,-73.5\" fill=\"none\" stroke=\"#000000\"/>\n",
       "<polygon fill=\"#000000\" points=\"454.4454,-77.0001 464.4454,-73.5 454.4453,-70.0001 454.4454,-77.0001\" stroke=\"#000000\"/>\n",
       "</g>\n",
       "<!-- 140692261779048 -->\n",
       "<g class=\"node\" id=\"node24\">\n",
       "<title>140692261779048</title>\n",
       "<polygon fill=\"none\" points=\"83.5,-.5 83.5,-36.5 265.5,-36.5 265.5,-.5 83.5,-.5\" stroke=\"#000000\"/>\n",
       "<text fill=\"#000000\" font-family=\"Times,serif\" font-size=\"14.00\" text-anchor=\"middle\" x=\"174.5\" y=\"-14.8\">Year_input: InputLayer</text>\n",
       "</g>\n",
       "<!-- 140692261780336 -->\n",
       "<g class=\"node\" id=\"node48\">\n",
       "<title>140692261780336</title>\n",
       "<polygon fill=\"none\" points=\"468.5,-.5 468.5,-36.5 662.5,-36.5 662.5,-.5 468.5,-.5\" stroke=\"#000000\"/>\n",
       "<text fill=\"#000000\" font-family=\"Times,serif\" font-size=\"14.00\" text-anchor=\"middle\" x=\"565.5\" y=\"-14.8\">Year_embed: Embedding</text>\n",
       "</g>\n",
       "<!-- 140692261779048&#45;&gt;140692261780336 -->\n",
       "<g class=\"edge\" id=\"edge24\">\n",
       "<title>140692261779048-&gt;140692261780336</title>\n",
       "<path d=\"M265.6787,-18.5C323.1679,-18.5 397.678,-18.5 458.0367,-18.5\" fill=\"none\" stroke=\"#000000\"/>\n",
       "<polygon fill=\"#000000\" points=\"458.3641,-22.0001 468.3641,-18.5 458.3641,-15.0001 458.3641,-22.0001\" stroke=\"#000000\"/>\n",
       "</g>\n",
       "<!-- 140692289087752 -->\n",
       "<g class=\"node\" id=\"node49\">\n",
       "<title>140692289087752</title>\n",
       "<polygon fill=\"none\" points=\"804,-632.5 804,-668.5 1065,-668.5 1065,-632.5 804,-632.5\" stroke=\"#000000\"/>\n",
       "<text fill=\"#000000\" font-family=\"Times,serif\" font-size=\"14.00\" text-anchor=\"middle\" x=\"934.5\" y=\"-646.8\">Embs_concatenated: Concatenate</text>\n",
       "</g>\n",
       "<!-- 140692289088816&#45;&gt;140692289087752 -->\n",
       "<g class=\"edge\" id=\"edge25\">\n",
       "<title>140692289088816-&gt;140692289087752</title>\n",
       "<path d=\"M688.5632,-1283.7872C709.5417,-1278.8804 729.7645,-1270.4226 746,-1256.5 837.9721,-1177.6302 911.039,-787.0251 929.8048,-678.5093\" fill=\"none\" stroke=\"#000000\"/>\n",
       "<polygon fill=\"#000000\" points=\"933.2586,-679.0764 931.4975,-668.629 926.3591,-677.8943 933.2586,-679.0764\" stroke=\"#000000\"/>\n",
       "</g>\n",
       "<!-- 140692265873192&#45;&gt;140692289087752 -->\n",
       "<g class=\"edge\" id=\"edge26\">\n",
       "<title>140692265873192-&gt;140692289087752</title>\n",
       "<path d=\"M733.7046,-1210.3617C737.993,-1207.6915 742.1057,-1204.7459 746,-1201.5 830.6663,-1130.9319 907.8478,-780.882 928.8785,-678.6058\" fill=\"none\" stroke=\"#000000\"/>\n",
       "<polygon fill=\"#000000\" points=\"932.3294,-679.1994 930.8981,-668.7017 925.4705,-677.8006 932.3294,-679.1994\" stroke=\"#000000\"/>\n",
       "</g>\n",
       "<!-- 140692265451136&#45;&gt;140692289087752 -->\n",
       "<g class=\"edge\" id=\"edge27\">\n",
       "<title>140692265451136-&gt;140692289087752</title>\n",
       "<path d=\"M733.1561,-1155.433C737.6318,-1152.7483 741.9284,-1149.7795 746,-1146.5 898.0487,-1024.034 927.5363,-764.3951 933.1827,-678.6419\" fill=\"none\" stroke=\"#000000\"/>\n",
       "<polygon fill=\"#000000\" points=\"936.6789,-678.8092 933.7841,-668.6175 929.6914,-678.3899 936.6789,-678.8092\" stroke=\"#000000\"/>\n",
       "</g>\n",
       "<!-- 140692265610768&#45;&gt;140692289087752 -->\n",
       "<g class=\"edge\" id=\"edge28\">\n",
       "<title>140692265610768-&gt;140692289087752</title>\n",
       "<path d=\"M661.1442,-1121.7808C690.8524,-1118.4509 722.052,-1109.997 746,-1091.5 883.5148,-985.2859 922.0925,-759.1894 931.6552,-679.2407\" fill=\"none\" stroke=\"#000000\"/>\n",
       "<polygon fill=\"#000000\" points=\"935.1722,-679.2875 932.8193,-668.9573 928.2166,-678.5001 935.1722,-679.2875\" stroke=\"#000000\"/>\n",
       "</g>\n",
       "<!-- 140692264890040&#45;&gt;140692289087752 -->\n",
       "<g class=\"edge\" id=\"edge29\">\n",
       "<title>140692264890040-&gt;140692289087752</title>\n",
       "<path d=\"M689.2591,-1061.1704C709.5762,-1056.4085 729.3886,-1048.6753 746,-1036.5 869.5816,-945.9206 916.2127,-752.1122 929.8093,-679.1091\" fill=\"none\" stroke=\"#000000\"/>\n",
       "<polygon fill=\"#000000\" points=\"933.3286,-679.3124 931.648,-668.8517 926.4384,-678.0773 933.3286,-679.3124\" stroke=\"#000000\"/>\n",
       "</g>\n",
       "<!-- 140692264996592&#45;&gt;140692289087752 -->\n",
       "<g class=\"edge\" id=\"edge30\">\n",
       "<title>140692264996592-&gt;140692289087752</title>\n",
       "<path d=\"M671.6609,-1008.5423C697.706,-1004.4316 724.3064,-996.3668 746,-981.5 856.064,-906.0719 909.727,-743.9287 927.524,-678.6152\" fill=\"none\" stroke=\"#000000\"/>\n",
       "<polygon fill=\"#000000\" points=\"930.9892,-679.2019 930.1664,-668.6391 924.2225,-677.4096 930.9892,-679.2019\" stroke=\"#000000\"/>\n",
       "</g>\n",
       "<!-- 140692264606632&#45;&gt;140692289087752 -->\n",
       "<g class=\"edge\" id=\"edge31\">\n",
       "<title>140692264606632-&gt;140692289087752</title>\n",
       "<path d=\"M670.3848,-952.3878C696.5884,-948.3133 723.5844,-940.5546 746,-926.5 842.6958,-865.8716 902.0796,-735.4795 924.4054,-678.3158\" fill=\"none\" stroke=\"#000000\"/>\n",
       "<polygon fill=\"#000000\" points=\"927.7254,-679.4327 928.0261,-668.8421 921.1866,-676.9336 927.7254,-679.4327\" stroke=\"#000000\"/>\n",
       "</g>\n",
       "<!-- 140692264751056&#45;&gt;140692289087752 -->\n",
       "<g class=\"edge\" id=\"edge32\">\n",
       "<title>140692264751056-&gt;140692289087752</title>\n",
       "<path d=\"M670.3471,-895.5806C696.2709,-891.4944 723.142,-884.1822 746,-871.5 829.9211,-824.9384 893.2426,-725.4684 920.2128,-677.4877\" fill=\"none\" stroke=\"#000000\"/>\n",
       "<polygon fill=\"#000000\" points=\"923.3457,-679.0546 925.1175,-668.609 917.2184,-675.6698 923.3457,-679.0546\" stroke=\"#000000\"/>\n",
       "</g>\n",
       "<!-- 140692264365752&#45;&gt;140692289087752 -->\n",
       "<g class=\"edge\" id=\"edge33\">\n",
       "<title>140692264365752-&gt;140692289087752</title>\n",
       "<path d=\"M710.5554,-829.4201C722.8145,-825.9597 734.7948,-821.7103 746,-816.5 817.3157,-783.339 881.7075,-714.5078 913.5332,-676.7277\" fill=\"none\" stroke=\"#000000\"/>\n",
       "<polygon fill=\"#000000\" points=\"916.4889,-678.6469 920.1843,-668.7174 911.1034,-674.1752 916.4889,-678.6469\" stroke=\"#000000\"/>\n",
       "</g>\n",
       "<!-- 140692264168696&#45;&gt;140692289087752 -->\n",
       "<g class=\"edge\" id=\"edge34\">\n",
       "<title>140692264168696-&gt;140692289087752</title>\n",
       "<path d=\"M698.0592,-774.6647C714.4402,-771.2106 730.7673,-766.8941 746,-761.5 805.1598,-740.5506 866.4886,-700.3949 902.5348,-674.5583\" fill=\"none\" stroke=\"#000000\"/>\n",
       "<polygon fill=\"#000000\" points=\"904.6601,-677.3406 910.7025,-668.6378 900.5517,-671.6729 904.6601,-677.3406\" stroke=\"#000000\"/>\n",
       "</g>\n",
       "<!-- 140692264275752&#45;&gt;140692289087752 -->\n",
       "<g class=\"edge\" id=\"edge35\">\n",
       "<title>140692264275752-&gt;140692289087752</title>\n",
       "<path d=\"M698.9643,-715.694C714.8766,-712.935 730.8437,-709.8675 746,-706.5 788.1907,-697.126 834.751,-683.3284 871.0414,-671.7747\" fill=\"none\" stroke=\"#000000\"/>\n",
       "<polygon fill=\"#000000\" points=\"872.5405,-674.9695 880.9926,-668.581 870.4014,-668.3043 872.5405,-674.9695\" stroke=\"#000000\"/>\n",
       "</g>\n",
       "<!-- 140692263865928&#45;&gt;140692289087752 -->\n",
       "<g class=\"edge\" id=\"edge36\">\n",
       "<title>140692263865928-&gt;140692289087752</title>\n",
       "<path d=\"M684.5395,-669.4672C719.3864,-666.823 757.8127,-663.9072 793.8666,-661.1714\" fill=\"none\" stroke=\"#000000\"/>\n",
       "<polygon fill=\"#000000\" points=\"794.2613,-664.6516 803.9678,-660.4049 793.7316,-657.6716 794.2613,-664.6516\" stroke=\"#000000\"/>\n",
       "</g>\n",
       "<!-- 140692264025560&#45;&gt;140692289087752 -->\n",
       "<g class=\"edge\" id=\"edge37\">\n",
       "<title>140692264025560-&gt;140692289087752</title>\n",
       "<path d=\"M682.5073,-632.0615C717.8168,-634.6451 756.9515,-637.5086 793.6432,-640.1934\" fill=\"none\" stroke=\"#000000\"/>\n",
       "<polygon fill=\"#000000\" points=\"793.6934,-643.7063 803.9222,-640.9455 794.2043,-636.725 793.6934,-643.7063\" stroke=\"#000000\"/>\n",
       "</g>\n",
       "<!-- 140692263292544&#45;&gt;140692289087752 -->\n",
       "<g class=\"edge\" id=\"edge38\">\n",
       "<title>140692263292544-&gt;140692289087752</title>\n",
       "<path d=\"M698.6908,-581.5304C714.9659,-585.3331 731.0956,-590.2213 746,-596.5 764.4313,-604.2644 763.6525,-615.5394 782,-623.5 786.7347,-625.5543 791.6167,-627.4523 796.5974,-629.2059\" fill=\"none\" stroke=\"#000000\"/>\n",
       "<polygon fill=\"#000000\" points=\"795.6913,-632.5925 806.2844,-632.4034 797.8855,-625.9453 795.6913,-632.5925\" stroke=\"#000000\"/>\n",
       "</g>\n",
       "<!-- 140692263403192&#45;&gt;140692289087752 -->\n",
       "<g class=\"edge\" id=\"edge39\">\n",
       "<title>140692263403192-&gt;140692289087752</title>\n",
       "<path d=\"M713.1282,-523.3231C724.9072,-527.9189 736.0701,-533.8646 746,-541.5 777.5527,-565.7616 750.7079,-598.9032 782,-623.5 785.9536,-626.6077 790.1435,-629.4054 794.5141,-631.9219\" fill=\"none\" stroke=\"#000000\"/>\n",
       "<polygon fill=\"#000000\" points=\"793.2332,-635.2004 803.7212,-636.7014 796.4583,-628.9876 793.2332,-635.2004\" stroke=\"#000000\"/>\n",
       "</g>\n",
       "<!-- 140692263001168&#45;&gt;140692289087752 -->\n",
       "<g class=\"edge\" id=\"edge40\">\n",
       "<title>140692263001168-&gt;140692289087752</title>\n",
       "<path d=\"M711.4033,-465.4285C724.0572,-470.5128 735.874,-477.3674 746,-486.5 792.7506,-528.6644 735.7019,-580.8392 782,-623.5 785.9763,-627.1639 790.2688,-630.4187 794.8035,-633.3062\" fill=\"none\" stroke=\"#000000\"/>\n",
       "<polygon fill=\"#000000\" points=\"793.3788,-636.5222 803.8028,-638.4172 796.8358,-630.4353 793.3788,-636.5222\" stroke=\"#000000\"/>\n",
       "</g>\n",
       "<!-- 140692263153504&#45;&gt;140692289087752 -->\n",
       "<g class=\"edge\" id=\"edge41\">\n",
       "<title>140692263153504-&gt;140692289087752</title>\n",
       "<path d=\"M666.0852,-398.1379C695.2085,-401.6695 724.8208,-410.9766 746,-431.5 808.349,-491.9184 720.299,-562.42 782,-623.5 786.0008,-627.4605 790.3672,-630.9538 795.0128,-634.0298\" fill=\"none\" stroke=\"#000000\"/>\n",
       "<polygon fill=\"#000000\" points=\"793.2656,-637.0627 803.6575,-639.1267 796.8209,-631.0327 793.2656,-637.0627\" stroke=\"#000000\"/>\n",
       "</g>\n",
       "<!-- 140692262776504&#45;&gt;140692289087752 -->\n",
       "<g class=\"edge\" id=\"edge42\">\n",
       "<title>140692262776504-&gt;140692289087752</title>\n",
       "<path d=\"M694.1499,-347.9224C713.5787,-353.2653 731.8265,-362.196 746,-376.5 824.0843,-455.3035 704.7607,-543.868 782,-623.5 785.978,-627.6013 790.3464,-631.2077 795.0129,-634.3732\" fill=\"none\" stroke=\"#000000\"/>\n",
       "<polygon fill=\"#000000\" points=\"793.3413,-637.452 803.7148,-639.6065 796.949,-631.4532 793.3413,-637.452\" stroke=\"#000000\"/>\n",
       "</g>\n",
       "<!-- 140692262579448&#45;&gt;140692289087752 -->\n",
       "<g class=\"edge\" id=\"edge43\">\n",
       "<title>140692262579448-&gt;140692289087752</title>\n",
       "<path d=\"M708.4052,-297.2273C722.475,-302.7197 735.4281,-310.5487 746,-321.5 839.8819,-418.7512 689.1609,-525.2529 782,-623.5 785.9819,-627.7139 790.3749,-631.4094 795.0816,-634.6441\" fill=\"none\" stroke=\"#000000\"/>\n",
       "<polygon fill=\"#000000\" points=\"793.507,-637.7826 803.8712,-639.9811 797.1401,-631.7993 793.507,-637.7826\" stroke=\"#000000\"/>\n",
       "</g>\n",
       "<!-- 140692262697392&#45;&gt;140692289087752 -->\n",
       "<g class=\"edge\" id=\"edge44\">\n",
       "<title>140692262697392-&gt;140692289087752</title>\n",
       "<path d=\"M706.4009,-241.1938C721.2878,-246.7515 734.9825,-254.8779 746,-266.5 800.8564,-324.3667 727.764,-565.0514 782,-623.5 785.9435,-627.7498 790.3046,-631.4753 794.985,-634.7345\" fill=\"none\" stroke=\"#000000\"/>\n",
       "<polygon fill=\"#000000\" points=\"793.3808,-637.8568 803.7332,-640.1103 797.0457,-631.8928 793.3808,-637.8568\" stroke=\"#000000\"/>\n",
       "</g>\n",
       "<!-- 140692262280720&#45;&gt;140692289087752 -->\n",
       "<g class=\"edge\" id=\"edge45\">\n",
       "<title>140692262280720-&gt;140692289087752</title>\n",
       "<path d=\"M666.8706,-176.8484C696.2079,-180.2747 725.7452,-189.8462 746,-211.5 808.7818,-278.6183 719.9377,-555.7158 782,-623.5 785.9718,-627.838 790.3783,-631.6318 795.1163,-634.9427\" fill=\"none\" stroke=\"#000000\"/>\n",
       "<polygon fill=\"#000000\" points=\"793.6286,-638.1367 803.9802,-640.394 797.2957,-632.1741 793.6286,-638.1367\" stroke=\"#000000\"/>\n",
       "</g>\n",
       "<!-- 140692262428400&#45;&gt;140692289087752 -->\n",
       "<g class=\"edge\" id=\"edge46\">\n",
       "<title>140692262428400-&gt;140692289087752</title>\n",
       "<path d=\"M684.3682,-124.5257C707.6589,-129.4183 729.8418,-139.0478 746,-156.5 816.7137,-232.8767 712.1051,-546.3733 782,-623.5 785.9496,-627.8582 790.3377,-631.6688 795.0605,-634.9935\" fill=\"none\" stroke=\"#000000\"/>\n",
       "<polygon fill=\"#000000\" points=\"793.5559,-638.1784 803.9007,-640.4665 797.2406,-632.2267 793.5559,-638.1784\" stroke=\"#000000\"/>\n",
       "</g>\n",
       "<!-- 140692261697296&#45;&gt;140692289087752 -->\n",
       "<g class=\"edge\" id=\"edge47\">\n",
       "<title>140692261697296-&gt;140692289087752</title>\n",
       "<path d=\"M666.6403,-66.5712C696.1449,-69.938 725.837,-79.545 746,-101.5 824.6499,-187.1399 704.2681,-537.026 782,-623.5 785.932,-627.8742 790.3054,-631.6979 795.0163,-635.0334\" fill=\"none\" stroke=\"#000000\"/>\n",
       "<polygon fill=\"#000000\" points=\"793.4982,-638.2111 803.8376,-640.5234 797.1969,-632.268 793.4982,-638.2111\" stroke=\"#000000\"/>\n",
       "</g>\n",
       "<!-- 140692261780336&#45;&gt;140692289087752 -->\n",
       "<g class=\"edge\" id=\"edge48\">\n",
       "<title>140692261780336-&gt;140692289087752</title>\n",
       "<path d=\"M662.9612,-11.0963C693.6933,-14.058 725.054,-23.5421 746,-46.5 832.5893,-141.4064 696.428,-527.6753 782,-623.5 785.9176,-627.887 790.2792,-631.7214 794.9803,-635.0657\" fill=\"none\" stroke=\"#000000\"/>\n",
       "<polygon fill=\"#000000\" points=\"793.4513,-638.2374 803.7863,-640.5694 797.1613,-632.3014 793.4513,-638.2374\" stroke=\"#000000\"/>\n",
       "</g>\n",
       "<!-- 140692289087472 -->\n",
       "<g class=\"node\" id=\"node51\">\n",
       "<title>140692289087472</title>\n",
       "<polygon fill=\"none\" points=\"1166,-632.5 1166,-668.5 1354,-668.5 1354,-632.5 1166,-632.5\" stroke=\"#000000\"/>\n",
       "<text fill=\"#000000\" font-family=\"Times,serif\" font-size=\"14.00\" text-anchor=\"middle\" x=\"1260\" y=\"-646.8\">embs_flattened: Flatten</text>\n",
       "</g>\n",
       "<!-- 140692289087752&#45;&gt;140692289087472 -->\n",
       "<g class=\"edge\" id=\"edge49\">\n",
       "<title>140692289087752-&gt;140692289087472</title>\n",
       "<path d=\"M1065.0178,-650.5C1095.0785,-650.5 1126.6675,-650.5 1155.4576,-650.5\" fill=\"none\" stroke=\"#000000\"/>\n",
       "<polygon fill=\"#000000\" points=\"1155.5172,-654.0001 1165.5172,-650.5 1155.5172,-647.0001 1155.5172,-654.0001\" stroke=\"#000000\"/>\n",
       "</g>\n",
       "<!-- 140692289086408 -->\n",
       "<g class=\"node\" id=\"node50\">\n",
       "<title>140692289086408</title>\n",
       "<polygon fill=\"none\" points=\"782,-577.5 782,-613.5 1087,-613.5 1087,-577.5 782,-577.5\" stroke=\"#000000\"/>\n",
       "<text fill=\"#000000\" font-family=\"Times,serif\" font-size=\"14.00\" text-anchor=\"middle\" x=\"934.5\" y=\"-591.8\">Continuous_variables_input: InputLayer</text>\n",
       "</g>\n",
       "<!-- 140692289086464 -->\n",
       "<g class=\"node\" id=\"node52\">\n",
       "<title>140692289086464</title>\n",
       "<polygon fill=\"none\" points=\"1123,-577.5 1123,-613.5 1397,-613.5 1397,-577.5 1123,-577.5\" stroke=\"#000000\"/>\n",
       "<text fill=\"#000000\" font-family=\"Times,serif\" font-size=\"14.00\" text-anchor=\"middle\" x=\"1260\" y=\"-591.8\">Continuous_variables_dense: Dense</text>\n",
       "</g>\n",
       "<!-- 140692289086408&#45;&gt;140692289086464 -->\n",
       "<g class=\"edge\" id=\"edge50\">\n",
       "<title>140692289086408-&gt;140692289086464</title>\n",
       "<path d=\"M1087.2427,-595.5C1095.6976,-595.5 1104.1887,-595.5 1112.6242,-595.5\" fill=\"none\" stroke=\"#000000\"/>\n",
       "<polygon fill=\"#000000\" points=\"1112.88,-599.0001 1122.88,-595.5 1112.88,-592.0001 1112.88,-599.0001\" stroke=\"#000000\"/>\n",
       "</g>\n",
       "<!-- 140692289087696 -->\n",
       "<g class=\"node\" id=\"node53\">\n",
       "<title>140692289087696</title>\n",
       "<polygon fill=\"none\" points=\"1433,-604.5 1433,-640.5 1691,-640.5 1691,-604.5 1433,-604.5\" stroke=\"#000000\"/>\n",
       "<text fill=\"#000000\" font-family=\"Times,serif\" font-size=\"14.00\" text-anchor=\"middle\" x=\"1562\" y=\"-618.8\">embs_contin_joined: Concatenate</text>\n",
       "</g>\n",
       "<!-- 140692289087472&#45;&gt;140692289087696 -->\n",
       "<g class=\"edge\" id=\"edge51\">\n",
       "<title>140692289087472-&gt;140692289087696</title>\n",
       "<path d=\"M1354.3124,-641.7558C1376.0215,-639.743 1399.5593,-637.5607 1422.7267,-635.4128\" fill=\"none\" stroke=\"#000000\"/>\n",
       "<polygon fill=\"#000000\" points=\"1423.3462,-638.8704 1432.9804,-634.4621 1422.6999,-631.9003 1423.3462,-638.8704\" stroke=\"#000000\"/>\n",
       "</g>\n",
       "<!-- 140692289086464&#45;&gt;140692289087696 -->\n",
       "<g class=\"edge\" id=\"edge52\">\n",
       "<title>140692289086464-&gt;140692289087696</title>\n",
       "<path d=\"M1397.3029,-607.7754C1405.8143,-608.5364 1414.3843,-609.3026 1422.9034,-610.0642\" fill=\"none\" stroke=\"#000000\"/>\n",
       "<polygon fill=\"#000000\" points=\"1422.6023,-613.5512 1432.8742,-610.9556 1423.2257,-606.579 1422.6023,-613.5512\" stroke=\"#000000\"/>\n",
       "</g>\n",
       "<!-- 140692261920440 -->\n",
       "<g class=\"node\" id=\"node54\">\n",
       "<title>140692261920440</title>\n",
       "<polygon fill=\"none\" points=\"1727,-604.5 1727,-640.5 1996,-640.5 1996,-604.5 1727,-604.5\" stroke=\"#000000\"/>\n",
       "<text fill=\"#000000\" font-family=\"Times,serif\" font-size=\"14.00\" text-anchor=\"middle\" x=\"1861.5\" y=\"-618.8\">BatchNorm_1: BatchNormalization</text>\n",
       "</g>\n",
       "<!-- 140692289087696&#45;&gt;140692261920440 -->\n",
       "<g class=\"edge\" id=\"edge53\">\n",
       "<title>140692289087696-&gt;140692261920440</title>\n",
       "<path d=\"M1691.188,-622.5C1699.5171,-622.5 1707.9327,-622.5 1716.3291,-622.5\" fill=\"none\" stroke=\"#000000\"/>\n",
       "<polygon fill=\"#000000\" points=\"1716.5542,-626.0001 1726.5541,-622.5 1716.5541,-619.0001 1716.5542,-626.0001\" stroke=\"#000000\"/>\n",
       "</g>\n",
       "<!-- 140692261919376 -->\n",
       "<g class=\"node\" id=\"node55\">\n",
       "<title>140692261919376</title>\n",
       "<polygon fill=\"none\" points=\"2032,-604.5 2032,-640.5 2191,-640.5 2191,-604.5 2032,-604.5\" stroke=\"#000000\"/>\n",
       "<text fill=\"#000000\" font-family=\"Times,serif\" font-size=\"14.00\" text-anchor=\"middle\" x=\"2111.5\" y=\"-618.8\">Dropout_1: Dropout</text>\n",
       "</g>\n",
       "<!-- 140692261920440&#45;&gt;140692261919376 -->\n",
       "<g class=\"edge\" id=\"edge54\">\n",
       "<title>140692261920440-&gt;140692261919376</title>\n",
       "<path d=\"M1996.0133,-622.5C2004.7228,-622.5 2013.3703,-622.5 2021.7854,-622.5\" fill=\"none\" stroke=\"#000000\"/>\n",
       "<polygon fill=\"#000000\" points=\"2021.9234,-626.0001 2031.9233,-622.5 2021.9233,-619.0001 2021.9234,-626.0001\" stroke=\"#000000\"/>\n",
       "</g>\n",
       "<!-- 140692261919824 -->\n",
       "<g class=\"node\" id=\"node56\">\n",
       "<title>140692261919824</title>\n",
       "<polygon fill=\"none\" points=\"2227,-604.5 2227,-640.5 2367,-640.5 2367,-604.5 2227,-604.5\" stroke=\"#000000\"/>\n",
       "<text fill=\"#000000\" font-family=\"Times,serif\" font-size=\"14.00\" text-anchor=\"middle\" x=\"2297\" y=\"-618.8\">Dense_11: Dense</text>\n",
       "</g>\n",
       "<!-- 140692261919376&#45;&gt;140692261919824 -->\n",
       "<g class=\"edge\" id=\"edge55\">\n",
       "<title>140692261919376-&gt;140692261919824</title>\n",
       "<path d=\"M2191.2452,-622.5C2199.6925,-622.5 2208.2865,-622.5 2216.7396,-622.5\" fill=\"none\" stroke=\"#000000\"/>\n",
       "<polygon fill=\"#000000\" points=\"2216.9613,-626.0001 2226.9613,-622.5 2216.9613,-619.0001 2216.9613,-626.0001\" stroke=\"#000000\"/>\n",
       "</g>\n",
       "<!-- 140692261416128 -->\n",
       "<g class=\"node\" id=\"node57\">\n",
       "<title>140692261416128</title>\n",
       "<polygon fill=\"none\" points=\"2403,-604.5 2403,-640.5 2543,-640.5 2543,-604.5 2403,-604.5\" stroke=\"#000000\"/>\n",
       "<text fill=\"#000000\" font-family=\"Times,serif\" font-size=\"14.00\" text-anchor=\"middle\" x=\"2473\" y=\"-618.8\">Dense_12: Dense</text>\n",
       "</g>\n",
       "<!-- 140692261919824&#45;&gt;140692261416128 -->\n",
       "<g class=\"edge\" id=\"edge56\">\n",
       "<title>140692261919824-&gt;140692261416128</title>\n",
       "<path d=\"M2367.0656,-622.5C2375.5403,-622.5 2384.2467,-622.5 2392.8522,-622.5\" fill=\"none\" stroke=\"#000000\"/>\n",
       "<polygon fill=\"#000000\" points=\"2392.888,-626.0001 2402.888,-622.5 2392.8879,-619.0001 2392.888,-626.0001\" stroke=\"#000000\"/>\n",
       "</g>\n",
       "<!-- 140692260699328 -->\n",
       "<g class=\"node\" id=\"node58\">\n",
       "<title>140692260699328</title>\n",
       "<polygon fill=\"none\" points=\"2579,-604.5 2579,-640.5 2848,-640.5 2848,-604.5 2579,-604.5\" stroke=\"#000000\"/>\n",
       "<text fill=\"#000000\" font-family=\"Times,serif\" font-size=\"14.00\" text-anchor=\"middle\" x=\"2713.5\" y=\"-618.8\">BatchNorm_2: BatchNormalization</text>\n",
       "</g>\n",
       "<!-- 140692261416128&#45;&gt;140692260699328 -->\n",
       "<g class=\"edge\" id=\"edge57\">\n",
       "<title>140692261416128-&gt;140692260699328</title>\n",
       "<path d=\"M2543.2091,-622.5C2551.4694,-622.5 2560.1131,-622.5 2568.9391,-622.5\" fill=\"none\" stroke=\"#000000\"/>\n",
       "<polygon fill=\"#000000\" points=\"2568.9708,-626.0001 2578.9708,-622.5 2568.9708,-619.0001 2568.9708,-626.0001\" stroke=\"#000000\"/>\n",
       "</g>\n",
       "<!-- 140692260525896 -->\n",
       "<g class=\"node\" id=\"node59\">\n",
       "<title>140692260525896</title>\n",
       "<polygon fill=\"none\" points=\"2884,-604.5 2884,-640.5 3043,-640.5 3043,-604.5 2884,-604.5\" stroke=\"#000000\"/>\n",
       "<text fill=\"#000000\" font-family=\"Times,serif\" font-size=\"14.00\" text-anchor=\"middle\" x=\"2963.5\" y=\"-618.8\">Dropout_2: Dropout</text>\n",
       "</g>\n",
       "<!-- 140692260699328&#45;&gt;140692260525896 -->\n",
       "<g class=\"edge\" id=\"edge58\">\n",
       "<title>140692260699328-&gt;140692260525896</title>\n",
       "<path d=\"M2848.0133,-622.5C2856.7228,-622.5 2865.3703,-622.5 2873.7854,-622.5\" fill=\"none\" stroke=\"#000000\"/>\n",
       "<polygon fill=\"#000000\" points=\"2873.9234,-626.0001 2883.9233,-622.5 2873.9233,-619.0001 2873.9234,-626.0001\" stroke=\"#000000\"/>\n",
       "</g>\n",
       "<!-- 140692261076216 -->\n",
       "<g class=\"node\" id=\"node60\">\n",
       "<title>140692261076216</title>\n",
       "<polygon fill=\"none\" points=\"3079,-604.5 3079,-640.5 3219,-640.5 3219,-604.5 3079,-604.5\" stroke=\"#000000\"/>\n",
       "<text fill=\"#000000\" font-family=\"Times,serif\" font-size=\"14.00\" text-anchor=\"middle\" x=\"3149\" y=\"-618.8\">Dense_21: Dense</text>\n",
       "</g>\n",
       "<!-- 140692260525896&#45;&gt;140692261076216 -->\n",
       "<g class=\"edge\" id=\"edge59\">\n",
       "<title>140692260525896-&gt;140692261076216</title>\n",
       "<path d=\"M3043.2452,-622.5C3051.6925,-622.5 3060.2865,-622.5 3068.7396,-622.5\" fill=\"none\" stroke=\"#000000\"/>\n",
       "<polygon fill=\"#000000\" points=\"3068.9613,-626.0001 3078.9613,-622.5 3068.9613,-619.0001 3068.9613,-626.0001\" stroke=\"#000000\"/>\n",
       "</g>\n",
       "<!-- 140692259747992 -->\n",
       "<g class=\"node\" id=\"node61\">\n",
       "<title>140692259747992</title>\n",
       "<polygon fill=\"none\" points=\"3255,-604.5 3255,-640.5 3395,-640.5 3395,-604.5 3255,-604.5\" stroke=\"#000000\"/>\n",
       "<text fill=\"#000000\" font-family=\"Times,serif\" font-size=\"14.00\" text-anchor=\"middle\" x=\"3325\" y=\"-618.8\">Dense_22: Dense</text>\n",
       "</g>\n",
       "<!-- 140692261076216&#45;&gt;140692259747992 -->\n",
       "<g class=\"edge\" id=\"edge60\">\n",
       "<title>140692261076216-&gt;140692259747992</title>\n",
       "<path d=\"M3219.0656,-622.5C3227.5403,-622.5 3236.2467,-622.5 3244.8522,-622.5\" fill=\"none\" stroke=\"#000000\"/>\n",
       "<polygon fill=\"#000000\" points=\"3244.888,-626.0001 3254.888,-622.5 3244.8879,-619.0001 3244.888,-626.0001\" stroke=\"#000000\"/>\n",
       "</g>\n",
       "<!-- 140692259536232 -->\n",
       "<g class=\"node\" id=\"node62\">\n",
       "<title>140692259536232</title>\n",
       "<polygon fill=\"none\" points=\"3431,-604.5 3431,-640.5 3700,-640.5 3700,-604.5 3431,-604.5\" stroke=\"#000000\"/>\n",
       "<text fill=\"#000000\" font-family=\"Times,serif\" font-size=\"14.00\" text-anchor=\"middle\" x=\"3565.5\" y=\"-618.8\">BatchNorm_3: BatchNormalization</text>\n",
       "</g>\n",
       "<!-- 140692259747992&#45;&gt;140692259536232 -->\n",
       "<g class=\"edge\" id=\"edge61\">\n",
       "<title>140692259747992-&gt;140692259536232</title>\n",
       "<path d=\"M3395.2091,-622.5C3403.4694,-622.5 3412.1131,-622.5 3420.9391,-622.5\" fill=\"none\" stroke=\"#000000\"/>\n",
       "<polygon fill=\"#000000\" points=\"3420.9708,-626.0001 3430.9708,-622.5 3420.9708,-619.0001 3420.9708,-626.0001\" stroke=\"#000000\"/>\n",
       "</g>\n",
       "<!-- 140692258847768 -->\n",
       "<g class=\"node\" id=\"node63\">\n",
       "<title>140692258847768</title>\n",
       "<polygon fill=\"none\" points=\"3736,-604.5 3736,-640.5 3895,-640.5 3895,-604.5 3736,-604.5\" stroke=\"#000000\"/>\n",
       "<text fill=\"#000000\" font-family=\"Times,serif\" font-size=\"14.00\" text-anchor=\"middle\" x=\"3815.5\" y=\"-618.8\">Dropout_3: Dropout</text>\n",
       "</g>\n",
       "<!-- 140692259536232&#45;&gt;140692258847768 -->\n",
       "<g class=\"edge\" id=\"edge62\">\n",
       "<title>140692259536232-&gt;140692258847768</title>\n",
       "<path d=\"M3700.0133,-622.5C3708.7228,-622.5 3717.3703,-622.5 3725.7854,-622.5\" fill=\"none\" stroke=\"#000000\"/>\n",
       "<polygon fill=\"#000000\" points=\"3725.9234,-626.0001 3735.9233,-622.5 3725.9233,-619.0001 3725.9234,-626.0001\" stroke=\"#000000\"/>\n",
       "</g>\n",
       "<!-- 140692259413408 -->\n",
       "<g class=\"node\" id=\"node64\">\n",
       "<title>140692259413408</title>\n",
       "<polygon fill=\"none\" points=\"3931,-604.5 3931,-640.5 4052,-640.5 4052,-604.5 3931,-604.5\" stroke=\"#000000\"/>\n",
       "<text fill=\"#000000\" font-family=\"Times,serif\" font-size=\"14.00\" text-anchor=\"middle\" x=\"3991.5\" y=\"-618.8\">Output: Dense</text>\n",
       "</g>\n",
       "<!-- 140692258847768&#45;&gt;140692259413408 -->\n",
       "<g class=\"edge\" id=\"edge63\">\n",
       "<title>140692258847768-&gt;140692259413408</title>\n",
       "<path d=\"M3895.004,-622.5C3903.5528,-622.5 3912.2096,-622.5 3920.6475,-622.5\" fill=\"none\" stroke=\"#000000\"/>\n",
       "<polygon fill=\"#000000\" points=\"3920.8095,-626.0001 3930.8095,-622.5 3920.8095,-619.0001 3920.8095,-626.0001\" stroke=\"#000000\"/>\n",
       "</g>\n",
       "</g>\n",
       "</svg>"
      ],
      "text/plain": [
       "<IPython.core.display.SVG object>"
      ]
     },
     "execution_count": 17,
     "metadata": {},
     "output_type": "execute_result"
    }
   ],
   "source": [
    "from misc_utils import visualize_model\n",
    "\n",
    "visualize_model(big_model)"
   ]
  },
  {
   "cell_type": "markdown",
   "metadata": {
    "heading_collapsed": true
   },
   "source": [
    "### Training Model"
   ]
  },
  {
   "cell_type": "code",
   "execution_count": 17,
   "metadata": {
    "ExecuteTime": {
     "end_time": "2019-01-08T22:19:06.762803Z",
     "start_time": "2019-01-08T22:00:46.166323Z"
    },
    "hidden": true,
    "scrolled": false
   },
   "outputs": [
    {
     "name": "stdout",
     "output_type": "stream",
     "text": [
      "Not loading model Weights from previous model\n"
     ]
    },
    {
     "data": {
      "application/vnd.jupyter.widget-view+json": {
       "model_id": "0deab0020d324b159a9fab2694dd9b20",
       "version_major": 2,
       "version_minor": 0
      },
      "text/plain": [
       "HBox(children=(IntProgress(value=0, description='Training', max=8, style=ProgressStyle(description_width='init…"
      ]
     },
     "metadata": {},
     "output_type": "display_data"
    },
    {
     "data": {
      "application/vnd.jupyter.widget-view+json": {
       "model_id": "9c67c62ea21e4c618430896543e6afc8",
       "version_major": 2,
       "version_minor": 0
      },
      "text/plain": [
       "HBox(children=(IntProgress(value=0, description='Epoch 0', max=759904, style=ProgressStyle(description_width='…"
      ]
     },
     "metadata": {},
     "output_type": "display_data"
    },
    {
     "data": {
      "application/vnd.jupyter.widget-view+json": {
       "model_id": "d417feec922747ee97a69a0cd2ff3743",
       "version_major": 2,
       "version_minor": 0
      },
      "text/plain": [
       "HBox(children=(IntProgress(value=0, description='Epoch 1', max=759904, style=ProgressStyle(description_width='…"
      ]
     },
     "metadata": {},
     "output_type": "display_data"
    },
    {
     "data": {
      "application/vnd.jupyter.widget-view+json": {
       "model_id": "df9dfbefdbc54abda4841e4f94d2184c",
       "version_major": 2,
       "version_minor": 0
      },
      "text/plain": [
       "HBox(children=(IntProgress(value=0, description='Epoch 2', max=759904, style=ProgressStyle(description_width='…"
      ]
     },
     "metadata": {},
     "output_type": "display_data"
    },
    {
     "data": {
      "application/vnd.jupyter.widget-view+json": {
       "model_id": "0ba272e254c54101bec041619441a7c3",
       "version_major": 2,
       "version_minor": 0
      },
      "text/plain": [
       "HBox(children=(IntProgress(value=0, description='Epoch 3', max=759904, style=ProgressStyle(description_width='…"
      ]
     },
     "metadata": {},
     "output_type": "display_data"
    },
    {
     "data": {
      "application/vnd.jupyter.widget-view+json": {
       "model_id": "62f68ece7035420aaf26cc51b37b3bf8",
       "version_major": 2,
       "version_minor": 0
      },
      "text/plain": [
       "HBox(children=(IntProgress(value=0, description='Epoch 4', max=759904, style=ProgressStyle(description_width='…"
      ]
     },
     "metadata": {},
     "output_type": "display_data"
    },
    {
     "data": {
      "application/vnd.jupyter.widget-view+json": {
       "model_id": "dcb5cff43606465ba7d9150ce5d2dd47",
       "version_major": 2,
       "version_minor": 0
      },
      "text/plain": [
       "HBox(children=(IntProgress(value=0, description='Epoch 5', max=759904, style=ProgressStyle(description_width='…"
      ]
     },
     "metadata": {},
     "output_type": "display_data"
    },
    {
     "data": {
      "application/vnd.jupyter.widget-view+json": {
       "model_id": "5340c36e8081404081895839818d70a6",
       "version_major": 2,
       "version_minor": 0
      },
      "text/plain": [
       "HBox(children=(IntProgress(value=0, description='Epoch 6', max=759904, style=ProgressStyle(description_width='…"
      ]
     },
     "metadata": {},
     "output_type": "display_data"
    },
    {
     "data": {
      "application/vnd.jupyter.widget-view+json": {
       "model_id": "c069b70a1e3d476e90f2cc4fc52eda2f",
       "version_major": 2,
       "version_minor": 0
      },
      "text/plain": [
       "HBox(children=(IntProgress(value=0, description='Epoch 7', max=759904, style=ProgressStyle(description_width='…"
      ]
     },
     "metadata": {},
     "output_type": "display_data"
    },
    {
     "name": "stdout",
     "output_type": "stream",
     "text": [
      "\n",
      "Reloading Best Checkpointed weights\n",
      "Model Training Loss (Without Dropout)= 0.07359897677760019\n",
      "Model Validation Loss= 0.08988872883898268\n"
     ]
    },
    {
     "data": {
      "image/png": "[encoded data removed]",
      "text/plain": [
       "<Figure size 1440x576 with 1 Axes>"
      ]
     },
     "metadata": {
      "needs_background": "light"
     },
     "output_type": "display_data"
    }
   ],
   "source": [
    "from misc_utils import model_fitter\n",
    "hist,model=model_fitter(big_model,map_train,y_train,\\\n",
    "                        validation_data=(map_valid,y_valid),checkpoint_path=f\"{weights_save_path}saved_model_big_v2\",max_epochs=8)"
   ]
  },
  {
   "cell_type": "code",
   "execution_count": null,
   "metadata": {
    "hidden": true
   },
   "outputs": [],
   "source": [
    "#save the model and its w\n",
    "import h5py\n",
    "try:\n",
    "    model.save(f\"{weights_save_path}saved_rossmann_bigmodel_and_weights.h5\")  # creates a HDF5 file\n",
    "except Exception as ex:\n",
    "    print(\"Could not save the model and its weights\")\n",
    "    template = \"An exception of type {0} occurred. Arguments:\\n{1!r}\"\n",
    "    message = template.format(type(ex).__name__, ex.args)\n",
    "    print(message)"
   ]
  },
  {
   "cell_type": "code",
   "execution_count": 27,
   "metadata": {
    "hidden": true
   },
   "outputs": [],
   "source": [
    "model.save(f\"{weights_save_path}saved_rossmann_bigmodel_and_weights.h5\")  # creates a HDF5 file"
   ]
  },
  {
   "cell_type": "markdown",
   "metadata": {
    "heading_collapsed": true
   },
   "source": [
    "## Load the saved model\n",
    "Useful for skipping training"
   ]
  },
  {
   "cell_type": "markdown",
   "metadata": {
    "hidden": true
   },
   "source": [
    "### DOES NOT WORK yet, because save_model does not know how to save the custom loss function rmspe_loss\n",
    "\n",
    "#from keras.models import load_model\n",
    "from tensorflow.keras.models import load_model\n",
    "try:\n",
    "    #del model  # deletes the existing model\n",
    "    \n",
    "    model_restored = load_model(f\"{weights_save_path}saved_rossmann_bigmodel_and_weights.h5\")\n",
    "    #model.load_weights(f\"{weights_save_path}saved_model_big\")\n",
    "    #model.load_weights(f\"{file_save_path}best_weights\")\n",
    "    #model.load_weights(f\"{file_save_path}saved_model_backup_0.08630\")\n",
    "    print(\"Loading the saved model and its weights\")\n",
    "\n",
    "except Exception as ex:\n",
    "    print(\"Could not load the saved model and its weights\")\n",
    "    template = \"An exception of type {0} occurred. Arguments:\\n{1!r}\"\n",
    "    message = template.format(type(ex).__name__, ex.args)\n",
    "    print(message)"
   ]
  },
  {
   "cell_type": "markdown",
   "metadata": {
    "ExecuteTime": {
     "end_time": "2019-01-08T15:53:45.017354Z",
     "start_time": "2019-01-08T15:53:44.992293Z"
    }
   },
   "source": [
    "## Load the saved model's weights\n",
    "Useful for skipping training"
   ]
  },
  {
   "cell_type": "code",
   "execution_count": 18,
   "metadata": {
    "ExecuteTime": {
     "end_time": "2019-01-23T15:55:07.242363Z",
     "start_time": "2019-01-23T15:55:06.639292Z"
    }
   },
   "outputs": [
    {
     "name": "stdout",
     "output_type": "stream",
     "text": [
      "Loaded the saved model's' weights\n"
     ]
    }
   ],
   "source": [
    "#Load previously saved weights\n",
    "try:\n",
    "    #del model  # deletes the existing model\n",
    "    big_model.load_weights(f\"{weights_save_path}saved_model_big_v2\")\n",
    "    model=big_model\n",
    "    print(\"Loaded the saved model's' weights\")  \n",
    "except Exception as ex:\n",
    "    print(\"Could not load the saved model weights\")\n",
    "    template = \"An exception of type {0} occurred. Arguments:\\n{1!r}\"\n",
    "    message = template.format(type(ex).__name__, ex.args)\n",
    "    print(message)"
   ]
  },
  {
   "cell_type": "markdown",
   "metadata": {
    "heading_collapsed": true
   },
   "source": [
    "## Generating Predictions"
   ]
  },
  {
   "cell_type": "code",
   "execution_count": 19,
   "metadata": {
    "ExecuteTime": {
     "end_time": "2019-01-18T17:50:14.244732Z",
     "start_time": "2019-01-18T17:50:07.429922Z"
    },
    "hidden": true
   },
   "outputs": [
    {
     "data": {
      "text/plain": [
       "<module 'misc_utils' from '/home/dareksmyk/nbs/rossmann/misc_utils.py'>"
      ]
     },
     "execution_count": 19,
     "metadata": {},
     "output_type": "execute_result"
    },
    {
     "data": {
      "text/html": [
       "<div>\n",
       "<style scoped>\n",
       "    .dataframe tbody tr th:only-of-type {\n",
       "        vertical-align: middle;\n",
       "    }\n",
       "\n",
       "    .dataframe tbody tr th {\n",
       "        vertical-align: top;\n",
       "    }\n",
       "\n",
       "    .dataframe thead th {\n",
       "        text-align: right;\n",
       "    }\n",
       "</style>\n",
       "<table border=\"1\" class=\"dataframe\">\n",
       "  <thead>\n",
       "    <tr style=\"text-align: right;\">\n",
       "      <th></th>\n",
       "      <th>Id</th>\n",
       "      <th>Sales</th>\n",
       "    </tr>\n",
       "  </thead>\n",
       "  <tbody>\n",
       "    <tr>\n",
       "      <th>0</th>\n",
       "      <td>1</td>\n",
       "      <td>4281.158203</td>\n",
       "    </tr>\n",
       "    <tr>\n",
       "      <th>1</th>\n",
       "      <td>2</td>\n",
       "      <td>6933.355469</td>\n",
       "    </tr>\n",
       "    <tr>\n",
       "      <th>2</th>\n",
       "      <td>3</td>\n",
       "      <td>9123.801758</td>\n",
       "    </tr>\n",
       "    <tr>\n",
       "      <th>3</th>\n",
       "      <td>4</td>\n",
       "      <td>6714.728516</td>\n",
       "    </tr>\n",
       "    <tr>\n",
       "      <th>4</th>\n",
       "      <td>5</td>\n",
       "      <td>6888.197266</td>\n",
       "    </tr>\n",
       "  </tbody>\n",
       "</table>\n",
       "</div>"
      ],
      "text/plain": [
       "   Id        Sales\n",
       "0   1  4281.158203\n",
       "1   2  6933.355469\n",
       "2   3  9123.801758\n",
       "3   4  6714.728516\n",
       "4   5  6888.197266"
      ]
     },
     "execution_count": 19,
     "metadata": {},
     "output_type": "execute_result"
    }
   ],
   "source": [
    "from importlib import reload\n",
    "import misc_utils\n",
    "reload(misc_utils)\n",
    "preds_submit= misc_utils.generate_preds_df(big_model,joined_load_loc=f'{file_save_path}/joined_test.feather',cat_mapper=cat_mapper,contin_mapper=contin_mapper,output_col=\"Sales\")\n",
    "preds_submit.head()"
   ]
  },
  {
   "cell_type": "markdown",
   "metadata": {
    "hidden": true
   },
   "source": [
    "### Plotting Predictions on Train and Validation data"
   ]
  },
  {
   "cell_type": "code",
   "execution_count": 20,
   "metadata": {
    "ExecuteTime": {
     "end_time": "2019-01-18T17:52:03.270646Z",
     "start_time": "2019-01-18T17:50:23.212721Z"
    },
    "hidden": true
   },
   "outputs": [],
   "source": [
    "from misc_utils import get_train_and_valid_results\n",
    "#das get just selected columns\n",
    "save_train,save_valid= get_train_and_valid_results(big_model,train_input=map_train,valid_input=map_valid,\\\n",
    "                                                   train_df=train_df,valid_df=valid_df,\\\n",
    "                                                   return_col_list=[\"Store\",\"State\",\"DayOfWeek\",\"Sales\",\"Customers\",\"Open\",\"Promo\",\"StateHoliday\",\"SchoolHoliday\"],\\\n",
    "                                                   prediction_col_name=\"PredictedSales\")\n"
   ]
  },
  {
   "cell_type": "code",
   "execution_count": 21,
   "metadata": {
    "ExecuteTime": {
     "end_time": "2019-01-18T17:52:20.942999Z",
     "start_time": "2019-01-18T17:52:19.058229Z"
    },
    "hidden": true,
    "scrolled": true
   },
   "outputs": [
    {
     "data": {
      "text/plain": [
       "<module 'misc_utils' from '/home/dareksmyk/nbs/rossmann/misc_utils.py'>"
      ]
     },
     "execution_count": 21,
     "metadata": {},
     "output_type": "execute_result"
    },
    {
     "data": {
      "image/png": "[encoded data removed]",
      "text/plain": [
       "<Figure size 1800x720 with 1 Axes>"
      ]
     },
     "metadata": {
      "needs_background": "light"
     },
     "output_type": "display_data"
    },
    {
     "data": {
      "image/png": "[encoded data removed]",
      "text/plain": [
       "<Figure size 1800x720 with 1 Axes>"
      ]
     },
     "metadata": {
      "needs_background": "light"
     },
     "output_type": "display_data"
    }
   ],
   "source": [
    "reload(misc_utils)\n",
    "misc_utils.plot_results(\"Store\",1001,train_df=save_train, valid_df=save_valid,label_col=\"Sales\",prediction_col=\"PredictedSales\")"
   ]
  },
  {
   "cell_type": "markdown",
   "metadata": {
    "ExecuteTime": {
     "end_time": "2018-12-12T18:59:56.105515Z",
     "start_time": "2018-12-12T18:59:56.100594Z"
    },
    "hidden": true
   },
   "source": [
    "### Displaying embeddings in Tensorboard"
   ]
  },
  {
   "cell_type": "code",
   "execution_count": 117,
   "metadata": {
    "ExecuteTime": {
     "end_time": "2019-01-18T21:35:03.499543Z",
     "start_time": "2019-01-18T21:35:02.949476Z"
    },
    "hidden": true
   },
   "outputs": [
    {
     "data": {
      "text/plain": [
       "<module 'misc_utils' from '/home/dareksmyk/nbs/rossmann/misc_utils.py'>"
      ]
     },
     "execution_count": 117,
     "metadata": {},
     "output_type": "execute_result"
    }
   ],
   "source": [
    "reload(misc_utils)\n",
    "misc_utils.create_tboard_logs(big_model,cat_mapper)"
   ]
  },
  {
   "cell_type": "markdown",
   "metadata": {},
   "source": [
    "# SHAP"
   ]
  },
  {
   "cell_type": "code",
   "execution_count": 19,
   "metadata": {
    "ExecuteTime": {
     "end_time": "2019-01-23T15:55:12.085846Z",
     "start_time": "2019-01-23T15:55:11.849972Z"
    }
   },
   "outputs": [],
   "source": [
    "import shap"
   ]
  },
  {
   "cell_type": "code",
   "execution_count": 20,
   "metadata": {
    "ExecuteTime": {
     "end_time": "2019-01-23T15:55:13.511826Z",
     "start_time": "2019-01-23T15:55:13.104517Z"
    }
   },
   "outputs": [],
   "source": [
    "# select from the training set a set of background examples to take an expectation over\n",
    "\n",
    "subset_map_train = []\n",
    "\n",
    "for list_elem in map_train:\n",
    "    subset_of_rows = list_elem[np.random.choice(list_elem.shape[0], 100, replace=False)] \n",
    "    subset_map_train.append(subset_of_rows)\n",
    "   \n",
    "background = subset_map_train\n"
   ]
  },
  {
   "cell_type": "code",
   "execution_count": 21,
   "metadata": {
    "ExecuteTime": {
     "end_time": "2019-01-23T15:55:17.197550Z",
     "start_time": "2019-01-23T15:55:17.170418Z"
    }
   },
   "outputs": [],
   "source": [
    "#create a list of input layers\n",
    "inp_list=[big_model.layers[i[0]].input for i in [(i,x.name) for i,x in enumerate(big_model.layers) if \"_input\" in x.name]]"
   ]
  },
  {
   "cell_type": "code",
   "execution_count": 22,
   "metadata": {
    "ExecuteTime": {
     "end_time": "2019-01-23T15:55:18.491813Z",
     "start_time": "2019-01-23T15:55:18.450148Z"
    }
   },
   "outputs": [
    {
     "data": {
      "text/plain": [
       "list"
      ]
     },
     "execution_count": 22,
     "metadata": {},
     "output_type": "execute_result"
    },
    {
     "data": {
      "text/plain": [
       "25"
      ]
     },
     "execution_count": 22,
     "metadata": {},
     "output_type": "execute_result"
    },
    {
     "name": "stdout",
     "output_type": "stream",
     "text": [
      "Assortment_input:0\n",
      "CompetitionMonthsOpen_input:0\n",
      "CompetitionOpenSinceYear_input:0\n",
      "Day_input:0\n",
      "DayOfWeek_input:0\n",
      "Events_input:0\n",
      "Month_input:0\n",
      "Promo_input:0\n",
      "Promo2SinceYear_input:0\n",
      "Promo2Weeks_input:0\n",
      "PromoInterval_input:0\n",
      "Promo_bw_input:0\n",
      "Promo_fw_input:0\n",
      "SchoolHoliday_input:0\n",
      "SchoolHoliday_bw_input:0\n",
      "SchoolHoliday_fw_input:0\n",
      "State_input:0\n",
      "StateHoliday_input:0\n",
      "StateHoliday_bw_input:0\n",
      "StateHoliday_fw_input:0\n",
      "Store_input:0\n",
      "StoreType_input:0\n",
      "Week_input:0\n",
      "Year_input:0\n",
      "Continuous_variables_input:0\n"
     ]
    },
    {
     "data": {
      "text/plain": [
       "tensorflow.python.framework.ops.Tensor"
      ]
     },
     "execution_count": 22,
     "metadata": {},
     "output_type": "execute_result"
    },
    {
     "data": {
      "text/plain": [
       "<tf.Tensor 'Assortment_input:0' shape=(?, 1) dtype=int64>"
      ]
     },
     "execution_count": 22,
     "metadata": {},
     "output_type": "execute_result"
    },
    {
     "data": {
      "text/plain": [
       "tensorflow.python.framework.ops.Tensor"
      ]
     },
     "execution_count": 22,
     "metadata": {},
     "output_type": "execute_result"
    },
    {
     "data": {
      "text/plain": [
       "'Output/BiasAdd:0'"
      ]
     },
     "execution_count": 22,
     "metadata": {},
     "output_type": "execute_result"
    }
   ],
   "source": [
    "type(inp_list)\n",
    "len(inp_list)\n",
    "for x in inp_list:\n",
    "    print(x.name)\n",
    "\n",
    "type(inp_list[0])\n",
    "inp_list[0]\n",
    "type(model.layers[-1].output)\n",
    "(model.layers[-1].output).name"
   ]
  },
  {
   "cell_type": "code",
   "execution_count": 23,
   "metadata": {
    "ExecuteTime": {
     "end_time": "2019-01-23T15:55:29.224053Z",
     "start_time": "2019-01-23T15:55:28.856539Z"
    }
   },
   "outputs": [],
   "source": [
    "# Create a SHAP explainer\n",
    "e = shap.DeepExplainer((inp_list, big_model.layers[-1].output),background)"
   ]
  },
  {
   "cell_type": "code",
   "execution_count": 24,
   "metadata": {
    "ExecuteTime": {
     "end_time": "2019-01-23T15:56:29.691533Z",
     "start_time": "2019-01-23T15:56:29.631307Z"
    }
   },
   "outputs": [],
   "source": [
    "# Choose observations from the validation set for which predictions need to be explained\n",
    "#for now, randomly choose 4 observations\n",
    "\n",
    "subset_map_valid = []\n",
    "\n",
    "for list_elem in map_valid:\n",
    "\n",
    "    subset_of_rows = list_elem[np.random.choice(list_elem.shape[0], 4, replace=False)]\n",
    "    \n",
    "    subset_map_valid.append(subset_of_rows)\n",
    "\n",
    "\n"
   ]
  },
  {
   "cell_type": "code",
   "execution_count": 25,
   "metadata": {
    "ExecuteTime": {
     "end_time": "2019-01-23T15:56:37.831172Z",
     "start_time": "2019-01-23T15:56:37.308667Z"
    }
   },
   "outputs": [
    {
     "ename": "TypeError",
     "evalue": "Fetch argument None has invalid type <class 'NoneType'>",
     "output_type": "error",
     "traceback": [
      "\u001b[0;31m---------------------------------------------------------------------------\u001b[0m",
      "\u001b[0;31mTypeError\u001b[0m                                 Traceback (most recent call last)",
      "\u001b[0;32m<ipython-input-25-ce5e6d5e107c>\u001b[0m in \u001b[0;36m<module>\u001b[0;34m\u001b[0m\n\u001b[1;32m      1\u001b[0m \u001b[0;31m#explain predictions for the chosen observations\u001b[0m\u001b[0;34m\u001b[0m\u001b[0;34m\u001b[0m\u001b[0;34m\u001b[0m\u001b[0m\n\u001b[0;32m----> 2\u001b[0;31m \u001b[0mshap_values\u001b[0m \u001b[0;34m=\u001b[0m \u001b[0me\u001b[0m\u001b[0;34m.\u001b[0m\u001b[0mshap_values\u001b[0m\u001b[0;34m(\u001b[0m\u001b[0msubset_map_valid\u001b[0m\u001b[0;34m)\u001b[0m\u001b[0;34m\u001b[0m\u001b[0;34m\u001b[0m\u001b[0m\n\u001b[0m",
      "\u001b[0;32m/usr/local/bin/miniconda3/envs/dtf_cpu/lib/python3.6/site-packages/shap/explainers/deep/__init__.py\u001b[0m in \u001b[0;36mshap_values\u001b[0;34m(self, X, ranked_outputs, output_rank_order)\u001b[0m\n\u001b[1;32m    117\u001b[0m         \u001b[0mwere\u001b[0m \u001b[0mchosen\u001b[0m \u001b[0;32mas\u001b[0m \u001b[0;34m\"top\"\u001b[0m\u001b[0;34m.\u001b[0m\u001b[0;34m\u001b[0m\u001b[0;34m\u001b[0m\u001b[0m\n\u001b[1;32m    118\u001b[0m         \"\"\"\n\u001b[0;32m--> 119\u001b[0;31m         \u001b[0;32mreturn\u001b[0m \u001b[0mself\u001b[0m\u001b[0;34m.\u001b[0m\u001b[0mexplainer\u001b[0m\u001b[0;34m.\u001b[0m\u001b[0mshap_values\u001b[0m\u001b[0;34m(\u001b[0m\u001b[0mX\u001b[0m\u001b[0;34m,\u001b[0m \u001b[0mranked_outputs\u001b[0m\u001b[0;34m,\u001b[0m \u001b[0moutput_rank_order\u001b[0m\u001b[0;34m)\u001b[0m\u001b[0;34m\u001b[0m\u001b[0;34m\u001b[0m\u001b[0m\n\u001b[0m",
      "\u001b[0;32m/usr/local/bin/miniconda3/envs/dtf_cpu/lib/python3.6/site-packages/shap/explainers/deep/deep_tf.py\u001b[0m in \u001b[0;36mshap_values\u001b[0;34m(self, X, ranked_outputs, output_rank_order)\u001b[0m\n\u001b[1;32m    260\u001b[0m                 \u001b[0;31m# run attribution computation graph\u001b[0m\u001b[0;34m\u001b[0m\u001b[0;34m\u001b[0m\u001b[0;34m\u001b[0m\u001b[0m\n\u001b[1;32m    261\u001b[0m                 \u001b[0mfeature_ind\u001b[0m \u001b[0;34m=\u001b[0m \u001b[0mmodel_output_ranks\u001b[0m\u001b[0;34m[\u001b[0m\u001b[0mj\u001b[0m\u001b[0;34m,\u001b[0m\u001b[0mi\u001b[0m\u001b[0;34m]\u001b[0m\u001b[0;34m\u001b[0m\u001b[0;34m\u001b[0m\u001b[0m\n\u001b[0;32m--> 262\u001b[0;31m                 \u001b[0msample_phis\u001b[0m \u001b[0;34m=\u001b[0m \u001b[0mself\u001b[0m\u001b[0;34m.\u001b[0m\u001b[0mrun\u001b[0m\u001b[0;34m(\u001b[0m\u001b[0mself\u001b[0m\u001b[0;34m.\u001b[0m\u001b[0mphi_symbolic\u001b[0m\u001b[0;34m(\u001b[0m\u001b[0mfeature_ind\u001b[0m\u001b[0;34m)\u001b[0m\u001b[0;34m,\u001b[0m \u001b[0mself\u001b[0m\u001b[0;34m.\u001b[0m\u001b[0mmodel_inputs\u001b[0m\u001b[0;34m,\u001b[0m \u001b[0mjoint_input\u001b[0m\u001b[0;34m)\u001b[0m\u001b[0;34m\u001b[0m\u001b[0;34m\u001b[0m\u001b[0m\n\u001b[0m\u001b[1;32m    263\u001b[0m \u001b[0;34m\u001b[0m\u001b[0m\n\u001b[1;32m    264\u001b[0m                 \u001b[0;31m# assign the attributions to the right part of the output arrays\u001b[0m\u001b[0;34m\u001b[0m\u001b[0;34m\u001b[0m\u001b[0;34m\u001b[0m\u001b[0m\n",
      "\u001b[0;32m/usr/local/bin/miniconda3/envs/dtf_cpu/lib/python3.6/site-packages/shap/explainers/deep/deep_tf.py\u001b[0m in \u001b[0;36mrun\u001b[0;34m(self, out, model_inputs, X)\u001b[0m\n\u001b[1;32m    280\u001b[0m         \u001b[0;32mfor\u001b[0m \u001b[0mt\u001b[0m \u001b[0;32min\u001b[0m \u001b[0mself\u001b[0m\u001b[0;34m.\u001b[0m\u001b[0mlearning_phase_flags\u001b[0m\u001b[0;34m:\u001b[0m\u001b[0;34m\u001b[0m\u001b[0;34m\u001b[0m\u001b[0m\n\u001b[1;32m    281\u001b[0m             \u001b[0mfeed_dict\u001b[0m\u001b[0;34m[\u001b[0m\u001b[0mt\u001b[0m\u001b[0;34m]\u001b[0m \u001b[0;34m=\u001b[0m \u001b[0;32mFalse\u001b[0m\u001b[0;34m\u001b[0m\u001b[0;34m\u001b[0m\u001b[0m\n\u001b[0;32m--> 282\u001b[0;31m         \u001b[0;32mreturn\u001b[0m \u001b[0mself\u001b[0m\u001b[0;34m.\u001b[0m\u001b[0msession\u001b[0m\u001b[0;34m.\u001b[0m\u001b[0mrun\u001b[0m\u001b[0;34m(\u001b[0m\u001b[0mout\u001b[0m\u001b[0;34m,\u001b[0m \u001b[0mfeed_dict\u001b[0m\u001b[0;34m)\u001b[0m\u001b[0;34m\u001b[0m\u001b[0;34m\u001b[0m\u001b[0m\n\u001b[0m\u001b[1;32m    283\u001b[0m \u001b[0;34m\u001b[0m\u001b[0m\n\u001b[1;32m    284\u001b[0m     \u001b[0;32mdef\u001b[0m \u001b[0mcustom_grad\u001b[0m\u001b[0;34m(\u001b[0m\u001b[0mself\u001b[0m\u001b[0;34m,\u001b[0m \u001b[0mop\u001b[0m\u001b[0;34m,\u001b[0m \u001b[0;34m*\u001b[0m\u001b[0mgrads\u001b[0m\u001b[0;34m)\u001b[0m\u001b[0;34m:\u001b[0m\u001b[0;34m\u001b[0m\u001b[0;34m\u001b[0m\u001b[0m\n",
      "\u001b[0;32m/usr/local/bin/miniconda3/envs/dtf_cpu/lib/python3.6/site-packages/tensorflow/python/client/session.py\u001b[0m in \u001b[0;36mrun\u001b[0;34m(self, fetches, feed_dict, options, run_metadata)\u001b[0m\n\u001b[1;32m    927\u001b[0m     \u001b[0;32mtry\u001b[0m\u001b[0;34m:\u001b[0m\u001b[0;34m\u001b[0m\u001b[0;34m\u001b[0m\u001b[0m\n\u001b[1;32m    928\u001b[0m       result = self._run(None, fetches, feed_dict, options_ptr,\n\u001b[0;32m--> 929\u001b[0;31m                          run_metadata_ptr)\n\u001b[0m\u001b[1;32m    930\u001b[0m       \u001b[0;32mif\u001b[0m \u001b[0mrun_metadata\u001b[0m\u001b[0;34m:\u001b[0m\u001b[0;34m\u001b[0m\u001b[0;34m\u001b[0m\u001b[0m\n\u001b[1;32m    931\u001b[0m         \u001b[0mproto_data\u001b[0m \u001b[0;34m=\u001b[0m \u001b[0mtf_session\u001b[0m\u001b[0;34m.\u001b[0m\u001b[0mTF_GetBuffer\u001b[0m\u001b[0;34m(\u001b[0m\u001b[0mrun_metadata_ptr\u001b[0m\u001b[0;34m)\u001b[0m\u001b[0;34m\u001b[0m\u001b[0;34m\u001b[0m\u001b[0m\n",
      "\u001b[0;32m/usr/local/bin/miniconda3/envs/dtf_cpu/lib/python3.6/site-packages/tensorflow/python/client/session.py\u001b[0m in \u001b[0;36m_run\u001b[0;34m(self, handle, fetches, feed_dict, options, run_metadata)\u001b[0m\n\u001b[1;32m   1135\u001b[0m     \u001b[0;31m# Create a fetch handler to take care of the structure of fetches.\u001b[0m\u001b[0;34m\u001b[0m\u001b[0;34m\u001b[0m\u001b[0;34m\u001b[0m\u001b[0m\n\u001b[1;32m   1136\u001b[0m     fetch_handler = _FetchHandler(\n\u001b[0;32m-> 1137\u001b[0;31m         self._graph, fetches, feed_dict_tensor, feed_handles=feed_handles)\n\u001b[0m\u001b[1;32m   1138\u001b[0m \u001b[0;34m\u001b[0m\u001b[0m\n\u001b[1;32m   1139\u001b[0m     \u001b[0;31m# Run request and get response.\u001b[0m\u001b[0;34m\u001b[0m\u001b[0;34m\u001b[0m\u001b[0;34m\u001b[0m\u001b[0m\n",
      "\u001b[0;32m/usr/local/bin/miniconda3/envs/dtf_cpu/lib/python3.6/site-packages/tensorflow/python/client/session.py\u001b[0m in \u001b[0;36m__init__\u001b[0;34m(self, graph, fetches, feeds, feed_handles)\u001b[0m\n\u001b[1;32m    469\u001b[0m     \"\"\"\n\u001b[1;32m    470\u001b[0m     \u001b[0;32mwith\u001b[0m \u001b[0mgraph\u001b[0m\u001b[0;34m.\u001b[0m\u001b[0mas_default\u001b[0m\u001b[0;34m(\u001b[0m\u001b[0;34m)\u001b[0m\u001b[0;34m:\u001b[0m\u001b[0;34m\u001b[0m\u001b[0;34m\u001b[0m\u001b[0m\n\u001b[0;32m--> 471\u001b[0;31m       \u001b[0mself\u001b[0m\u001b[0;34m.\u001b[0m\u001b[0m_fetch_mapper\u001b[0m \u001b[0;34m=\u001b[0m \u001b[0m_FetchMapper\u001b[0m\u001b[0;34m.\u001b[0m\u001b[0mfor_fetch\u001b[0m\u001b[0;34m(\u001b[0m\u001b[0mfetches\u001b[0m\u001b[0;34m)\u001b[0m\u001b[0;34m\u001b[0m\u001b[0;34m\u001b[0m\u001b[0m\n\u001b[0m\u001b[1;32m    472\u001b[0m     \u001b[0mself\u001b[0m\u001b[0;34m.\u001b[0m\u001b[0m_fetches\u001b[0m \u001b[0;34m=\u001b[0m \u001b[0;34m[\u001b[0m\u001b[0;34m]\u001b[0m\u001b[0;34m\u001b[0m\u001b[0;34m\u001b[0m\u001b[0m\n\u001b[1;32m    473\u001b[0m     \u001b[0mself\u001b[0m\u001b[0;34m.\u001b[0m\u001b[0m_targets\u001b[0m \u001b[0;34m=\u001b[0m \u001b[0;34m[\u001b[0m\u001b[0;34m]\u001b[0m\u001b[0;34m\u001b[0m\u001b[0;34m\u001b[0m\u001b[0m\n",
      "\u001b[0;32m/usr/local/bin/miniconda3/envs/dtf_cpu/lib/python3.6/site-packages/tensorflow/python/client/session.py\u001b[0m in \u001b[0;36mfor_fetch\u001b[0;34m(fetch)\u001b[0m\n\u001b[1;32m    259\u001b[0m     \u001b[0;32melif\u001b[0m \u001b[0misinstance\u001b[0m\u001b[0;34m(\u001b[0m\u001b[0mfetch\u001b[0m\u001b[0;34m,\u001b[0m \u001b[0;34m(\u001b[0m\u001b[0mlist\u001b[0m\u001b[0;34m,\u001b[0m \u001b[0mtuple\u001b[0m\u001b[0;34m)\u001b[0m\u001b[0;34m)\u001b[0m\u001b[0;34m:\u001b[0m\u001b[0;34m\u001b[0m\u001b[0;34m\u001b[0m\u001b[0m\n\u001b[1;32m    260\u001b[0m       \u001b[0;31m# NOTE(touts): This is also the code path for namedtuples.\u001b[0m\u001b[0;34m\u001b[0m\u001b[0;34m\u001b[0m\u001b[0;34m\u001b[0m\u001b[0m\n\u001b[0;32m--> 261\u001b[0;31m       \u001b[0;32mreturn\u001b[0m \u001b[0m_ListFetchMapper\u001b[0m\u001b[0;34m(\u001b[0m\u001b[0mfetch\u001b[0m\u001b[0;34m)\u001b[0m\u001b[0;34m\u001b[0m\u001b[0;34m\u001b[0m\u001b[0m\n\u001b[0m\u001b[1;32m    262\u001b[0m     \u001b[0;32melif\u001b[0m \u001b[0misinstance\u001b[0m\u001b[0;34m(\u001b[0m\u001b[0mfetch\u001b[0m\u001b[0;34m,\u001b[0m \u001b[0mcollections\u001b[0m\u001b[0;34m.\u001b[0m\u001b[0mMapping\u001b[0m\u001b[0;34m)\u001b[0m\u001b[0;34m:\u001b[0m\u001b[0;34m\u001b[0m\u001b[0;34m\u001b[0m\u001b[0m\n\u001b[1;32m    263\u001b[0m       \u001b[0;32mreturn\u001b[0m \u001b[0m_DictFetchMapper\u001b[0m\u001b[0;34m(\u001b[0m\u001b[0mfetch\u001b[0m\u001b[0;34m)\u001b[0m\u001b[0;34m\u001b[0m\u001b[0;34m\u001b[0m\u001b[0m\n",
      "\u001b[0;32m/usr/local/bin/miniconda3/envs/dtf_cpu/lib/python3.6/site-packages/tensorflow/python/client/session.py\u001b[0m in \u001b[0;36m__init__\u001b[0;34m(self, fetches)\u001b[0m\n\u001b[1;32m    368\u001b[0m     \"\"\"\n\u001b[1;32m    369\u001b[0m     \u001b[0mself\u001b[0m\u001b[0;34m.\u001b[0m\u001b[0m_fetch_type\u001b[0m \u001b[0;34m=\u001b[0m \u001b[0mtype\u001b[0m\u001b[0;34m(\u001b[0m\u001b[0mfetches\u001b[0m\u001b[0;34m)\u001b[0m\u001b[0;34m\u001b[0m\u001b[0;34m\u001b[0m\u001b[0m\n\u001b[0;32m--> 370\u001b[0;31m     \u001b[0mself\u001b[0m\u001b[0;34m.\u001b[0m\u001b[0m_mappers\u001b[0m \u001b[0;34m=\u001b[0m \u001b[0;34m[\u001b[0m\u001b[0m_FetchMapper\u001b[0m\u001b[0;34m.\u001b[0m\u001b[0mfor_fetch\u001b[0m\u001b[0;34m(\u001b[0m\u001b[0mfetch\u001b[0m\u001b[0;34m)\u001b[0m \u001b[0;32mfor\u001b[0m \u001b[0mfetch\u001b[0m \u001b[0;32min\u001b[0m \u001b[0mfetches\u001b[0m\u001b[0;34m]\u001b[0m\u001b[0;34m\u001b[0m\u001b[0;34m\u001b[0m\u001b[0m\n\u001b[0m\u001b[1;32m    371\u001b[0m     \u001b[0mself\u001b[0m\u001b[0;34m.\u001b[0m\u001b[0m_unique_fetches\u001b[0m\u001b[0;34m,\u001b[0m \u001b[0mself\u001b[0m\u001b[0;34m.\u001b[0m\u001b[0m_value_indices\u001b[0m \u001b[0;34m=\u001b[0m \u001b[0m_uniquify_fetches\u001b[0m\u001b[0;34m(\u001b[0m\u001b[0mself\u001b[0m\u001b[0;34m.\u001b[0m\u001b[0m_mappers\u001b[0m\u001b[0;34m)\u001b[0m\u001b[0;34m\u001b[0m\u001b[0;34m\u001b[0m\u001b[0m\n\u001b[1;32m    372\u001b[0m \u001b[0;34m\u001b[0m\u001b[0m\n",
      "\u001b[0;32m/usr/local/bin/miniconda3/envs/dtf_cpu/lib/python3.6/site-packages/tensorflow/python/client/session.py\u001b[0m in \u001b[0;36m<listcomp>\u001b[0;34m(.0)\u001b[0m\n\u001b[1;32m    368\u001b[0m     \"\"\"\n\u001b[1;32m    369\u001b[0m     \u001b[0mself\u001b[0m\u001b[0;34m.\u001b[0m\u001b[0m_fetch_type\u001b[0m \u001b[0;34m=\u001b[0m \u001b[0mtype\u001b[0m\u001b[0;34m(\u001b[0m\u001b[0mfetches\u001b[0m\u001b[0;34m)\u001b[0m\u001b[0;34m\u001b[0m\u001b[0;34m\u001b[0m\u001b[0m\n\u001b[0;32m--> 370\u001b[0;31m     \u001b[0mself\u001b[0m\u001b[0;34m.\u001b[0m\u001b[0m_mappers\u001b[0m \u001b[0;34m=\u001b[0m \u001b[0;34m[\u001b[0m\u001b[0m_FetchMapper\u001b[0m\u001b[0;34m.\u001b[0m\u001b[0mfor_fetch\u001b[0m\u001b[0;34m(\u001b[0m\u001b[0mfetch\u001b[0m\u001b[0;34m)\u001b[0m \u001b[0;32mfor\u001b[0m \u001b[0mfetch\u001b[0m \u001b[0;32min\u001b[0m \u001b[0mfetches\u001b[0m\u001b[0;34m]\u001b[0m\u001b[0;34m\u001b[0m\u001b[0;34m\u001b[0m\u001b[0m\n\u001b[0m\u001b[1;32m    371\u001b[0m     \u001b[0mself\u001b[0m\u001b[0;34m.\u001b[0m\u001b[0m_unique_fetches\u001b[0m\u001b[0;34m,\u001b[0m \u001b[0mself\u001b[0m\u001b[0;34m.\u001b[0m\u001b[0m_value_indices\u001b[0m \u001b[0;34m=\u001b[0m \u001b[0m_uniquify_fetches\u001b[0m\u001b[0;34m(\u001b[0m\u001b[0mself\u001b[0m\u001b[0;34m.\u001b[0m\u001b[0m_mappers\u001b[0m\u001b[0;34m)\u001b[0m\u001b[0;34m\u001b[0m\u001b[0;34m\u001b[0m\u001b[0m\n\u001b[1;32m    372\u001b[0m \u001b[0;34m\u001b[0m\u001b[0m\n",
      "\u001b[0;32m/usr/local/bin/miniconda3/envs/dtf_cpu/lib/python3.6/site-packages/tensorflow/python/client/session.py\u001b[0m in \u001b[0;36mfor_fetch\u001b[0;34m(fetch)\u001b[0m\n\u001b[1;32m    256\u001b[0m     \u001b[0;32mif\u001b[0m \u001b[0mfetch\u001b[0m \u001b[0;32mis\u001b[0m \u001b[0;32mNone\u001b[0m\u001b[0;34m:\u001b[0m\u001b[0;34m\u001b[0m\u001b[0;34m\u001b[0m\u001b[0m\n\u001b[1;32m    257\u001b[0m       raise TypeError('Fetch argument %r has invalid type %r' % (fetch,\n\u001b[0;32m--> 258\u001b[0;31m                                                                  type(fetch)))\n\u001b[0m\u001b[1;32m    259\u001b[0m     \u001b[0;32melif\u001b[0m \u001b[0misinstance\u001b[0m\u001b[0;34m(\u001b[0m\u001b[0mfetch\u001b[0m\u001b[0;34m,\u001b[0m \u001b[0;34m(\u001b[0m\u001b[0mlist\u001b[0m\u001b[0;34m,\u001b[0m \u001b[0mtuple\u001b[0m\u001b[0;34m)\u001b[0m\u001b[0;34m)\u001b[0m\u001b[0;34m:\u001b[0m\u001b[0;34m\u001b[0m\u001b[0;34m\u001b[0m\u001b[0m\n\u001b[1;32m    260\u001b[0m       \u001b[0;31m# NOTE(touts): This is also the code path for namedtuples.\u001b[0m\u001b[0;34m\u001b[0m\u001b[0;34m\u001b[0m\u001b[0;34m\u001b[0m\u001b[0m\n",
      "\u001b[0;31mTypeError\u001b[0m: Fetch argument None has invalid type <class 'NoneType'>"
     ]
    }
   ],
   "source": [
    "#explain predictions for the chosen observations\n",
    "shap_values = e.shap_values(subset_map_valid)"
   ]
  },
  {
   "cell_type": "code",
   "execution_count": null,
   "metadata": {},
   "outputs": [],
   "source": []
  }
 ],
 "metadata": {
  "kernelspec": {
   "display_name": "Python 3",
   "language": "python",
   "name": "python3"
  },
  "language_info": {
   "codemirror_mode": {
    "name": "ipython",
    "version": 3
   },
   "file_extension": ".py",
   "mimetype": "text/x-python",
   "name": "python",
   "nbconvert_exporter": "python",
   "pygments_lexer": "ipython3",
   "version": "3.6.7"
  }
 },
 "nbformat": 4,
 "nbformat_minor": 2
}
